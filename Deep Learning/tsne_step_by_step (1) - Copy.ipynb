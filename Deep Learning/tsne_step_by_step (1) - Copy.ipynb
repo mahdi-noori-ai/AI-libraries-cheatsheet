{
 "cells": [
  {
   "cell_type": "markdown",
   "id": "f0cdc903",
   "metadata": {},
   "source": [
    "# t-Distributed Stochastic Neighbor Embedding (t-SNE) Step-by-Step Example\n",
    "\n",
    "This notebook provides a detailed, step-by-step guide to applying t-Distributed Stochastic Neighbor Embedding (t-SNE) on a dataset. We'll cover each step with explanations, code, and visualizations.\n",
    "\n",
    "## Step 1: What is t-SNE?\n",
    "\n",
    "t-Distributed Stochastic Neighbor Embedding (t-SNE) is a non-linear dimensionality reduction technique primarily used for the visualization of high-dimensional datasets. Unlike PCA or LDA, t-SNE is particularly good at preserving the local structure of data, making it very effective for visualizing clusters or patterns in complex datasets.\n",
    "\n",
    "t-SNE converts the similarities between data points into joint probabilities and tries to minimize the Kullback-Leibler divergence between the joint probabilities of the low-dimensional embedding and the high-dimensional data.\n",
    "\n",
    "## Step 2: Importing Required Libraries\n",
    "\n",
    "We'll start by importing the necessary libraries for this analysis, including NumPy, Pandas, Matplotlib, and Scikit-learn.\n"
   ]
  },
  {
   "cell_type": "code",
   "execution_count": null,
   "id": "e5ce3fb6",
   "metadata": {},
   "outputs": [],
   "source": [
    "import numpy as np\n",
    "import pandas as pd\n",
    "from sklearn.manifold import TSNE\n",
    "from sklearn.preprocessing import StandardScaler\n",
    "from sklearn.datasets import load_iris\n",
    "import matplotlib.pyplot as plt\n"
   ]
  },
  {
   "cell_type": "markdown",
   "id": "25e177d6",
   "metadata": {},
   "source": [
    "## Step 3: Loading and Understanding the Dataset\n",
    "\n",
    "For this demonstration, we'll use the Iris dataset, which contains 150 samples of iris flowers with 4 features each. The goal is to visualize the flowers in a 2D space to identify any inherent clusters.\n"
   ]
  },
  {
   "cell_type": "code",
   "execution_count": null,
   "id": "c28f538d",
   "metadata": {},
   "outputs": [],
   "source": [
    "# Load the Iris dataset\n",
    "iris = load_iris()\n",
    "X = iris.data\n",
    "y = iris.target\n",
    "df = pd.DataFrame(X, columns=iris.feature_names)\n",
    "df['species'] = y\n",
    "\n",
    "df.head()\n"
   ]
  },
  {
   "cell_type": "markdown",
   "id": "7d629db5",
   "metadata": {},
   "source": [
    "## Step 4: Data Standardization\n",
    "\n",
    "As with other dimensionality reduction techniques, it's important to standardize the data before applying t-SNE to ensure that each feature contributes equally to the result.\n"
   ]
  },
  {
   "cell_type": "code",
   "execution_count": null,
   "id": "07c6941a",
   "metadata": {},
   "outputs": [],
   "source": [
    "scaler = StandardScaler()\n",
    "X_scaled = scaler.fit_transform(X)\n"
   ]
  },
  {
   "cell_type": "markdown",
   "id": "74e9ae2f",
   "metadata": {},
   "source": [
    "## Step 5: Applying t-SNE\n",
    "\n",
    "We'll now apply t-SNE to reduce the data from 4 dimensions down to 2 dimensions. t-SNE has several important hyperparameters, such as `perplexity`, `learning_rate`, and `n_iter`. We'll use the default settings for this demonstration.\n"
   ]
  },
  {
   "cell_type": "code",
   "execution_count": null,
   "id": "069d680c",
   "metadata": {},
   "outputs": [],
   "source": [
    "tsne = TSNE(n_components=2, random_state=0)\n",
    "X_tsne = tsne.fit_transform(X_scaled)\n"
   ]
  },
  {
   "cell_type": "markdown",
   "id": "9e2d0ba2",
   "metadata": {},
   "source": [
    "## Step 6: Visualizing the t-SNE Results\n",
    "\n",
    "We can now visualize the data in the 2D space defined by the t-SNE transformation. This plot will help us understand the underlying structure of the dataset.\n"
   ]
  },
  {
   "cell_type": "code",
   "execution_count": null,
   "id": "096cf48c",
   "metadata": {},
   "outputs": [],
   "source": [
    "plt.figure(figsize=(8, 6))\n",
    "for species in np.unique(y):\n",
    "    plt.scatter(X_tsne[y == species, 0], X_tsne[y == species, 1], label=iris.target_names[species])\n",
    "plt.xlabel('t-SNE Feature 1')\n",
    "plt.ylabel('t-SNE Feature 2')\n",
    "plt.title('t-SNE: Iris Dataset')\n",
    "plt.legend(loc='best')\n",
    "plt.grid(True)\n",
    "plt.show()\n"
   ]
  }
 ],
 "metadata": {},
 "nbformat": 4,
 "nbformat_minor": 5
}
