{
 "cells": [
  {
   "cell_type": "markdown",
   "id": "27c5afd7",
   "metadata": {},
   "source": [
    "\n",
    "# Neural Networks with Convolutional Layers (CNNs) Overview\n",
    "\n",
    "This notebook provides an overview of Convolutional Neural Networks (CNNs), their architecture, how they work, and a basic implementation using the MNIST dataset.\n"
   ]
  },
  {
   "cell_type": "markdown",
   "id": "8a615b77",
   "metadata": {},
   "source": [
    "\n",
    "## Background\n",
    "\n",
    "### Convolutional Neural Networks (CNNs)\n",
    "\n",
    "CNNs are a class of deep neural networks commonly used to analyze visual imagery. They are designed to automatically and adaptively learn spatial hierarchies of features from input images.\n",
    "\n",
    "### Key Components of CNNs\n",
    "\n",
    "- **Convolutional Layers**: Apply convolution operations to extract features from input data.\n",
    "- **Pooling Layers**: Downsample the spatial dimensions, reducing the number of parameters and computation.\n",
    "- **Fully Connected Layers**: Perform the final classification or regression task.\n",
    "\n",
    "### Applications of CNNs\n",
    "\n",
    "CNNs are widely used in image and video recognition, recommender systems, image classification, medical image analysis, and more.\n"
   ]
  },
  {
   "cell_type": "markdown",
   "id": "4541e6b1",
   "metadata": {},
   "source": [
    "\n",
    "## Implementation in Python\n",
    "\n",
    "We'll implement a simple CNN using TensorFlow and Keras on the MNIST dataset.\n"
   ]
  },
  {
   "cell_type": "code",
   "execution_count": null,
   "id": "98006187",
   "metadata": {},
   "outputs": [],
   "source": [
    "\n",
    "import tensorflow as tf\n",
    "from tensorflow.keras import datasets, layers, models\n",
    "import matplotlib.pyplot as plt\n",
    "\n",
    "# Load and preprocess the MNIST dataset\n",
    "(x_train, y_train), (x_test, y_test) = datasets.mnist.load_data()\n",
    "x_train, x_test = x_train / 255.0, x_test / 255.0\n",
    "\n",
    "# Reshape the data for the CNN\n",
    "x_train = x_train.reshape(-1, 28, 28, 1)\n",
    "x_test = x_test.reshape(-1, 28, 28, 1)\n",
    "\n",
    "# Build the CNN model\n",
    "model = models.Sequential([\n",
    "    layers.Conv2D(32, (3, 3), activation='relu', input_shape=(28, 28, 1)),\n",
    "    layers.MaxPooling2D((2, 2)),\n",
    "    layers.Conv2D(64, (3, 3), activation='relu'),\n",
    "    layers.MaxPooling2D((2, 2)),\n",
    "    layers.Flatten(),\n",
    "    layers.Dense(64, activation='relu'),\n",
    "    layers.Dense(10, activation='softmax')\n",
    "])\n",
    "\n",
    "# Compile and train the model\n",
    "model.compile(optimizer='adam', loss='sparse_categorical_crossentropy', metrics=['accuracy'])\n",
    "model.fit(x_train, y_train, epochs=5, validation_data=(x_test, y_test))\n",
    "\n",
    "# Evaluate the model\n",
    "test_loss, test_acc = model.evaluate(x_test, y_test)\n",
    "print(f\"Test accuracy: {test_acc}\")\n",
    "\n",
    "# Plot sample images with predictions\n",
    "predictions = model.predict(x_test)\n",
    "\n",
    "plt.figure(figsize=(10,10))\n",
    "for i in range(25):\n",
    "    plt.subplot(5,5,i+1)\n",
    "    plt.xticks([])\n",
    "    plt.yticks([])\n",
    "    plt.grid(False)\n",
    "    plt.imshow(x_test[i].reshape(28, 28), cmap=plt.cm.binary)\n",
    "    plt.xlabel(f\"Pred: {predictions[i].argmax()}\")\n",
    "plt.show()\n"
   ]
  },
  {
   "cell_type": "markdown",
   "id": "4b182b8d",
   "metadata": {},
   "source": [
    "\n",
    "## Conclusion\n",
    "\n",
    "This notebook provided an overview of CNNs, their architecture, and a basic implementation using the MNIST dataset. CNNs are a powerful tool for image processing tasks, capable of learning complex features from visual data.\n"
   ]
  }
 ],
 "metadata": {},
 "nbformat": 4,
 "nbformat_minor": 5
}
