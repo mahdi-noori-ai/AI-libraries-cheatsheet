{
  "cells": [
    {
      "cell_type": "markdown",
      "id": "03e2ea46",
      "metadata": {
        "id": "03e2ea46"
      },
      "source": [
        "# Most Used Functions in Graph Neural Networks (GNN)"
      ]
    },
    {
      "cell_type": "markdown",
      "id": "7d7b2580",
      "metadata": {
        "id": "7d7b2580"
      },
      "source": [
        "Graph Neural Networks (GNNs) are a type of neural network designed to perform learning tasks on graph-structured data. They are used in various applications such as social network analysis, molecular chemistry, and recommendation systems. In this notebook, we will cover some of the most commonly used functions and techniques in GNNs using popular libraries such as PyTorch Geometric."
      ]
    },
    {
      "cell_type": "markdown",
      "id": "5641638c",
      "metadata": {
        "id": "5641638c"
      },
      "source": [
        "## 1. Graph Representation"
      ]
    },
    {
      "cell_type": "markdown",
      "id": "d4c3aab0",
      "metadata": {
        "id": "d4c3aab0"
      },
      "source": [
        "Graphs are represented using nodes (vertices) and edges. In PyTorch Geometric, graphs are typically represented using the `Data` class."
      ]
    },
    {
      "cell_type": "code",
      "execution_count": 3,
      "id": "7ac19235",
      "metadata": {
        "colab": {
          "base_uri": "https://localhost:8080/"
        },
        "id": "7ac19235",
        "outputId": "f18deaf4-11ec-4f26-8956-f438ca296122"
      },
      "outputs": [
        {
          "output_type": "stream",
          "name": "stdout",
          "text": [
            "Collecting torch_geometric\n",
            "  Downloading torch_geometric-2.5.3-py3-none-any.whl.metadata (64 kB)\n",
            "\u001b[?25l     \u001b[90m━━━━━━━━━━━━━━━━━━━━━━━━━━━━━━━━━━━━━━━━\u001b[0m \u001b[32m0.0/64.2 kB\u001b[0m \u001b[31m?\u001b[0m eta \u001b[36m-:--:--\u001b[0m\r\u001b[2K     \u001b[90m━━━━━━━━━━━━━━━━━━━━━━━━━━━━━━━━━━━━━━━━\u001b[0m \u001b[32m64.2/64.2 kB\u001b[0m \u001b[31m2.0 MB/s\u001b[0m eta \u001b[36m0:00:00\u001b[0m\n",
            "\u001b[?25hRequirement already satisfied: tqdm in /usr/local/lib/python3.10/dist-packages (from torch_geometric) (4.66.4)\n",
            "Requirement already satisfied: numpy in /usr/local/lib/python3.10/dist-packages (from torch_geometric) (1.26.4)\n",
            "Requirement already satisfied: scipy in /usr/local/lib/python3.10/dist-packages (from torch_geometric) (1.13.1)\n",
            "Requirement already satisfied: fsspec in /usr/local/lib/python3.10/dist-packages (from torch_geometric) (2024.6.1)\n",
            "Requirement already satisfied: jinja2 in /usr/local/lib/python3.10/dist-packages (from torch_geometric) (3.1.4)\n",
            "Requirement already satisfied: aiohttp in /usr/local/lib/python3.10/dist-packages (from torch_geometric) (3.9.5)\n",
            "Requirement already satisfied: requests in /usr/local/lib/python3.10/dist-packages (from torch_geometric) (2.31.0)\n",
            "Requirement already satisfied: pyparsing in /usr/local/lib/python3.10/dist-packages (from torch_geometric) (3.1.2)\n",
            "Requirement already satisfied: scikit-learn in /usr/local/lib/python3.10/dist-packages (from torch_geometric) (1.3.2)\n",
            "Requirement already satisfied: psutil>=5.8.0 in /usr/local/lib/python3.10/dist-packages (from torch_geometric) (5.9.5)\n",
            "Requirement already satisfied: aiosignal>=1.1.2 in /usr/local/lib/python3.10/dist-packages (from aiohttp->torch_geometric) (1.3.1)\n",
            "Requirement already satisfied: attrs>=17.3.0 in /usr/local/lib/python3.10/dist-packages (from aiohttp->torch_geometric) (23.2.0)\n",
            "Requirement already satisfied: frozenlist>=1.1.1 in /usr/local/lib/python3.10/dist-packages (from aiohttp->torch_geometric) (1.4.1)\n",
            "Requirement already satisfied: multidict<7.0,>=4.5 in /usr/local/lib/python3.10/dist-packages (from aiohttp->torch_geometric) (6.0.5)\n",
            "Requirement already satisfied: yarl<2.0,>=1.0 in /usr/local/lib/python3.10/dist-packages (from aiohttp->torch_geometric) (1.9.4)\n",
            "Requirement already satisfied: async-timeout<5.0,>=4.0 in /usr/local/lib/python3.10/dist-packages (from aiohttp->torch_geometric) (4.0.3)\n",
            "Requirement already satisfied: MarkupSafe>=2.0 in /usr/local/lib/python3.10/dist-packages (from jinja2->torch_geometric) (2.1.5)\n",
            "Requirement already satisfied: charset-normalizer<4,>=2 in /usr/local/lib/python3.10/dist-packages (from requests->torch_geometric) (3.3.2)\n",
            "Requirement already satisfied: idna<4,>=2.5 in /usr/local/lib/python3.10/dist-packages (from requests->torch_geometric) (3.7)\n",
            "Requirement already satisfied: urllib3<3,>=1.21.1 in /usr/local/lib/python3.10/dist-packages (from requests->torch_geometric) (2.0.7)\n",
            "Requirement already satisfied: certifi>=2017.4.17 in /usr/local/lib/python3.10/dist-packages (from requests->torch_geometric) (2024.7.4)\n",
            "Requirement already satisfied: joblib>=1.1.1 in /usr/local/lib/python3.10/dist-packages (from scikit-learn->torch_geometric) (1.4.2)\n",
            "Requirement already satisfied: threadpoolctl>=2.0.0 in /usr/local/lib/python3.10/dist-packages (from scikit-learn->torch_geometric) (3.5.0)\n",
            "Downloading torch_geometric-2.5.3-py3-none-any.whl (1.1 MB)\n",
            "\u001b[2K   \u001b[90m━━━━━━━━━━━━━━━━━━━━━━━━━━━━━━━━━━━━━━━━\u001b[0m \u001b[32m1.1/1.1 MB\u001b[0m \u001b[31m19.1 MB/s\u001b[0m eta \u001b[36m0:00:00\u001b[0m\n",
            "\u001b[?25hInstalling collected packages: torch_geometric\n",
            "Successfully installed torch_geometric-2.5.3\n",
            "Data(x=[3, 1], edge_index=[2, 4])\n"
          ]
        }
      ],
      "source": [
        "# Example: Graph Representation using PyTorch Geometric\n",
        "!pip install torch_geometric\n",
        "from torch_geometric.data import Data\n",
        "import torch\n",
        "\n",
        "# Define the graph\n",
        "edge_index = torch.tensor([[0, 1, 1, 2], [1, 0, 2, 1]], dtype=torch.long)\n",
        "x = torch.tensor([[-1], [0], [1]], dtype=torch.float)\n",
        "\n",
        "# Create the Data object\n",
        "data = Data(x=x, edge_index=edge_index)\n",
        "print(data)"
      ]
    },
    {
      "cell_type": "markdown",
      "id": "d176ce66",
      "metadata": {
        "id": "d176ce66"
      },
      "source": [
        "## 2. Graph Convolutional Network (GCN) Layer"
      ]
    },
    {
      "cell_type": "markdown",
      "id": "9bf6153f",
      "metadata": {
        "id": "9bf6153f"
      },
      "source": [
        "The Graph Convolutional Network (GCN) layer is a fundamental building block of GNNs. It applies convolution operations on graph-structured data."
      ]
    },
    {
      "cell_type": "code",
      "execution_count": 5,
      "id": "76483c57",
      "metadata": {
        "colab": {
          "base_uri": "https://localhost:8080/"
        },
        "id": "76483c57",
        "outputId": "09e1168e-f58a-48cb-9800-a4307e00ced8"
      },
      "outputs": [
        {
          "output_type": "stream",
          "name": "stdout",
          "text": [
            "tensor([[ 0.1881,  0.7039],\n",
            "        [ 0.0000,  0.0000],\n",
            "        [-0.1881, -0.7039]], grad_fn=<AddBackward0>)\n"
          ]
        }
      ],
      "source": [
        "# Example: GCN Layer using PyTorch Geometric\n",
        "from torch_geometric.nn import GCNConv\n",
        "\n",
        "# Define the GCN layer\n",
        "gcn = GCNConv(in_channels=1, out_channels=2)\n",
        "\n",
        "# Apply the GCN layer\n",
        "out = gcn(data.x, data.edge_index)\n",
        "print(out)"
      ]
    },
    {
      "cell_type": "markdown",
      "id": "d02afca4",
      "metadata": {
        "id": "d02afca4"
      },
      "source": [
        "## 3. Graph Attention Network (GAT) Layer"
      ]
    },
    {
      "cell_type": "markdown",
      "id": "269dd257",
      "metadata": {
        "id": "269dd257"
      },
      "source": [
        "The Graph Attention Network (GAT) layer uses attention mechanisms to weigh the importance of neighboring nodes."
      ]
    },
    {
      "cell_type": "code",
      "execution_count": 6,
      "id": "7d23c76e",
      "metadata": {
        "colab": {
          "base_uri": "https://localhost:8080/"
        },
        "id": "7d23c76e",
        "outputId": "1ace1fc4-f210-4378-ca57-7c17317631be"
      },
      "outputs": [
        {
          "output_type": "stream",
          "name": "stdout",
          "text": [
            "tensor([[ 0.1474,  0.0066,  0.0274,  0.1297],\n",
            "        [ 0.0144,  0.0007, -0.0075, -0.0356],\n",
            "        [-0.1368, -0.0062, -0.0328, -0.1553]], grad_fn=<AddBackward0>)\n"
          ]
        }
      ],
      "source": [
        "# Example: GAT Layer using PyTorch Geometric\n",
        "from torch_geometric.nn import GATConv\n",
        "\n",
        "# Define the GAT layer\n",
        "gat = GATConv(in_channels=1, out_channels=2, heads=2)\n",
        "\n",
        "# Apply the GAT layer\n",
        "out = gat(data.x, data.edge_index)\n",
        "print(out)"
      ]
    },
    {
      "cell_type": "markdown",
      "id": "b0b9aa0a",
      "metadata": {
        "id": "b0b9aa0a"
      },
      "source": [
        "## 4. GraphSAGE Layer"
      ]
    },
    {
      "cell_type": "markdown",
      "id": "983b2e88",
      "metadata": {
        "id": "983b2e88"
      },
      "source": [
        "GraphSAGE is a GNN layer that generates embeddings by sampling and aggregating features from a node's local neighborhood."
      ]
    },
    {
      "cell_type": "code",
      "execution_count": 7,
      "id": "f2fde05c",
      "metadata": {
        "colab": {
          "base_uri": "https://localhost:8080/"
        },
        "id": "f2fde05c",
        "outputId": "07d879b6-9a53-45b3-c910-02fd0bc84c76"
      },
      "outputs": [
        {
          "output_type": "stream",
          "name": "stdout",
          "text": [
            "tensor([[ 0.1337,  0.0333],\n",
            "        [-0.7531, -0.5699],\n",
            "        [-1.6400, -1.1731]], grad_fn=<AddBackward0>)\n"
          ]
        }
      ],
      "source": [
        "# Example: GraphSAGE Layer using PyTorch Geometric\n",
        "from torch_geometric.nn import SAGEConv\n",
        "\n",
        "# Define the GraphSAGE layer\n",
        "sage = SAGEConv(in_channels=1, out_channels=2)\n",
        "\n",
        "# Apply the GraphSAGE layer\n",
        "out = sage(data.x, data.edge_index)\n",
        "print(out)"
      ]
    },
    {
      "cell_type": "markdown",
      "id": "416e6831",
      "metadata": {
        "id": "416e6831"
      },
      "source": [
        "## 5. Pooling Layers"
      ]
    },
    {
      "cell_type": "markdown",
      "id": "3334ea96",
      "metadata": {
        "id": "3334ea96"
      },
      "source": [
        "Pooling layers are used to coarsen the graph by reducing the number of nodes while preserving the graph structure."
      ]
    },
    {
      "cell_type": "code",
      "execution_count": 8,
      "id": "42b06ddc",
      "metadata": {
        "colab": {
          "base_uri": "https://localhost:8080/"
        },
        "id": "42b06ddc",
        "outputId": "f45ae877-777d-419f-91e7-92dca1aa460d"
      },
      "outputs": [
        {
          "output_type": "stream",
          "name": "stdout",
          "text": [
            "tensor([[-0.3097, -0.2683],\n",
            "        [-1.6400, -1.1731]], grad_fn=<DivBackward0>)\n"
          ]
        }
      ],
      "source": [
        "# Example: Pooling Layer using PyTorch Geometric\n",
        "from torch_geometric.nn import global_mean_pool\n",
        "\n",
        "# Sample data for pooling\n",
        "batch = torch.tensor([0, 0, 1], dtype=torch.long)\n",
        "\n",
        "# Apply the pooling layer\n",
        "pooled = global_mean_pool(out, batch)\n",
        "print(pooled)"
      ]
    },
    {
      "cell_type": "markdown",
      "id": "2026cdf8",
      "metadata": {
        "id": "2026cdf8"
      },
      "source": [
        "## 6. Training a GNN Model"
      ]
    },
    {
      "cell_type": "markdown",
      "id": "991e3eac",
      "metadata": {
        "id": "991e3eac"
      },
      "source": [
        "Training a GNN model involves defining a model class, a loss function, and an optimizer. The training loop iterates over the data and updates the model parameters."
      ]
    },
    {
      "cell_type": "code",
      "execution_count": 9,
      "id": "0853cb1e",
      "metadata": {
        "colab": {
          "base_uri": "https://localhost:8080/"
        },
        "id": "0853cb1e",
        "outputId": "d363063c-4c21-477f-b024-49ae5ed520f0"
      },
      "outputs": [
        {
          "output_type": "stream",
          "name": "stdout",
          "text": [
            "Epoch 1, Loss: 0.5715527534484863\n",
            "Epoch 2, Loss: 0.548150360584259\n",
            "Epoch 3, Loss: 0.5258955359458923\n",
            "Epoch 4, Loss: 0.507640540599823\n",
            "Epoch 5, Loss: 0.49011269211769104\n",
            "Epoch 6, Loss: 0.4733084738254547\n",
            "Epoch 7, Loss: 0.45722317695617676\n",
            "Epoch 8, Loss: 0.44185081124305725\n",
            "Epoch 9, Loss: 0.4271838665008545\n",
            "Epoch 10, Loss: 0.4132134020328522\n",
            "Epoch 11, Loss: 0.39992907643318176\n",
            "Epoch 12, Loss: 0.38731908798217773\n",
            "Epoch 13, Loss: 0.3753702640533447\n",
            "Epoch 14, Loss: 0.3640683591365814\n",
            "Epoch 15, Loss: 0.3533976972103119\n",
            "Epoch 16, Loss: 0.3433417081832886\n",
            "Epoch 17, Loss: 0.3338828384876251\n",
            "Epoch 18, Loss: 0.3250025808811188\n",
            "Epoch 19, Loss: 0.316681832075119\n",
            "Epoch 20, Loss: 0.3089006543159485\n"
          ]
        },
        {
          "output_type": "stream",
          "name": "stderr",
          "text": [
            "/usr/local/lib/python3.10/dist-packages/torch/nn/modules/loss.py:535: UserWarning: Using a target size (torch.Size([3, 1])) that is different to the input size (torch.Size([3, 2])). This will likely lead to incorrect results due to broadcasting. Please ensure they have the same size.\n",
            "  return F.mse_loss(input, target, reduction=self.reduction)\n"
          ]
        }
      ],
      "source": [
        "# Example: Training a GNN Model using PyTorch Geometric\n",
        "import torch.nn.functional as F\n",
        "from torch_geometric.nn import GCNConv\n",
        "from torch.optim import Adam\n",
        "\n",
        "# Define the GNN model\n",
        "class GNN(torch.nn.Module):\n",
        "    def __init__(self):\n",
        "        super(GNN, self).__init__()\n",
        "        self.conv1 = GCNConv(in_channels=1, out_channels=2)\n",
        "        self.conv2 = GCNConv(in_channels=2, out_channels=2)\n",
        "\n",
        "    def forward(self, x, edge_index):\n",
        "        x = self.conv1(x, edge_index)\n",
        "        x = F.relu(x)\n",
        "        x = self.conv2(x, edge_index)\n",
        "        return x\n",
        "\n",
        "# Initialize the model, loss function, and optimizer\n",
        "model = GNN()\n",
        "optimizer = Adam(model.parameters(), lr=0.01)\n",
        "loss_fn = torch.nn.MSELoss()\n",
        "\n",
        "# Sample training data\n",
        "y = torch.tensor([[0], [1], [0]], dtype=torch.float)\n",
        "\n",
        "# Training loop\n",
        "model.train()\n",
        "for epoch in range(20):\n",
        "    optimizer.zero_grad()\n",
        "    out = model(data.x, data.edge_index)\n",
        "    loss = loss_fn(out, y)\n",
        "    loss.backward()\n",
        "    optimizer.step()\n",
        "\n",
        "    print(f'Epoch {epoch+1}, Loss: {loss.item()}')"
      ]
    },
    {
      "cell_type": "code",
      "source": [],
      "metadata": {
        "id": "iLe2BHerQive"
      },
      "id": "iLe2BHerQive",
      "execution_count": 9,
      "outputs": []
    }
  ],
  "metadata": {
    "colab": {
      "provenance": []
    },
    "language_info": {
      "name": "python"
    },
    "kernelspec": {
      "name": "python3",
      "display_name": "Python 3"
    }
  },
  "nbformat": 4,
  "nbformat_minor": 5
}