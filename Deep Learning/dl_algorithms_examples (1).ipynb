{
  "cells": [
    {
      "cell_type": "markdown",
      "id": "5044bd37",
      "metadata": {
        "id": "5044bd37"
      },
      "source": [
        "# Deep Learning Algorithms and Their Examples"
      ]
    },
    {
      "cell_type": "markdown",
      "id": "20acd43b",
      "metadata": {
        "id": "20acd43b"
      },
      "source": [
        "In this notebook, we will cover various deep learning algorithms along with examples of how to use them. We'll use popular Python libraries such as TensorFlow and Keras to implement these algorithms."
      ]
    },
    {
      "cell_type": "markdown",
      "id": "fecf4f3f",
      "metadata": {
        "id": "fecf4f3f"
      },
      "source": [
        "## 1. Artificial Neural Networks (ANN)"
      ]
    },
    {
      "cell_type": "markdown",
      "id": "2544eca7",
      "metadata": {
        "id": "2544eca7"
      },
      "source": [
        "ANNs are the foundation of deep learning, consisting of layers of neurons."
      ]
    },
    {
      "cell_type": "code",
      "execution_count": 1,
      "id": "fb6053a0",
      "metadata": {
        "colab": {
          "base_uri": "https://localhost:8080/"
        },
        "id": "fb6053a0",
        "outputId": "678218ad-9a6e-4c4b-8aa0-00c76b83d683"
      },
      "outputs": [
        {
          "output_type": "stream",
          "name": "stderr",
          "text": [
            "/usr/local/lib/python3.10/dist-packages/keras/src/layers/core/dense.py:87: UserWarning: Do not pass an `input_shape`/`input_dim` argument to a layer. When using Sequential models, prefer using an `Input(shape)` object as the first layer in the model instead.\n",
            "  super().__init__(activity_regularizer=activity_regularizer, **kwargs)\n"
          ]
        },
        {
          "output_type": "stream",
          "name": "stdout",
          "text": [
            "Accuracy: 0.5\n"
          ]
        }
      ],
      "source": [
        "# Example: Artificial Neural Network using Keras\n",
        "from tensorflow.keras.models import Sequential\n",
        "from tensorflow.keras.layers import Dense\n",
        "import numpy as np\n",
        "\n",
        "# Sample data\n",
        "X = np.array([[1, 2], [2, 3], [3, 4], [4, 5]])\n",
        "y = np.array([0, 0, 1, 1])\n",
        "\n",
        "# Define the model\n",
        "model = Sequential()\n",
        "model.add(Dense(4, input_dim=2, activation='relu'))\n",
        "model.add(Dense(1, activation='sigmoid'))\n",
        "\n",
        "# Compile the model\n",
        "model.compile(loss='binary_crossentropy', optimizer='adam', metrics=['accuracy'])\n",
        "\n",
        "# Train the model\n",
        "model.fit(X, y, epochs=50, verbose=0)\n",
        "\n",
        "# Evaluate the model\n",
        "loss, accuracy = model.evaluate(X, y, verbose=0)\n",
        "print(f'Accuracy: {accuracy}')"
      ]
    },
    {
      "cell_type": "markdown",
      "id": "47fb50da",
      "metadata": {
        "id": "47fb50da"
      },
      "source": [
        "## 2. Convolutional Neural Networks (CNN)"
      ]
    },
    {
      "cell_type": "markdown",
      "id": "f45ab0b4",
      "metadata": {
        "id": "f45ab0b4"
      },
      "source": [
        "CNNs are designed for processing structured grid data such as images."
      ]
    },
    {
      "cell_type": "code",
      "execution_count": 6,
      "id": "7a7617d1",
      "metadata": {
        "colab": {
          "base_uri": "https://localhost:8080/"
        },
        "id": "7a7617d1",
        "outputId": "305909c7-514f-4ac6-8b4a-d7f6545ac7d3"
      },
      "outputs": [
        {
          "output_type": "stream",
          "name": "stdout",
          "text": [
            "Accuracy: 1.0\n"
          ]
        }
      ],
      "source": [
        "# Example: Convolutional Neural Network using Keras\n",
        "from tensorflow.keras.models import Sequential\n",
        "from tensorflow.keras.layers import Conv2D, MaxPooling2D, Flatten, Dense\n",
        "import numpy as np\n",
        "\n",
        "# Define the model\n",
        "model = Sequential()\n",
        "model.add(Conv2D(32, (3, 3), activation='relu', input_shape=(28, 28, 1)))\n",
        "model.add(MaxPooling2D((2, 2)))\n",
        "model.add(Flatten())\n",
        "model.add(Dense(64, activation='relu'))\n",
        "model.add(Dense(10, activation='softmax'))\n",
        "\n",
        "# Compile the model\n",
        "model.compile(optimizer='adam', loss='sparse_categorical_crossentropy', metrics=['accuracy'])\n",
        "\n",
        "# Sample data\n",
        "X = np.random.random((100, 28, 28, 1))\n",
        "y = np.random.randint(10, size=(100,))\n",
        "\n",
        "# Train the model\n",
        "model.fit(X, y, epochs=50, verbose=0)\n",
        "\n",
        "# Evaluate the model\n",
        "loss, accuracy = model.evaluate(X, y, verbose=0)\n",
        "print(f'Accuracy: {accuracy}')"
      ]
    },
    {
      "cell_type": "markdown",
      "id": "eb0db66b",
      "metadata": {
        "id": "eb0db66b"
      },
      "source": [
        "## 3. Recurrent Neural Networks (RNN)"
      ]
    },
    {
      "cell_type": "markdown",
      "id": "211cea4b",
      "metadata": {
        "id": "211cea4b"
      },
      "source": [
        "RNNs are designed for sequential data such as time series or text."
      ]
    },
    {
      "cell_type": "code",
      "execution_count": 7,
      "id": "472626a4",
      "metadata": {
        "colab": {
          "base_uri": "https://localhost:8080/"
        },
        "id": "472626a4",
        "outputId": "dcc253d6-d595-4bba-c44d-fe7ac03590dd"
      },
      "outputs": [
        {
          "output_type": "stream",
          "name": "stdout",
          "text": [
            "Accuracy: 0.5099999904632568\n"
          ]
        }
      ],
      "source": [
        "# Example: Recurrent Neural Network using Keras\n",
        "from tensorflow.keras.models import Sequential\n",
        "from tensorflow.keras.layers import SimpleRNN, Dense\n",
        "import numpy as np\n",
        "\n",
        "# Define the model\n",
        "model = Sequential()\n",
        "model.add(SimpleRNN(50, input_shape=(10, 1)))\n",
        "model.add(Dense(1, activation='sigmoid'))\n",
        "\n",
        "# Compile the model\n",
        "model.compile(optimizer='adam', loss='binary_crossentropy', metrics=['accuracy'])\n",
        "\n",
        "# Sample data\n",
        "X = np.random.random((100, 10, 1))\n",
        "y = np.random.randint(2, size=(100,))\n",
        "\n",
        "# Train the model\n",
        "model.fit(X, y, epochs=5, verbose=0)\n",
        "\n",
        "# Evaluate the model\n",
        "loss, accuracy = model.evaluate(X, y, verbose=0)\n",
        "print(f'Accuracy: {accuracy}')"
      ]
    },
    {
      "cell_type": "markdown",
      "id": "52f802bc",
      "metadata": {
        "id": "52f802bc"
      },
      "source": [
        "## 4. Long Short-Term Memory (LSTM)"
      ]
    },
    {
      "cell_type": "markdown",
      "id": "096e64f1",
      "metadata": {
        "id": "096e64f1"
      },
      "source": [
        "LSTM networks are a type of RNN capable of learning long-term dependencies."
      ]
    },
    {
      "cell_type": "code",
      "execution_count": 8,
      "id": "d0038a2b",
      "metadata": {
        "colab": {
          "base_uri": "https://localhost:8080/"
        },
        "id": "d0038a2b",
        "outputId": "6e517150-8a4b-4db9-e6b7-5d4baa49b98b"
      },
      "outputs": [
        {
          "output_type": "stream",
          "name": "stdout",
          "text": [
            "Accuracy: 0.5400000214576721\n"
          ]
        }
      ],
      "source": [
        "# Example: Long Short-Term Memory Network using Keras\n",
        "from tensorflow.keras.models import Sequential\n",
        "from tensorflow.keras.layers import LSTM, Dense\n",
        "import numpy as np\n",
        "\n",
        "# Define the model\n",
        "model = Sequential()\n",
        "model.add(LSTM(50, input_shape=(10, 1)))\n",
        "model.add(Dense(1, activation='sigmoid'))\n",
        "\n",
        "# Compile the model\n",
        "model.compile(optimizer='adam', loss='binary_crossentropy', metrics=['accuracy'])\n",
        "\n",
        "# Sample data\n",
        "X = np.random.random((100, 10, 1))\n",
        "y = np.random.randint(2, size=(100,))\n",
        "\n",
        "# Train the model\n",
        "model.fit(X, y, epochs=5, verbose=0)\n",
        "\n",
        "# Evaluate the model\n",
        "loss, accuracy = model.evaluate(X, y, verbose=0)\n",
        "print(f'Accuracy: {accuracy}')"
      ]
    },
    {
      "cell_type": "markdown",
      "id": "4da900d1",
      "metadata": {
        "id": "4da900d1"
      },
      "source": [
        "## 5. Gated Recurrent Unit (GRU)"
      ]
    },
    {
      "cell_type": "markdown",
      "id": "a5c56cc1",
      "metadata": {
        "id": "a5c56cc1"
      },
      "source": [
        "GRUs are a type of RNN similar to LSTMs but with a simpler structure."
      ]
    },
    {
      "cell_type": "code",
      "execution_count": 9,
      "id": "3350b06b",
      "metadata": {
        "colab": {
          "base_uri": "https://localhost:8080/"
        },
        "id": "3350b06b",
        "outputId": "029e5a2b-0958-4d27-ff8e-fde7c8c58920"
      },
      "outputs": [
        {
          "output_type": "stream",
          "name": "stdout",
          "text": [
            "Accuracy: 0.5799999833106995\n"
          ]
        }
      ],
      "source": [
        "# Example: Gated Recurrent Unit using Keras\n",
        "from tensorflow.keras.models import Sequential\n",
        "from tensorflow.keras.layers import GRU, Dense\n",
        "import numpy as np\n",
        "\n",
        "# Define the model\n",
        "model = Sequential()\n",
        "model.add(GRU(50, input_shape=(10, 1)))\n",
        "model.add(Dense(1, activation='sigmoid'))\n",
        "\n",
        "# Compile the model\n",
        "model.compile(optimizer='adam', loss='binary_crossentropy', metrics=['accuracy'])\n",
        "\n",
        "# Sample data\n",
        "X = np.random.random((100, 10, 1))\n",
        "y = np.random.randint(2, size=(100,))\n",
        "\n",
        "# Train the model\n",
        "model.fit(X, y, epochs=5, verbose=0)\n",
        "\n",
        "# Evaluate the model\n",
        "loss, accuracy = model.evaluate(X, y, verbose=0)\n",
        "print(f'Accuracy: {accuracy}')"
      ]
    }
  ],
  "metadata": {
    "colab": {
      "provenance": []
    },
    "language_info": {
      "name": "python"
    },
    "kernelspec": {
      "name": "python3",
      "display_name": "Python 3"
    }
  },
  "nbformat": 4,
  "nbformat_minor": 5
}