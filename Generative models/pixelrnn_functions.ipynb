{
  "cells": [
    {
      "cell_type": "markdown",
      "id": "ceb5cc19",
      "metadata": {
        "id": "ceb5cc19"
      },
      "source": [
        "# Most Used Functions in PixelRNN"
      ]
    },
    {
      "cell_type": "markdown",
      "id": "c1d64c53",
      "metadata": {
        "id": "c1d64c53"
      },
      "source": [
        "PixelRNN is a type of neural network that generates images pixel by pixel. It leverages recurrent neural networks (RNNs) to model the conditional distribution of each pixel given the previous pixels. In this notebook, we will cover some of the most commonly used functions and techniques for implementing a simplified version of PixelRNN using TensorFlow and Keras."
      ]
    },
    {
      "cell_type": "markdown",
      "id": "fa6e50ad",
      "metadata": {
        "id": "fa6e50ad"
      },
      "source": [
        "## 1. Building the PixelRNN Layer"
      ]
    },
    {
      "cell_type": "markdown",
      "id": "7899777c",
      "metadata": {
        "id": "7899777c"
      },
      "source": [
        "The core of PixelRNN is the RNN layer that processes the image pixel by pixel. Here we define a custom PixelRNN layer."
      ]
    },
    {
      "cell_type": "code",
      "execution_count": 1,
      "id": "57315d62",
      "metadata": {
        "id": "57315d62"
      },
      "outputs": [],
      "source": [
        "import tensorflow as tf\n",
        "from tensorflow.keras.layers import Conv2D, LSTM, Reshape, Layer, Input\n",
        "from tensorflow.keras.models import Model\n",
        "import numpy as np\n",
        "\n",
        "class PixelRNNLayer(Layer):\n",
        "    def __init__(self, filters, kernel_size, **kwargs):\n",
        "        super(PixelRNNLayer, self).__init__(**kwargs)\n",
        "        self.filters = filters\n",
        "        self.kernel_size = kernel_size\n",
        "        self.conv1 = Conv2D(filters, kernel_size, padding='same', activation='relu')\n",
        "        self.conv2 = Conv2D(filters, kernel_size, padding='same', activation='relu')\n",
        "        self.lstm = LSTM(filters, return_sequences=True)\n",
        "\n",
        "    def build(self, input_shape):\n",
        "        super(PixelRNNLayer, self).build(input_shape)\n",
        "\n",
        "    def call(self, inputs):\n",
        "        x = self.conv1(inputs)\n",
        "        x = self.conv2(x)\n",
        "        x = Reshape((-1, self.filters))(x)\n",
        "        x = self.lstm(x)\n",
        "        x = Reshape((inputs.shape[1], inputs.shape[2], self.filters))(x)\n",
        "        return x\n",
        "\n",
        "    def compute_output_shape(self, input_shape):\n",
        "        return input_shape[0], input_shape[1], input_shape[2], self.filters\n"
      ]
    },
    {
      "cell_type": "markdown",
      "id": "6f4f6428",
      "metadata": {
        "id": "6f4f6428"
      },
      "source": [
        "## 2. Building the PixelRNN Model"
      ]
    },
    {
      "cell_type": "markdown",
      "id": "a2614202",
      "metadata": {
        "id": "a2614202"
      },
      "source": [
        "The PixelRNN model stacks several PixelRNN layers and outputs a distribution over pixel values for each pixel in the image."
      ]
    },
    {
      "cell_type": "code",
      "execution_count": 2,
      "id": "9c9aa05b",
      "metadata": {
        "id": "9c9aa05b"
      },
      "outputs": [],
      "source": [
        "# Function to build a PixelRNN model using the custom layer\n",
        "def build_pixelrnn(input_shape, num_layers, filters, kernel_size):\n",
        "    inputs = Input(shape=input_shape)\n",
        "    x = inputs\n",
        "    for _ in range(num_layers):\n",
        "        x = PixelRNNLayer(filters, kernel_size)(x)\n",
        "    x = Conv2D(filters, (1, 1), activation='relu')(x)  # Reduce channels to 1\n",
        "    outputs = Conv2D(1, (1, 1), activation='sigmoid')(x)\n",
        "    model = Model(inputs, outputs)\n",
        "    return model"
      ]
    },
    {
      "cell_type": "markdown",
      "id": "264ff092",
      "metadata": {
        "id": "264ff092"
      },
      "source": [
        "PixelRNN requires image data to be prepared in a specific way. Each image is processed pixel by pixel."
      ]
    },
    {
      "cell_type": "code",
      "execution_count": 3,
      "id": "a899470d",
      "metadata": {
        "colab": {
          "base_uri": "https://localhost:8080/",
          "height": 321
        },
        "id": "a899470d",
        "outputId": "7226dbb1-bde1-40c4-b6d1-1757eae495aa"
      },
      "outputs": [
        {
          "output_type": "display_data",
          "data": {
            "text/plain": [
              "\u001b[1mModel: \"functional\"\u001b[0m\n"
            ],
            "text/html": [
              "<pre style=\"white-space:pre;overflow-x:auto;line-height:normal;font-family:Menlo,'DejaVu Sans Mono',consolas,'Courier New',monospace\"><span style=\"font-weight: bold\">Model: \"functional\"</span>\n",
              "</pre>\n"
            ]
          },
          "metadata": {}
        },
        {
          "output_type": "display_data",
          "data": {
            "text/plain": [
              "┏━━━━━━━━━━━━━━━━━━━━━━━━━━━━━━━━━━━━━━┳━━━━━━━━━━━━━━━━━━━━━━━━━━━━━┳━━━━━━━━━━━━━━━━━┓\n",
              "┃\u001b[1m \u001b[0m\u001b[1mLayer (type)                        \u001b[0m\u001b[1m \u001b[0m┃\u001b[1m \u001b[0m\u001b[1mOutput Shape               \u001b[0m\u001b[1m \u001b[0m┃\u001b[1m \u001b[0m\u001b[1m        Param #\u001b[0m\u001b[1m \u001b[0m┃\n",
              "┡━━━━━━━━━━━━━━━━━━━━━━━━━━━━━━━━━━━━━━╇━━━━━━━━━━━━━━━━━━━━━━━━━━━━━╇━━━━━━━━━━━━━━━━━┩\n",
              "│ input_layer (\u001b[38;5;33mInputLayer\u001b[0m)             │ (\u001b[38;5;45mNone\u001b[0m, \u001b[38;5;34m28\u001b[0m, \u001b[38;5;34m28\u001b[0m, \u001b[38;5;34m1\u001b[0m)           │               \u001b[38;5;34m0\u001b[0m │\n",
              "├──────────────────────────────────────┼─────────────────────────────┼─────────────────┤\n",
              "│ pixel_rnn_layer (\u001b[38;5;33mPixelRNNLayer\u001b[0m)      │ (\u001b[38;5;45mNone\u001b[0m, \u001b[38;5;34m28\u001b[0m, \u001b[38;5;34m28\u001b[0m, \u001b[38;5;34m64\u001b[0m)          │               \u001b[38;5;34m0\u001b[0m │\n",
              "├──────────────────────────────────────┼─────────────────────────────┼─────────────────┤\n",
              "│ pixel_rnn_layer_1 (\u001b[38;5;33mPixelRNNLayer\u001b[0m)    │ (\u001b[38;5;45mNone\u001b[0m, \u001b[38;5;34m28\u001b[0m, \u001b[38;5;34m28\u001b[0m, \u001b[38;5;34m64\u001b[0m)          │               \u001b[38;5;34m0\u001b[0m │\n",
              "├──────────────────────────────────────┼─────────────────────────────┼─────────────────┤\n",
              "│ pixel_rnn_layer_2 (\u001b[38;5;33mPixelRNNLayer\u001b[0m)    │ (\u001b[38;5;45mNone\u001b[0m, \u001b[38;5;34m28\u001b[0m, \u001b[38;5;34m28\u001b[0m, \u001b[38;5;34m64\u001b[0m)          │               \u001b[38;5;34m0\u001b[0m │\n",
              "├──────────────────────────────────────┼─────────────────────────────┼─────────────────┤\n",
              "│ conv2d_6 (\u001b[38;5;33mConv2D\u001b[0m)                    │ (\u001b[38;5;45mNone\u001b[0m, \u001b[38;5;34m28\u001b[0m, \u001b[38;5;34m28\u001b[0m, \u001b[38;5;34m64\u001b[0m)          │           \u001b[38;5;34m4,160\u001b[0m │\n",
              "├──────────────────────────────────────┼─────────────────────────────┼─────────────────┤\n",
              "│ conv2d_7 (\u001b[38;5;33mConv2D\u001b[0m)                    │ (\u001b[38;5;45mNone\u001b[0m, \u001b[38;5;34m28\u001b[0m, \u001b[38;5;34m28\u001b[0m, \u001b[38;5;34m1\u001b[0m)           │              \u001b[38;5;34m65\u001b[0m │\n",
              "└──────────────────────────────────────┴─────────────────────────────┴─────────────────┘\n"
            ],
            "text/html": [
              "<pre style=\"white-space:pre;overflow-x:auto;line-height:normal;font-family:Menlo,'DejaVu Sans Mono',consolas,'Courier New',monospace\">┏━━━━━━━━━━━━━━━━━━━━━━━━━━━━━━━━━━━━━━┳━━━━━━━━━━━━━━━━━━━━━━━━━━━━━┳━━━━━━━━━━━━━━━━━┓\n",
              "┃<span style=\"font-weight: bold\"> Layer (type)                         </span>┃<span style=\"font-weight: bold\"> Output Shape                </span>┃<span style=\"font-weight: bold\">         Param # </span>┃\n",
              "┡━━━━━━━━━━━━━━━━━━━━━━━━━━━━━━━━━━━━━━╇━━━━━━━━━━━━━━━━━━━━━━━━━━━━━╇━━━━━━━━━━━━━━━━━┩\n",
              "│ input_layer (<span style=\"color: #0087ff; text-decoration-color: #0087ff\">InputLayer</span>)             │ (<span style=\"color: #00d7ff; text-decoration-color: #00d7ff\">None</span>, <span style=\"color: #00af00; text-decoration-color: #00af00\">28</span>, <span style=\"color: #00af00; text-decoration-color: #00af00\">28</span>, <span style=\"color: #00af00; text-decoration-color: #00af00\">1</span>)           │               <span style=\"color: #00af00; text-decoration-color: #00af00\">0</span> │\n",
              "├──────────────────────────────────────┼─────────────────────────────┼─────────────────┤\n",
              "│ pixel_rnn_layer (<span style=\"color: #0087ff; text-decoration-color: #0087ff\">PixelRNNLayer</span>)      │ (<span style=\"color: #00d7ff; text-decoration-color: #00d7ff\">None</span>, <span style=\"color: #00af00; text-decoration-color: #00af00\">28</span>, <span style=\"color: #00af00; text-decoration-color: #00af00\">28</span>, <span style=\"color: #00af00; text-decoration-color: #00af00\">64</span>)          │               <span style=\"color: #00af00; text-decoration-color: #00af00\">0</span> │\n",
              "├──────────────────────────────────────┼─────────────────────────────┼─────────────────┤\n",
              "│ pixel_rnn_layer_1 (<span style=\"color: #0087ff; text-decoration-color: #0087ff\">PixelRNNLayer</span>)    │ (<span style=\"color: #00d7ff; text-decoration-color: #00d7ff\">None</span>, <span style=\"color: #00af00; text-decoration-color: #00af00\">28</span>, <span style=\"color: #00af00; text-decoration-color: #00af00\">28</span>, <span style=\"color: #00af00; text-decoration-color: #00af00\">64</span>)          │               <span style=\"color: #00af00; text-decoration-color: #00af00\">0</span> │\n",
              "├──────────────────────────────────────┼─────────────────────────────┼─────────────────┤\n",
              "│ pixel_rnn_layer_2 (<span style=\"color: #0087ff; text-decoration-color: #0087ff\">PixelRNNLayer</span>)    │ (<span style=\"color: #00d7ff; text-decoration-color: #00d7ff\">None</span>, <span style=\"color: #00af00; text-decoration-color: #00af00\">28</span>, <span style=\"color: #00af00; text-decoration-color: #00af00\">28</span>, <span style=\"color: #00af00; text-decoration-color: #00af00\">64</span>)          │               <span style=\"color: #00af00; text-decoration-color: #00af00\">0</span> │\n",
              "├──────────────────────────────────────┼─────────────────────────────┼─────────────────┤\n",
              "│ conv2d_6 (<span style=\"color: #0087ff; text-decoration-color: #0087ff\">Conv2D</span>)                    │ (<span style=\"color: #00d7ff; text-decoration-color: #00d7ff\">None</span>, <span style=\"color: #00af00; text-decoration-color: #00af00\">28</span>, <span style=\"color: #00af00; text-decoration-color: #00af00\">28</span>, <span style=\"color: #00af00; text-decoration-color: #00af00\">64</span>)          │           <span style=\"color: #00af00; text-decoration-color: #00af00\">4,160</span> │\n",
              "├──────────────────────────────────────┼─────────────────────────────┼─────────────────┤\n",
              "│ conv2d_7 (<span style=\"color: #0087ff; text-decoration-color: #0087ff\">Conv2D</span>)                    │ (<span style=\"color: #00d7ff; text-decoration-color: #00d7ff\">None</span>, <span style=\"color: #00af00; text-decoration-color: #00af00\">28</span>, <span style=\"color: #00af00; text-decoration-color: #00af00\">28</span>, <span style=\"color: #00af00; text-decoration-color: #00af00\">1</span>)           │              <span style=\"color: #00af00; text-decoration-color: #00af00\">65</span> │\n",
              "└──────────────────────────────────────┴─────────────────────────────┴─────────────────┘\n",
              "</pre>\n"
            ]
          },
          "metadata": {}
        },
        {
          "output_type": "display_data",
          "data": {
            "text/plain": [
              "\u001b[1m Total params: \u001b[0m\u001b[38;5;34m4,225\u001b[0m (16.50 KB)\n"
            ],
            "text/html": [
              "<pre style=\"white-space:pre;overflow-x:auto;line-height:normal;font-family:Menlo,'DejaVu Sans Mono',consolas,'Courier New',monospace\"><span style=\"font-weight: bold\"> Total params: </span><span style=\"color: #00af00; text-decoration-color: #00af00\">4,225</span> (16.50 KB)\n",
              "</pre>\n"
            ]
          },
          "metadata": {}
        },
        {
          "output_type": "display_data",
          "data": {
            "text/plain": [
              "\u001b[1m Trainable params: \u001b[0m\u001b[38;5;34m4,225\u001b[0m (16.50 KB)\n"
            ],
            "text/html": [
              "<pre style=\"white-space:pre;overflow-x:auto;line-height:normal;font-family:Menlo,'DejaVu Sans Mono',consolas,'Courier New',monospace\"><span style=\"font-weight: bold\"> Trainable params: </span><span style=\"color: #00af00; text-decoration-color: #00af00\">4,225</span> (16.50 KB)\n",
              "</pre>\n"
            ]
          },
          "metadata": {}
        },
        {
          "output_type": "display_data",
          "data": {
            "text/plain": [
              "\u001b[1m Non-trainable params: \u001b[0m\u001b[38;5;34m0\u001b[0m (0.00 B)\n"
            ],
            "text/html": [
              "<pre style=\"white-space:pre;overflow-x:auto;line-height:normal;font-family:Menlo,'DejaVu Sans Mono',consolas,'Courier New',monospace\"><span style=\"font-weight: bold\"> Non-trainable params: </span><span style=\"color: #00af00; text-decoration-color: #00af00\">0</span> (0.00 B)\n",
              "</pre>\n"
            ]
          },
          "metadata": {}
        }
      ],
      "source": [
        "# Instantiate and summarize the PixelRNN model\n",
        "input_shape = (28, 28, 1)\n",
        "pixelrnn_model = build_pixelrnn(input_shape, num_layers=3, filters=64, kernel_size=(3, 3))\n",
        "pixelrnn_model.summary()"
      ]
    },
    {
      "cell_type": "markdown",
      "id": "ccbcb8e7",
      "metadata": {
        "id": "ccbcb8e7"
      },
      "source": [
        "The PixelRNN model is trained to minimize the binary cross-entropy loss between the predicted and actual pixel values."
      ]
    },
    {
      "cell_type": "code",
      "execution_count": 4,
      "id": "25764618",
      "metadata": {
        "id": "25764618"
      },
      "outputs": [],
      "source": [
        "# Example training data (replace with actual data)\n",
        "X_train = np.random.rand(100, 28, 28, 1).astype(np.float32)\n",
        "X_test = np.random.rand(20, 28, 28, 1).astype(np.float32)"
      ]
    },
    {
      "cell_type": "markdown",
      "id": "53b2f569",
      "metadata": {
        "id": "53b2f569"
      },
      "source": [
        "After training, the PixelRNN model can generate new images pixel by pixel. Here we demonstrate how to generate an image."
      ]
    },
    {
      "cell_type": "code",
      "execution_count": null,
      "id": "41319508",
      "metadata": {
        "colab": {
          "base_uri": "https://localhost:8080/"
        },
        "id": "41319508",
        "outputId": "7844149c-4b8a-4cbe-8b97-0dfc6569091e"
      },
      "outputs": [
        {
          "output_type": "stream",
          "name": "stdout",
          "text": [
            "Epoch 1/5\n"
          ]
        }
      ],
      "source": [
        "# Compile and train the model\n",
        "pixelrnn_model.compile(optimizer='adam', loss='binary_crossentropy', metrics=['accuracy'])\n",
        "pixelrnn_model.fit(X_train, X_train, epochs=5, batch_size=64, validation_data=(X_test, X_test))"
      ]
    },
    {
      "cell_type": "code",
      "source": [],
      "metadata": {
        "id": "zFP2VsNAUQwj"
      },
      "id": "zFP2VsNAUQwj",
      "execution_count": null,
      "outputs": []
    }
  ],
  "metadata": {
    "colab": {
      "provenance": []
    },
    "language_info": {
      "name": "python"
    },
    "kernelspec": {
      "name": "python3",
      "display_name": "Python 3"
    }
  },
  "nbformat": 4,
  "nbformat_minor": 5
}