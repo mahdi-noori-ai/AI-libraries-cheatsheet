{
  "cells": [
    {
      "cell_type": "markdown",
      "id": "b0c621b2",
      "metadata": {
        "id": "b0c621b2"
      },
      "source": [
        "# Scikit-learn Cheatsheet"
      ]
    },
    {
      "cell_type": "markdown",
      "id": "b285b6aa",
      "metadata": {
        "id": "b285b6aa"
      },
      "source": [
        "## Import Library"
      ]
    },
    {
      "cell_type": "code",
      "execution_count": 13,
      "id": "923f62ef",
      "metadata": {
        "id": "923f62ef"
      },
      "outputs": [],
      "source": [
        "import numpy as np\n",
        "import pandas as pd\n",
        "from sklearn.model_selection import train_test_split\n",
        "from sklearn.preprocessing import StandardScaler, MinMaxScaler, LabelEncoder, OneHotEncoder\n",
        "from sklearn.linear_model import LinearRegression, LogisticRegression\n",
        "from sklearn.svm import SVC\n",
        "from sklearn.tree import DecisionTreeClassifier\n",
        "from sklearn.ensemble import RandomForestClassifier, GradientBoostingClassifier\n",
        "from sklearn.metrics import accuracy_score, confusion_matrix, classification_report, mean_squared_error, r2_score\n",
        "from sklearn.datasets import load_iris, fetch_california_housing, make_classification"
      ]
    },
    {
      "cell_type": "markdown",
      "id": "f0659fe1",
      "metadata": {
        "id": "f0659fe1"
      },
      "source": [
        "## Loading Data"
      ]
    },
    {
      "cell_type": "code",
      "execution_count": 14,
      "id": "e207dae0",
      "metadata": {
        "colab": {
          "base_uri": "https://localhost:8080/"
        },
        "id": "e207dae0",
        "outputId": "5bf74357-874e-49ac-c83d-02243883303c"
      },
      "outputs": [
        {
          "output_type": "stream",
          "name": "stdout",
          "text": [
            "   sepal length (cm)  sepal width (cm)  petal length (cm)  petal width (cm)  \\\n",
            "0                5.1               3.5                1.4               0.2   \n",
            "1                4.9               3.0                1.4               0.2   \n",
            "2                4.7               3.2                1.3               0.2   \n",
            "3                4.6               3.1                1.5               0.2   \n",
            "4                5.0               3.6                1.4               0.2   \n",
            "\n",
            "   target  \n",
            "0       0  \n",
            "1       0  \n",
            "2       0  \n",
            "3       0  \n",
            "4       0  \n"
          ]
        }
      ],
      "source": [
        "\n",
        "# Load dataset\n",
        "iris = load_iris()\n",
        "X, y = iris.data, iris.target\n",
        "\n",
        "# Create a DataFrame\n",
        "df = pd.DataFrame(X, columns=iris.feature_names)\n",
        "df['target'] = y\n",
        "\n",
        "# Display the first few rows\n",
        "print(df.head())\n",
        ""
      ]
    },
    {
      "cell_type": "markdown",
      "id": "f666bcfb",
      "metadata": {
        "id": "f666bcfb"
      },
      "source": [
        "## Splitting Data"
      ]
    },
    {
      "cell_type": "code",
      "execution_count": 15,
      "id": "36c62334",
      "metadata": {
        "colab": {
          "base_uri": "https://localhost:8080/"
        },
        "id": "36c62334",
        "outputId": "65889be3-2f51-4df8-de42-b01c2dcc812c"
      },
      "outputs": [
        {
          "output_type": "stream",
          "name": "stdout",
          "text": [
            "Training set size: (120, 4)\n",
            "Testing set size: (30, 4)\n"
          ]
        }
      ],
      "source": [
        "\n",
        "# Split the data into training and testing sets\n",
        "X_train, X_test, y_train, y_test = train_test_split(X, y, test_size=0.2, random_state=42)\n",
        "\n",
        "print(\"Training set size:\", X_train.shape)\n",
        "print(\"Testing set size:\", X_test.shape)\n",
        ""
      ]
    },
    {
      "cell_type": "markdown",
      "id": "59a848df",
      "metadata": {
        "id": "59a848df"
      },
      "source": [
        "## Data Preprocessing"
      ]
    },
    {
      "cell_type": "code",
      "execution_count": 19,
      "id": "aa06799f",
      "metadata": {
        "colab": {
          "base_uri": "https://localhost:8080/"
        },
        "id": "aa06799f",
        "outputId": "8a1bee3f-35d1-47dc-d804-4c17f9b1a96f"
      },
      "outputs": [
        {
          "output_type": "stream",
          "name": "stdout",
          "text": [
            "Standardized data: [[-1.47393679  1.20365799 -1.56253475 -1.31260282]\n",
            " [-0.13307079  2.99237573 -1.27600637 -1.04563275]\n",
            " [ 1.08589829  0.08570939  0.38585821  0.28921757]\n",
            " [-1.23014297  0.75647855 -1.2187007  -1.31260282]\n",
            " [-1.7177306   0.30929911 -1.39061772 -1.31260282]]\n",
            "Normalized data: [[0.08823529 0.66666667 0.         0.04166667]\n",
            " [0.41176471 1.         0.0877193  0.125     ]\n",
            " [0.70588235 0.45833333 0.59649123 0.54166667]\n",
            " [0.14705882 0.58333333 0.10526316 0.04166667]\n",
            " [0.02941176 0.5        0.05263158 0.04166667]]\n",
            "Encoded labels: [0 0 0 0 0]\n",
            "One-hot encoded labels: [[1. 0. 0.]\n",
            " [1. 0. 0.]\n",
            " [1. 0. 0.]\n",
            " [1. 0. 0.]\n",
            " [1. 0. 0.]]\n"
          ]
        },
        {
          "output_type": "stream",
          "name": "stderr",
          "text": [
            "/usr/local/lib/python3.10/dist-packages/sklearn/preprocessing/_encoders.py:975: FutureWarning: `sparse` was renamed to `sparse_output` in version 1.2 and will be removed in 1.4. `sparse_output` is ignored unless you leave `sparse` to its default value.\n",
            "  warnings.warn(\n"
          ]
        }
      ],
      "source": [
        "\n",
        "# Standardization\n",
        "scaler = StandardScaler()\n",
        "X_train_scaled = scaler.fit_transform(X_train)\n",
        "X_test_scaled = scaler.transform(X_test)\n",
        "\n",
        "# Normalization\n",
        "min_max_scaler = MinMaxScaler()\n",
        "X_train_normalized = min_max_scaler.fit_transform(X_train)\n",
        "X_test_normalized = min_max_scaler.transform(X_test)\n",
        "\n",
        "# Encoding categorical variables\n",
        "le = LabelEncoder()\n",
        "y_encoded = le.fit_transform(y)\n",
        "\n",
        "# One-hot encoding\n",
        "ohe = OneHotEncoder(sparse=False)\n",
        "y_onehot = ohe.fit_transform(y.reshape(-1, 1))\n",
        "\n",
        "print(\"Standardized data:\", X_train_scaled[:5])\n",
        "print(\"Normalized data:\", X_train_normalized[:5])\n",
        "print(\"Encoded labels:\", y_encoded[:5])\n",
        "print(\"One-hot encoded labels:\", y_onehot[:5])\n",
        ""
      ]
    },
    {
      "cell_type": "markdown",
      "id": "a1cd5e50",
      "metadata": {
        "id": "a1cd5e50"
      },
      "source": [
        "## Linear Regression"
      ]
    },
    {
      "cell_type": "code",
      "execution_count": 20,
      "id": "ed515316",
      "metadata": {
        "colab": {
          "base_uri": "https://localhost:8080/"
        },
        "id": "ed515316",
        "outputId": "60b0b0ec-2b3f-4ca1-b8d5-476b7ea170e7"
      },
      "outputs": [
        {
          "output_type": "stream",
          "name": "stdout",
          "text": [
            "Linear Regression MSE: 0.5558915986952422\n",
            "Linear Regression R2 Score: 0.5757877060324524\n"
          ]
        }
      ],
      "source": [
        "# Linear regression model using California housing dataset\n",
        "california = fetch_california_housing()\n",
        "X_california, y_california = california.data, california.target\n",
        "X_train_california, X_test_california, y_train_california, y_test_california = train_test_split(X_california, y_california, test_size=0.2, random_state=42)\n",
        "\n",
        "lin_reg = LinearRegression()\n",
        "lin_reg.fit(X_train_california, y_train_california)\n",
        "\n",
        "# Predictions and evaluation\n",
        "y_pred_california = lin_reg.predict(X_test_california)\n",
        "mse = mean_squared_error(y_test_california, y_pred_california)\n",
        "r2 = r2_score(y_test_california, y_pred_california)\n",
        "\n",
        "print(\"Linear Regression MSE:\", mse)\n",
        "print(\"Linear Regression R2 Score:\", r2)\n"
      ]
    },
    {
      "cell_type": "markdown",
      "id": "af4004c5",
      "metadata": {
        "id": "af4004c5"
      },
      "source": [
        "## Logistic Regression"
      ]
    },
    {
      "cell_type": "code",
      "execution_count": 22,
      "id": "c31d6949",
      "metadata": {
        "colab": {
          "base_uri": "https://localhost:8080/"
        },
        "id": "c31d6949",
        "outputId": "731e20d6-fabb-4072-f48b-b272586a9079"
      },
      "outputs": [
        {
          "output_type": "stream",
          "name": "stdout",
          "text": [
            "Logistic Regression Accuracy: 1.0\n",
            "Confusion Matrix: [[10  0  0]\n",
            " [ 0  9  0]\n",
            " [ 0  0 11]]\n",
            "Classification Report:               precision    recall  f1-score   support\n",
            "\n",
            "           0       1.00      1.00      1.00        10\n",
            "           1       1.00      1.00      1.00         9\n",
            "           2       1.00      1.00      1.00        11\n",
            "\n",
            "    accuracy                           1.00        30\n",
            "   macro avg       1.00      1.00      1.00        30\n",
            "weighted avg       1.00      1.00      1.00        30\n",
            "\n"
          ]
        }
      ],
      "source": [
        "\n",
        "# Logistic regression model\n",
        "log_reg = LogisticRegression(max_iter=200)\n",
        "log_reg.fit(X_train, y_train)\n",
        "\n",
        "# Predictions and evaluation\n",
        "y_pred_log = log_reg.predict(X_test)\n",
        "accuracy = accuracy_score(y_test, y_pred_log)\n",
        "conf_matrix = confusion_matrix(y_test, y_pred_log)\n",
        "class_report = classification_report(y_test, y_pred_log)\n",
        "\n",
        "print(\"Logistic Regression Accuracy:\", accuracy)\n",
        "print(\"Confusion Matrix:\", conf_matrix)\n",
        "print(\"Classification Report:\", class_report)\n",
        ""
      ]
    },
    {
      "cell_type": "markdown",
      "id": "b524579d",
      "metadata": {
        "id": "b524579d"
      },
      "source": [
        "## Support Vector Machine (SVM)"
      ]
    },
    {
      "cell_type": "code",
      "execution_count": 23,
      "id": "a79846ae",
      "metadata": {
        "colab": {
          "base_uri": "https://localhost:8080/"
        },
        "id": "a79846ae",
        "outputId": "99f9d6b3-d624-4ad2-f160-bbf3f634fbb4"
      },
      "outputs": [
        {
          "output_type": "stream",
          "name": "stdout",
          "text": [
            "SVM Accuracy: 1.0\n"
          ]
        }
      ],
      "source": [
        "\n",
        "# Support Vector Machine model\n",
        "svm_model = SVC()\n",
        "svm_model.fit(X_train, y_train)\n",
        "\n",
        "# Predictions and evaluation\n",
        "y_pred_svm = svm_model.predict(X_test)\n",
        "accuracy_svm = accuracy_score(y_test, y_pred_svm)\n",
        "\n",
        "print(\"SVM Accuracy:\", accuracy_svm)\n",
        ""
      ]
    },
    {
      "cell_type": "markdown",
      "id": "f5a302c3",
      "metadata": {
        "id": "f5a302c3"
      },
      "source": [
        "## Decision Tree"
      ]
    },
    {
      "cell_type": "code",
      "execution_count": 24,
      "id": "399bfb57",
      "metadata": {
        "colab": {
          "base_uri": "https://localhost:8080/"
        },
        "id": "399bfb57",
        "outputId": "14b6377f-be5b-4bcd-d7d5-5093bd24f7bf"
      },
      "outputs": [
        {
          "output_type": "stream",
          "name": "stdout",
          "text": [
            "Decision Tree Accuracy: 1.0\n"
          ]
        }
      ],
      "source": [
        "\n",
        "# Decision Tree model\n",
        "dt_model = DecisionTreeClassifier()\n",
        "dt_model.fit(X_train, y_train)\n",
        "\n",
        "# Predictions and evaluation\n",
        "y_pred_dt = dt_model.predict(X_test)\n",
        "accuracy_dt = accuracy_score(y_test, y_pred_dt)\n",
        "\n",
        "print(\"Decision Tree Accuracy:\", accuracy_dt)\n",
        ""
      ]
    },
    {
      "cell_type": "markdown",
      "id": "a3365cc2",
      "metadata": {
        "id": "a3365cc2"
      },
      "source": [
        "## Random Forest"
      ]
    },
    {
      "cell_type": "code",
      "execution_count": 25,
      "id": "beba2a64",
      "metadata": {
        "colab": {
          "base_uri": "https://localhost:8080/"
        },
        "id": "beba2a64",
        "outputId": "8e8e1adb-dc66-4628-f27a-d6865998e5d8"
      },
      "outputs": [
        {
          "output_type": "stream",
          "name": "stdout",
          "text": [
            "Random Forest Accuracy: 1.0\n"
          ]
        }
      ],
      "source": [
        "\n",
        "# Random Forest model\n",
        "rf_model = RandomForestClassifier()\n",
        "rf_model.fit(X_train, y_train)\n",
        "\n",
        "# Predictions and evaluation\n",
        "y_pred_rf = rf_model.predict(X_test)\n",
        "accuracy_rf = accuracy_score(y_test, y_pred_rf)\n",
        "\n",
        "print(\"Random Forest Accuracy:\", accuracy_rf)\n",
        ""
      ]
    },
    {
      "cell_type": "markdown",
      "id": "72c4464b",
      "metadata": {
        "id": "72c4464b"
      },
      "source": [
        "## Gradient Boosting"
      ]
    },
    {
      "cell_type": "code",
      "execution_count": 26,
      "id": "12766581",
      "metadata": {
        "colab": {
          "base_uri": "https://localhost:8080/"
        },
        "id": "12766581",
        "outputId": "749645c2-6864-4ef6-a5ed-050d672efa75"
      },
      "outputs": [
        {
          "output_type": "stream",
          "name": "stdout",
          "text": [
            "Gradient Boosting Accuracy: 1.0\n"
          ]
        }
      ],
      "source": [
        "\n",
        "# Gradient Boosting model\n",
        "gb_model = GradientBoostingClassifier()\n",
        "gb_model.fit(X_train, y_train)\n",
        "\n",
        "# Predictions and evaluation\n",
        "y_pred_gb = gb_model.predict(X_test)\n",
        "accuracy_gb = accuracy_score(y_test, y_pred_gb)\n",
        "\n",
        "print(\"Gradient Boosting Accuracy:\", accuracy_gb)\n",
        ""
      ]
    },
    {
      "cell_type": "markdown",
      "id": "02d156df",
      "metadata": {
        "id": "02d156df"
      },
      "source": [
        "## Model Evaluation Metrics"
      ]
    },
    {
      "cell_type": "code",
      "execution_count": 32,
      "id": "0fc33e45",
      "metadata": {
        "colab": {
          "base_uri": "https://localhost:8080/"
        },
        "id": "0fc33e45",
        "outputId": "9be895b6-66e9-4421-d2af-39fb8fbad66e"
      },
      "outputs": [
        {
          "output_type": "stream",
          "name": "stdout",
          "text": [
            "Confusion Matrix: [[10  0  0]\n",
            " [ 0  9  0]\n",
            " [ 0  0 11]]\n",
            "Classification Report:               precision    recall  f1-score   support\n",
            "\n",
            "           0       1.00      1.00      1.00        10\n",
            "           1       1.00      1.00      1.00         9\n",
            "           2       1.00      1.00      1.00        11\n",
            "\n",
            "    accuracy                           1.00        30\n",
            "   macro avg       1.00      1.00      1.00        30\n",
            "weighted avg       1.00      1.00      1.00        30\n",
            "\n"
          ]
        }
      ],
      "source": [
        "# Confusion Matrix\n",
        "conf_matrix = confusion_matrix(y_test, y_pred_rf)\n",
        "print(\"Confusion Matrix:\", conf_matrix)\n",
        "\n",
        "# Classification Report\n",
        "class_report = classification_report(y_test, y_pred_rf)\n",
        "print(\"Classification Report:\", class_report)"
      ]
    },
    {
      "cell_type": "markdown",
      "id": "92232903",
      "metadata": {
        "id": "92232903"
      },
      "source": [
        "## Cross-Validation"
      ]
    },
    {
      "cell_type": "code",
      "execution_count": 29,
      "id": "37f4acfa",
      "metadata": {
        "colab": {
          "base_uri": "https://localhost:8080/"
        },
        "id": "37f4acfa",
        "outputId": "4c78ccf7-04c2-4259-8b05-28df563acfaf"
      },
      "outputs": [
        {
          "output_type": "stream",
          "name": "stdout",
          "text": [
            "Cross-Validation Scores: [0.96666667 1.         0.93333333 0.96666667 1.        ]\n",
            "Mean CV Score: 0.9733333333333334\n"
          ]
        }
      ],
      "source": [
        "\n",
        "from sklearn.model_selection import cross_val_score\n",
        "\n",
        "# Cross-validation for Logistic Regression\n",
        "cv_scores = cross_val_score(log_reg, X, y, cv=5)\n",
        "print(\"Cross-Validation Scores:\", cv_scores)\n",
        "print(\"Mean CV Score:\", np.mean(cv_scores))\n",
        ""
      ]
    },
    {
      "cell_type": "markdown",
      "id": "f55f07bf",
      "metadata": {
        "id": "f55f07bf"
      },
      "source": [
        "## Hyperparameter Tuning"
      ]
    },
    {
      "cell_type": "code",
      "execution_count": 30,
      "id": "555f3d5c",
      "metadata": {
        "colab": {
          "base_uri": "https://localhost:8080/"
        },
        "id": "555f3d5c",
        "outputId": "fd362de6-28ed-4ab8-a9d4-46b358561789"
      },
      "outputs": [
        {
          "output_type": "stream",
          "name": "stdout",
          "text": [
            "Best Parameters: {'max_depth': None, 'min_samples_split': 2, 'n_estimators': 100}\n",
            "Best Score: 0.9583333333333334\n"
          ]
        }
      ],
      "source": [
        "\n",
        "from sklearn.model_selection import GridSearchCV\n",
        "\n",
        "# Hyperparameter tuning for Random Forest\n",
        "param_grid = {\n",
        "    'n_estimators': [50, 100, 200],\n",
        "    'max_depth': [None, 10, 20, 30],\n",
        "    'min_samples_split': [2, 5, 10]\n",
        "}\n",
        "\n",
        "grid_search = GridSearchCV(rf_model, param_grid, cv=5)\n",
        "grid_search.fit(X_train, y_train)\n",
        "\n",
        "print(\"Best Parameters:\", grid_search.best_params_)\n",
        "print(\"Best Score:\", grid_search.best_score_)\n",
        ""
      ]
    },
    {
      "cell_type": "code",
      "source": [],
      "metadata": {
        "id": "VHyi45OAfUCr"
      },
      "id": "VHyi45OAfUCr",
      "execution_count": null,
      "outputs": []
    }
  ],
  "metadata": {
    "colab": {
      "provenance": []
    },
    "language_info": {
      "name": "python"
    },
    "kernelspec": {
      "name": "python3",
      "display_name": "Python 3"
    }
  },
  "nbformat": 4,
  "nbformat_minor": 5
}