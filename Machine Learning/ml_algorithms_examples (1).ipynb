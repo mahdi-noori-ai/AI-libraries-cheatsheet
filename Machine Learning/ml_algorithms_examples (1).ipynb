{
  "cells": [
    {
      "cell_type": "markdown",
      "id": "6a529c8e",
      "metadata": {
        "id": "6a529c8e"
      },
      "source": [
        "# Machine Learning Algorithms and Their Examples"
      ]
    },
    {
      "cell_type": "markdown",
      "id": "a980644b",
      "metadata": {
        "id": "a980644b"
      },
      "source": [
        "In this notebook, we will cover various machine learning algorithms along with examples of how to use them. We'll use popular Python libraries such as scikit-learn to implement these algorithms."
      ]
    },
    {
      "cell_type": "markdown",
      "id": "9297a187",
      "metadata": {
        "id": "9297a187"
      },
      "source": [
        "## 1. Linear Regression"
      ]
    },
    {
      "cell_type": "markdown",
      "id": "e2c720ad",
      "metadata": {
        "id": "e2c720ad"
      },
      "source": [
        "Linear Regression is used for predicting a continuous target variable based on one or more input features."
      ]
    },
    {
      "cell_type": "code",
      "execution_count": 10,
      "id": "c208fba6",
      "metadata": {
        "colab": {
          "base_uri": "https://localhost:8080/"
        },
        "id": "c208fba6",
        "outputId": "51e72d05-51bc-4ecc-9b9d-5f11cf581755"
      },
      "outputs": [
        {
          "output_type": "stream",
          "name": "stdout",
          "text": [
            "Mean Squared Error: 0.0\n",
            "Predictions: [4.]\n"
          ]
        }
      ],
      "source": [
        "# Example: Linear Regression using scikit-learn\n",
        "from sklearn.model_selection import train_test_split\n",
        "from sklearn.linear_model import LinearRegression\n",
        "from sklearn.metrics import mean_squared_error\n",
        "import pandas as pd\n",
        "\n",
        "# Sample data\n",
        "data = {\n",
        "    'feature': [1, 2, 3, 4, 5],\n",
        "    'target': [2, 4, 6, 8, 10]\n",
        "}\n",
        "df = pd.DataFrame(data)\n",
        "\n",
        "# Split data\n",
        "X = df[['feature']]\n",
        "y = df['target']\n",
        "X_train, X_test, y_train, y_test = train_test_split(X, y, test_size=0.2, random_state=42)\n",
        "\n",
        "# Train model\n",
        "model = LinearRegression()\n",
        "model.fit(X_train, y_train)\n",
        "\n",
        "# Predict and evaluate\n",
        "predictions = model.predict(X_test)\n",
        "mse = mean_squared_error(y_test, predictions)\n",
        "print(f'Mean Squared Error: {mse}')\n",
        "print(f'Predictions: {predictions}')"
      ]
    },
    {
      "cell_type": "markdown",
      "id": "b09b73ab",
      "metadata": {
        "id": "b09b73ab"
      },
      "source": [
        "## 2. Logistic Regression"
      ]
    },
    {
      "cell_type": "markdown",
      "id": "1db60ca2",
      "metadata": {
        "id": "1db60ca2"
      },
      "source": [
        "Logistic Regression is used for binary classification problems."
      ]
    },
    {
      "cell_type": "code",
      "execution_count": 11,
      "id": "d7f32896",
      "metadata": {
        "colab": {
          "base_uri": "https://localhost:8080/"
        },
        "id": "d7f32896",
        "outputId": "0a6335f5-ccfa-4bbd-b56a-2d2140449d03"
      },
      "outputs": [
        {
          "output_type": "stream",
          "name": "stdout",
          "text": [
            "Accuracy: 1.0\n",
            "Predictions: [0]\n"
          ]
        }
      ],
      "source": [
        "# Example: Logistic Regression using scikit-learn\n",
        "from sklearn.linear_model import LogisticRegression\n",
        "from sklearn.metrics import accuracy_score\n",
        "\n",
        "# Sample data\n",
        "data = {\n",
        "    'feature': [1, 2, 3, 4, 5],\n",
        "    'target': [0, 0, 0, 1, 1]\n",
        "}\n",
        "df = pd.DataFrame(data)\n",
        "\n",
        "# Split data\n",
        "X = df[['feature']]\n",
        "y = df['target']\n",
        "X_train, X_test, y_train, y_test = train_test_split(X, y, test_size=0.2, random_state=42)\n",
        "\n",
        "# Train model\n",
        "model = LogisticRegression()\n",
        "model.fit(X_train, y_train)\n",
        "\n",
        "# Predict and evaluate\n",
        "predictions = model.predict(X_test)\n",
        "accuracy = accuracy_score(y_test, predictions)\n",
        "print(f'Accuracy: {accuracy}')\n",
        "print(f'Predictions: {predictions}')"
      ]
    },
    {
      "cell_type": "markdown",
      "id": "3f187995",
      "metadata": {
        "id": "3f187995"
      },
      "source": [
        "## 3. Decision Tree"
      ]
    },
    {
      "cell_type": "markdown",
      "id": "669811c7",
      "metadata": {
        "id": "669811c7"
      },
      "source": [
        "Decision Trees are used for both classification and regression tasks."
      ]
    },
    {
      "cell_type": "code",
      "execution_count": 12,
      "id": "86555790",
      "metadata": {
        "colab": {
          "base_uri": "https://localhost:8080/"
        },
        "id": "86555790",
        "outputId": "f9a89a6c-e56d-4278-b50e-5cc5b27c6072"
      },
      "outputs": [
        {
          "output_type": "stream",
          "name": "stdout",
          "text": [
            "Accuracy: 1.0\n",
            "Predictions: [0]\n"
          ]
        }
      ],
      "source": [
        "# Example: Decision Tree using scikit-learn\n",
        "from sklearn.tree import DecisionTreeClassifier\n",
        "\n",
        "# Sample data\n",
        "data = {\n",
        "    'feature': [1, 2, 3, 4, 5],\n",
        "    'target': [0, 0, 0, 1, 1]\n",
        "}\n",
        "df = pd.DataFrame(data)\n",
        "\n",
        "# Split data\n",
        "X = df[['feature']]\n",
        "y = df['target']\n",
        "X_train, X_test, y_train, y_test = train_test_split(X, y, test_size=0.2, random_state=42)\n",
        "\n",
        "# Train model\n",
        "model = DecisionTreeClassifier()\n",
        "model.fit(X_train, y_train)\n",
        "\n",
        "# Predict and evaluate\n",
        "predictions = model.predict(X_test)\n",
        "accuracy = accuracy_score(y_test, predictions)\n",
        "print(f'Accuracy: {accuracy}')\n",
        "print(f'Predictions: {predictions}')"
      ]
    },
    {
      "cell_type": "markdown",
      "id": "42b59a95",
      "metadata": {
        "id": "42b59a95"
      },
      "source": [
        "## 4. Random Forest"
      ]
    },
    {
      "cell_type": "markdown",
      "id": "b251cd11",
      "metadata": {
        "id": "b251cd11"
      },
      "source": [
        "Random Forest is an ensemble method that uses multiple decision trees to improve performance."
      ]
    },
    {
      "cell_type": "code",
      "execution_count": 13,
      "id": "531b17fe",
      "metadata": {
        "colab": {
          "base_uri": "https://localhost:8080/"
        },
        "id": "531b17fe",
        "outputId": "ac43f21f-9ff8-4abd-8270-f29ba937fa66"
      },
      "outputs": [
        {
          "output_type": "stream",
          "name": "stdout",
          "text": [
            "Accuracy: 1.0\n",
            "Predictions: [0]\n"
          ]
        }
      ],
      "source": [
        "# Example: Random Forest using scikit-learn\n",
        "from sklearn.ensemble import RandomForestClassifier\n",
        "\n",
        "# Sample data\n",
        "data = {\n",
        "    'feature': [1, 2, 3, 4, 5],\n",
        "    'target': [0, 0, 0, 1, 1]\n",
        "}\n",
        "df = pd.DataFrame(data)\n",
        "\n",
        "# Split data\n",
        "X = df[['feature']]\n",
        "y = df['target']\n",
        "X_train, X_test, y_train, y_test = train_test_split(X, y, test_size=0.2, random_state=42)\n",
        "\n",
        "# Train model\n",
        "model = RandomForestClassifier()\n",
        "model.fit(X_train, y_train)\n",
        "\n",
        "# Predict and evaluate\n",
        "predictions = model.predict(X_test)\n",
        "accuracy = accuracy_score(y_test, predictions)\n",
        "print(f'Accuracy: {accuracy}')\n",
        "print(f'Predictions: {predictions}')"
      ]
    },
    {
      "cell_type": "markdown",
      "id": "b00dd640",
      "metadata": {
        "id": "b00dd640"
      },
      "source": [
        "## 5. Support Vector Machine (SVM)"
      ]
    },
    {
      "cell_type": "markdown",
      "id": "89c007d1",
      "metadata": {
        "id": "89c007d1"
      },
      "source": [
        "SVM is used for both classification and regression tasks and works well for high-dimensional data."
      ]
    },
    {
      "cell_type": "code",
      "execution_count": 14,
      "id": "83170e2e",
      "metadata": {
        "colab": {
          "base_uri": "https://localhost:8080/"
        },
        "id": "83170e2e",
        "outputId": "a56837ce-f944-43ae-d156-8437aa0daedb"
      },
      "outputs": [
        {
          "output_type": "stream",
          "name": "stdout",
          "text": [
            "Accuracy: 1.0\n",
            "Predictions: [0]\n"
          ]
        }
      ],
      "source": [
        "# Example: Support Vector Machine using scikit-learn\n",
        "from sklearn.svm import SVC\n",
        "\n",
        "# Sample data\n",
        "data = {\n",
        "    'feature': [1, 2, 3, 4, 5],\n",
        "    'target': [0, 0, 0, 1, 1]\n",
        "}\n",
        "df = pd.DataFrame(data)\n",
        "\n",
        "# Split data\n",
        "X = df[['feature']]\n",
        "y = df['target']\n",
        "X_train, X_test, y_train, y_test = train_test_split(X, y, test_size=0.2, random_state=42)\n",
        "\n",
        "# Train model\n",
        "model = SVC()\n",
        "model.fit(X_train, y_train)\n",
        "\n",
        "# Predict and evaluate\n",
        "predictions = model.predict(X_test)\n",
        "accuracy = accuracy_score(y_test, predictions)\n",
        "print(f'Accuracy: {accuracy}')\n",
        "print(f'Predictions: {predictions}')"
      ]
    },
    {
      "cell_type": "markdown",
      "id": "a8195337",
      "metadata": {
        "id": "a8195337"
      },
      "source": [
        "## 6. K-Nearest Neighbors (KNN)"
      ]
    },
    {
      "cell_type": "markdown",
      "id": "a19d7372",
      "metadata": {
        "id": "a19d7372"
      },
      "source": [
        "KNN is a simple, instance-based learning algorithm used for both classification and regression."
      ]
    },
    {
      "cell_type": "code",
      "execution_count": 15,
      "id": "aca50d0e",
      "metadata": {
        "colab": {
          "base_uri": "https://localhost:8080/"
        },
        "id": "aca50d0e",
        "outputId": "e9cca2f6-ce24-4db8-a515-557437a8d749"
      },
      "outputs": [
        {
          "output_type": "stream",
          "name": "stdout",
          "text": [
            "Accuracy: 1.0\n",
            "Predictions: [0]\n"
          ]
        }
      ],
      "source": [
        "# Example: K-Nearest Neighbors using scikit-learn\n",
        "from sklearn.neighbors import KNeighborsClassifier\n",
        "\n",
        "# Sample data\n",
        "data = {\n",
        "    'feature': [1, 2, 3, 4, 5],\n",
        "    'target': [0, 0, 0, 1, 1]\n",
        "}\n",
        "df = pd.DataFrame(data)\n",
        "\n",
        "# Split data\n",
        "X = df[['feature']]\n",
        "y = df['target']\n",
        "X_train, X_test, y_train, y_test = train_test_split(X, y, test_size=0.2, random_state=42)\n",
        "\n",
        "# Train model\n",
        "model = KNeighborsClassifier()\n",
        "model.fit(X_train, y_train)\n",
        "\n",
        "# Predict and evaluate\n",
        "#predictions = model.predict(X_test)\n",
        "accuracy = accuracy_score(y_test, predictions)\n",
        "print(f'Accuracy: {accuracy}')\n",
        "print(f'Predictions: {predictions}')"
      ]
    },
    {
      "cell_type": "markdown",
      "id": "6b286b7b",
      "metadata": {
        "id": "6b286b7b"
      },
      "source": [
        "## 7. K-Means Clustering"
      ]
    },
    {
      "cell_type": "markdown",
      "id": "5ab53471",
      "metadata": {
        "id": "5ab53471"
      },
      "source": [
        "K-Means is an unsupervised learning algorithm used for clustering data into K distinct groups."
      ]
    },
    {
      "cell_type": "code",
      "execution_count": 16,
      "id": "2a0def2c",
      "metadata": {
        "colab": {
          "base_uri": "https://localhost:8080/"
        },
        "id": "2a0def2c",
        "outputId": "ccb468d8-8f9d-411f-ed7f-d85cd161fb23"
      },
      "outputs": [
        {
          "output_type": "stream",
          "name": "stdout",
          "text": [
            "Cluster labels: [1 1 0 0 0]\n"
          ]
        },
        {
          "output_type": "stream",
          "name": "stderr",
          "text": [
            "/usr/local/lib/python3.10/dist-packages/sklearn/cluster/_kmeans.py:1416: FutureWarning: The default value of `n_init` will change from 10 to 'auto' in 1.4. Set the value of `n_init` explicitly to suppress the warning\n",
            "  super()._check_params_vs_input(X, default_n_init=10)\n"
          ]
        }
      ],
      "source": [
        "# Example: K-Means Clustering using scikit-learn\n",
        "from sklearn.cluster import KMeans\n",
        "\n",
        "# Sample data\n",
        "data = {\n",
        "    'feature1': [1, 2, 3, 4, 5],\n",
        "    'feature2': [2, 4, 6, 8, 10]\n",
        "}\n",
        "df = pd.DataFrame(data)\n",
        "\n",
        "# Train model\n",
        "model = KMeans(n_clusters=2)\n",
        "model.fit(df)\n",
        "\n",
        "# Predict cluster labels\n",
        "labels = model.predict(df)\n",
        "print(f'Cluster labels: {labels}')"
      ]
    },
    {
      "cell_type": "code",
      "source": [],
      "metadata": {
        "id": "1uRIEVPyOBCc"
      },
      "id": "1uRIEVPyOBCc",
      "execution_count": 16,
      "outputs": []
    }
  ],
  "metadata": {
    "colab": {
      "provenance": []
    },
    "language_info": {
      "name": "python"
    },
    "kernelspec": {
      "name": "python3",
      "display_name": "Python 3"
    }
  },
  "nbformat": 4,
  "nbformat_minor": 5
}