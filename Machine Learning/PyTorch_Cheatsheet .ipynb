{
  "cells": [
    {
      "cell_type": "markdown",
      "id": "c0e1c9a1",
      "metadata": {
        "id": "c0e1c9a1"
      },
      "source": [
        "# PyTorch Cheatsheet"
      ]
    },
    {
      "cell_type": "markdown",
      "id": "864f7bf8",
      "metadata": {
        "id": "864f7bf8"
      },
      "source": [
        "## Import Libraries"
      ]
    },
    {
      "cell_type": "code",
      "execution_count": 5,
      "id": "d2a72d04",
      "metadata": {
        "id": "d2a72d04"
      },
      "outputs": [],
      "source": [
        "import torch\n",
        "import torch.nn as nn\n",
        "import torch.optim as optim\n",
        "import torch.nn.functional as F\n",
        "from torchvision import datasets, transforms"
      ]
    },
    {
      "cell_type": "markdown",
      "id": "e7beb008",
      "metadata": {
        "id": "e7beb008"
      },
      "source": [
        "## Tensor Operations"
      ]
    },
    {
      "cell_type": "code",
      "execution_count": 6,
      "id": "e1be2609",
      "metadata": {
        "id": "e1be2609"
      },
      "outputs": [],
      "source": [
        "# Create Tensors\n",
        "tensor = torch.tensor([[1, 2], [3, 4]])\n",
        "rand_tensor = torch.rand(2, 2)\n",
        "zeros_tensor = torch.zeros(2, 2)\n",
        "ones_tensor = torch.ones(2, 2)\n",
        "\n",
        "# Reshape Tensor\n",
        "reshaped_tensor = tensor.view(4, 1)"
      ]
    },
    {
      "cell_type": "markdown",
      "id": "c4f10411",
      "metadata": {
        "id": "c4f10411"
      },
      "source": [
        "## Autograd"
      ]
    },
    {
      "cell_type": "code",
      "execution_count": 7,
      "id": "67fa71f1",
      "metadata": {
        "colab": {
          "base_uri": "https://localhost:8080/"
        },
        "id": "67fa71f1",
        "outputId": "69ad144f-4fb4-4aed-e5a9-0ab95d7cf84d"
      },
      "outputs": [
        {
          "output_type": "stream",
          "name": "stdout",
          "text": [
            "tensor([0.6667, 0.6667, 0.6667])\n"
          ]
        }
      ],
      "source": [
        "# Define a tensor with gradient tracking\n",
        "x = torch.tensor([1.0, 2.0, 3.0], requires_grad=True)\n",
        "y = x * 2\n",
        "z = y.mean()\n",
        "\n",
        "# Backpropagation\n",
        "z.backward()\n",
        "print(x.grad)"
      ]
    },
    {
      "cell_type": "markdown",
      "id": "00289eda",
      "metadata": {
        "id": "00289eda"
      },
      "source": [
        "## Neural Network Modules"
      ]
    },
    {
      "cell_type": "code",
      "execution_count": 8,
      "id": "dd854fcc",
      "metadata": {
        "colab": {
          "base_uri": "https://localhost:8080/"
        },
        "id": "dd854fcc",
        "outputId": "a5a349e3-0484-4104-bd6e-e50db33c4972"
      },
      "outputs": [
        {
          "output_type": "stream",
          "name": "stdout",
          "text": [
            "SimpleNN(\n",
            "  (fc1): Linear(in_features=784, out_features=128, bias=True)\n",
            "  (fc2): Linear(in_features=128, out_features=10, bias=True)\n",
            ")\n"
          ]
        }
      ],
      "source": [
        "# Define a simple feedforward neural network\n",
        "class SimpleNN(nn.Module):\n",
        "    def __init__(self):\n",
        "        super(SimpleNN, self).__init__()\n",
        "        self.fc1 = nn.Linear(28*28, 128)\n",
        "        self.fc2 = nn.Linear(128, 10)\n",
        "\n",
        "    def forward(self, x):\n",
        "        x = x.view(-1, 28*28)\n",
        "        x = F.relu(self.fc1(x))\n",
        "        x = self.fc2(x)\n",
        "        return x\n",
        "\n",
        "# Instantiate and print the model\n",
        "model = SimpleNN()\n",
        "print(model)"
      ]
    },
    {
      "cell_type": "markdown",
      "id": "f19465a9",
      "metadata": {
        "id": "f19465a9"
      },
      "source": [
        "## Optimizers and Loss Functions"
      ]
    },
    {
      "cell_type": "code",
      "execution_count": 17,
      "id": "63a76b6e",
      "metadata": {
        "id": "63a76b6e"
      },
      "outputs": [],
      "source": [
        "# Define the model, loss function, and optimizer\n",
        "model = SimpleNN()\n",
        "criterion = nn.CrossEntropyLoss()\n",
        "optimizer = optim.Adam(model.parameters(), lr=0.001)\n",
        "\n",
        "# Define the DataLoader\n",
        "transform = transforms.Compose([\n",
        "    transforms.ToTensor(),\n",
        "    transforms.Normalize((0.5,), (0.5,))\n",
        "])\n",
        "\n",
        "trainset = datasets.MNIST(root='./data', train=True, download=True, transform=transform)\n",
        "train_loader = torch.utils.data.DataLoader(trainset, batch_size=64, shuffle=True)\n",
        "\n",
        "# Training loop\n",
        "for epoch in range(5):\n",
        "    for data, target in train_loader:\n",
        "        optimizer.zero_grad()\n",
        "        output = model(data)\n",
        "        loss = criterion(output, target)\n",
        "        loss.backward()\n",
        "        optimizer.step()"
      ]
    },
    {
      "cell_type": "markdown",
      "id": "208b3595",
      "metadata": {
        "id": "208b3595"
      },
      "source": [
        "## Saving and Loading Models"
      ]
    },
    {
      "cell_type": "code",
      "execution_count": 10,
      "id": "d8cf2557",
      "metadata": {
        "colab": {
          "base_uri": "https://localhost:8080/"
        },
        "id": "d8cf2557",
        "outputId": "d1f04aab-dac1-4dde-d2b8-04818e4aa540"
      },
      "outputs": [
        {
          "output_type": "execute_result",
          "data": {
            "text/plain": [
              "SimpleNN(\n",
              "  (fc1): Linear(in_features=784, out_features=128, bias=True)\n",
              "  (fc2): Linear(in_features=128, out_features=10, bias=True)\n",
              ")"
            ]
          },
          "metadata": {},
          "execution_count": 10
        }
      ],
      "source": [
        "# Save the model\n",
        "torch.save(model.state_dict(), 'simple_nn.pth')\n",
        "\n",
        "# Load the model\n",
        "loaded_model = SimpleNN()\n",
        "loaded_model.load_state_dict(torch.load('simple_nn.pth'))\n",
        "loaded_model.eval()"
      ]
    },
    {
      "cell_type": "markdown",
      "id": "3493db88",
      "metadata": {
        "id": "3493db88"
      },
      "source": [
        "## Model Architectures"
      ]
    },
    {
      "cell_type": "markdown",
      "id": "2348f4ca",
      "metadata": {
        "id": "2348f4ca"
      },
      "source": [
        "### Convolutional Neural Network (CNN)"
      ]
    },
    {
      "cell_type": "code",
      "execution_count": 11,
      "id": "b2296601",
      "metadata": {
        "id": "b2296601"
      },
      "outputs": [],
      "source": [
        "class CNN(nn.Module):\n",
        "    def __init__(self):\n",
        "        super(CNN, self).__init__()\n",
        "        self.conv1 = nn.Conv2d(1, 32, kernel_size=3)\n",
        "        self.pool = nn.MaxPool2d(kernel_size=2, stride=2, padding=0)\n",
        "        self.conv2 = nn.Conv2d(32, 64, kernel_size=3)\n",
        "        self.fc1 = nn.Linear(64 * 5 * 5, 128)\n",
        "        self.fc2 = nn.Linear(128, 10)\n",
        "\n",
        "    def forward(self, x):\n",
        "        x = self.pool(F.relu(self.conv1(x)))\n",
        "        x = self.pool(F.relu(self.conv2(x)))\n",
        "        x = x.view(-1, 64 * 5 * 5)\n",
        "        x = F.relu(self.fc1(x))\n",
        "        x = self.fc2(x)\n",
        "        return x\n",
        "\n",
        "model = CNN()"
      ]
    },
    {
      "cell_type": "markdown",
      "id": "17bda072",
      "metadata": {
        "id": "17bda072"
      },
      "source": [
        "### Recurrent Neural Network (RNN)"
      ]
    },
    {
      "cell_type": "code",
      "execution_count": 12,
      "id": "acb42e89",
      "metadata": {
        "id": "acb42e89"
      },
      "outputs": [],
      "source": [
        "class RNN(nn.Module):\n",
        "    def __init__(self):\n",
        "        super(RNN, self).__init__()\n",
        "        self.rnn = nn.RNN(input_size=10, hidden_size=20, num_layers=2, batch_first=True)\n",
        "        self.fc = nn.Linear(20, 1)\n",
        "\n",
        "    def forward(self, x):\n",
        "        h0 = torch.zeros(2, x.size(0), 20).to(x.device)\n",
        "        out, _ = self.rnn(x, h0)\n",
        "        out = self.fc(out[:, -1, :])\n",
        "        return out\n",
        "\n",
        "model = RNN()"
      ]
    },
    {
      "cell_type": "markdown",
      "id": "82848c9e",
      "metadata": {
        "id": "82848c9e"
      },
      "source": [
        "### Long Short-Term Memory (LSTM)"
      ]
    },
    {
      "cell_type": "code",
      "execution_count": 13,
      "id": "99246e8a",
      "metadata": {
        "id": "99246e8a"
      },
      "outputs": [],
      "source": [
        "class LSTM(nn.Module):\n",
        "    def __init__(self):\n",
        "        super(LSTM, self).__init__()\n",
        "        self.lstm = nn.LSTM(input_size=10, hidden_size=20, num_layers=2, batch_first=True)\n",
        "        self.fc = nn.Linear(20, 1)\n",
        "\n",
        "    def forward(self, x):\n",
        "        h0 = torch.zeros(2, x.size(0), 20).to(x.device)\n",
        "        c0 = torch.zeros(2, x.size(0), 20).to(x.device)\n",
        "        out, _ = self.lstm(x, (h0, c0))\n",
        "        out = self.fc(out[:, -1, :])\n",
        "        return out\n",
        "\n",
        "model = LSTM()"
      ]
    },
    {
      "cell_type": "markdown",
      "id": "bb8718e6",
      "metadata": {
        "id": "bb8718e6"
      },
      "source": [
        "### Bidirectional LSTM"
      ]
    },
    {
      "cell_type": "code",
      "execution_count": 14,
      "id": "40af68dd",
      "metadata": {
        "id": "40af68dd"
      },
      "outputs": [],
      "source": [
        "class BiLSTM(nn.Module):\n",
        "    def __init__(self):\n",
        "        super(BiLSTM, self).__init__()\n",
        "        self.lstm = nn.LSTM(input_size=10, hidden_size=20, num_layers=2, batch_first=True, bidirectional=True)\n",
        "        self.fc = nn.Linear(40, 1)\n",
        "\n",
        "    def forward(self, x):\n",
        "        h0 = torch.zeros(4, x.size(0), 20).to(x.device)\n",
        "        c0 = torch.zeros(4, x.size(0), 20).to(x.device)\n",
        "        out, _ = self.lstm(x, (h0, c0))\n",
        "        out = self.fc(out[:, -1, :])\n",
        "        return out\n",
        "\n",
        "model = BiLSTM()"
      ]
    },
    {
      "cell_type": "markdown",
      "id": "8790b34b",
      "metadata": {
        "id": "8790b34b"
      },
      "source": [
        "## Data Loaders"
      ]
    },
    {
      "cell_type": "code",
      "execution_count": 15,
      "id": "9d4b3f26",
      "metadata": {
        "colab": {
          "base_uri": "https://localhost:8080/"
        },
        "id": "9d4b3f26",
        "outputId": "1b31e0f0-0bdc-475f-8292-4c209d8d76d5"
      },
      "outputs": [
        {
          "output_type": "stream",
          "name": "stdout",
          "text": [
            "Downloading http://yann.lecun.com/exdb/mnist/train-images-idx3-ubyte.gz\n",
            "Failed to download (trying next):\n",
            "HTTP Error 403: Forbidden\n",
            "\n",
            "Downloading https://ossci-datasets.s3.amazonaws.com/mnist/train-images-idx3-ubyte.gz\n",
            "Downloading https://ossci-datasets.s3.amazonaws.com/mnist/train-images-idx3-ubyte.gz to ./data/MNIST/raw/train-images-idx3-ubyte.gz\n"
          ]
        },
        {
          "output_type": "stream",
          "name": "stderr",
          "text": [
            "100%|██████████| 9912422/9912422 [00:00<00:00, 17467736.71it/s]\n"
          ]
        },
        {
          "output_type": "stream",
          "name": "stdout",
          "text": [
            "Extracting ./data/MNIST/raw/train-images-idx3-ubyte.gz to ./data/MNIST/raw\n",
            "\n",
            "Downloading http://yann.lecun.com/exdb/mnist/train-labels-idx1-ubyte.gz\n",
            "Failed to download (trying next):\n",
            "HTTP Error 403: Forbidden\n",
            "\n",
            "Downloading https://ossci-datasets.s3.amazonaws.com/mnist/train-labels-idx1-ubyte.gz\n",
            "Downloading https://ossci-datasets.s3.amazonaws.com/mnist/train-labels-idx1-ubyte.gz to ./data/MNIST/raw/train-labels-idx1-ubyte.gz\n"
          ]
        },
        {
          "output_type": "stream",
          "name": "stderr",
          "text": [
            "100%|██████████| 28881/28881 [00:00<00:00, 470440.84it/s]\n"
          ]
        },
        {
          "output_type": "stream",
          "name": "stdout",
          "text": [
            "Extracting ./data/MNIST/raw/train-labels-idx1-ubyte.gz to ./data/MNIST/raw\n",
            "\n",
            "Downloading http://yann.lecun.com/exdb/mnist/t10k-images-idx3-ubyte.gz\n",
            "Failed to download (trying next):\n",
            "HTTP Error 403: Forbidden\n",
            "\n",
            "Downloading https://ossci-datasets.s3.amazonaws.com/mnist/t10k-images-idx3-ubyte.gz\n",
            "Downloading https://ossci-datasets.s3.amazonaws.com/mnist/t10k-images-idx3-ubyte.gz to ./data/MNIST/raw/t10k-images-idx3-ubyte.gz\n"
          ]
        },
        {
          "output_type": "stream",
          "name": "stderr",
          "text": [
            "100%|██████████| 1648877/1648877 [00:00<00:00, 4383049.70it/s]\n"
          ]
        },
        {
          "output_type": "stream",
          "name": "stdout",
          "text": [
            "Extracting ./data/MNIST/raw/t10k-images-idx3-ubyte.gz to ./data/MNIST/raw\n",
            "\n",
            "Downloading http://yann.lecun.com/exdb/mnist/t10k-labels-idx1-ubyte.gz\n",
            "Failed to download (trying next):\n",
            "HTTP Error 403: Forbidden\n",
            "\n",
            "Downloading https://ossci-datasets.s3.amazonaws.com/mnist/t10k-labels-idx1-ubyte.gz\n",
            "Downloading https://ossci-datasets.s3.amazonaws.com/mnist/t10k-labels-idx1-ubyte.gz to ./data/MNIST/raw/t10k-labels-idx1-ubyte.gz\n"
          ]
        },
        {
          "output_type": "stream",
          "name": "stderr",
          "text": [
            "100%|██████████| 4542/4542 [00:00<00:00, 3000555.80it/s]"
          ]
        },
        {
          "output_type": "stream",
          "name": "stdout",
          "text": [
            "Extracting ./data/MNIST/raw/t10k-labels-idx1-ubyte.gz to ./data/MNIST/raw\n",
            "\n"
          ]
        },
        {
          "output_type": "stream",
          "name": "stderr",
          "text": [
            "\n"
          ]
        }
      ],
      "source": [
        "# Data transformation\n",
        "transform = transforms.Compose([\n",
        "    transforms.ToTensor(),\n",
        "    transforms.Normalize((0.5,), (0.5,))\n",
        "])\n",
        "\n",
        "# Download and load the training data\n",
        "trainset = datasets.MNIST(root='./data', train=True, download=True, transform=transform)\n",
        "train_loader = torch.utils.data.DataLoader(trainset, batch_size=64, shuffle=True)\n",
        "\n",
        "# Download and load the test data\n",
        "testset = datasets.MNIST(root='./data', train=False, download=True, transform=transform)\n",
        "test_loader = torch.utils.data.DataLoader(testset, batch_size=64, shuffle=False)"
      ]
    },
    {
      "cell_type": "markdown",
      "id": "2bba2ed8",
      "metadata": {
        "id": "2bba2ed8"
      },
      "source": [
        "## Training and Evaluation Loop"
      ]
    },
    {
      "cell_type": "code",
      "execution_count": 16,
      "id": "6c6c945c",
      "metadata": {
        "colab": {
          "base_uri": "https://localhost:8080/"
        },
        "id": "6c6c945c",
        "outputId": "e4d50d31-caf3-41df-cc52-785d8fd175cf"
      },
      "outputs": [
        {
          "output_type": "stream",
          "name": "stdout",
          "text": [
            "Test loss: 0.0015710496669868008, Accuracy: 96.95%\n"
          ]
        }
      ],
      "source": [
        "# Training function\n",
        "def train(model, train_loader, criterion, optimizer, epochs=5):\n",
        "    model.train()\n",
        "    for epoch in range(epochs):\n",
        "        for data, target in train_loader:\n",
        "            optimizer.zero_grad()\n",
        "            output = model(data)\n",
        "            loss = criterion(output, target)\n",
        "            loss.backward()\n",
        "            optimizer.step()\n",
        "\n",
        "# Evaluation function\n",
        "def evaluate(model, test_loader, criterion):\n",
        "    model.eval()\n",
        "    test_loss = 0\n",
        "    correct = 0\n",
        "    with torch.no_grad():\n",
        "        for data, target in test_loader:\n",
        "            output = model(data)\n",
        "            test_loss += criterion(output, target).item()\n",
        "            pred = output.argmax(dim=1, keepdim=True)\n",
        "            correct += pred.eq(target.view_as(pred)).sum().item()\n",
        "\n",
        "    test_loss /= len(test_loader.dataset)\n",
        "    accuracy = 100. * correct / len(test_loader.dataset)\n",
        "    return test_loss, accuracy\n",
        "\n",
        "# Example usage\n",
        "model = SimpleNN()\n",
        "criterion = nn.CrossEntropyLoss()\n",
        "optimizer = optim.Adam(model.parameters(), lr=0.001)\n",
        "\n",
        "train(model, train_loader, criterion, optimizer, epochs=5)\n",
        "test_loss, accuracy = evaluate(model, test_loader, criterion)\n",
        "print(f'Test loss: {test_loss}, Accuracy: {accuracy}%')"
      ]
    }
  ],
  "metadata": {
    "colab": {
      "provenance": []
    },
    "language_info": {
      "name": "python"
    },
    "kernelspec": {
      "name": "python3",
      "display_name": "Python 3"
    }
  },
  "nbformat": 4,
  "nbformat_minor": 5
}