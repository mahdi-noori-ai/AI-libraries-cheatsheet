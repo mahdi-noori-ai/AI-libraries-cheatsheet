{
 "cells": [
  {
   "cell_type": "markdown",
   "id": "02431d16",
   "metadata": {},
   "source": [
    "# Most Used Functions in scikit-learn"
   ]
  },
  {
   "cell_type": "markdown",
   "id": "b2137edc",
   "metadata": {},
   "source": [
    "In this notebook, we will cover some of the most commonly used functions in the scikit-learn library. scikit-learn is a popular machine learning library in Python that provides simple and efficient tools for data analysis and modeling."
   ]
  },
  {
   "cell_type": "markdown",
   "id": "1f61bf7d",
   "metadata": {},
   "source": [
    "## 1. Train-Test Split"
   ]
  },
  {
   "cell_type": "markdown",
   "id": "69871903",
   "metadata": {},
   "source": [
    "The `train_test_split` function is used to split the data into training and testing sets."
   ]
  },
  {
   "cell_type": "code",
   "execution_count": null,
   "id": "e95ccb66",
   "metadata": {},
   "outputs": [],
   "source": [
    "# Example: Train-Test Split\n",
    "from sklearn.model_selection import train_test_split\n",
    "import pandas as pd\n",
    "\n",
    "# Sample data\n",
    "data = {\n",
    "    'feature': [1, 2, 3, 4, 5],\n",
    "    'target': [2, 4, 6, 8, 10]\n",
    "}\n",
    "df = pd.DataFrame(data)\n",
    "\n",
    "# Split data\n",
    "X = df[['feature']]\n",
    "y = df['target']\n",
    "X_train, X_test, y_train, y_test = train_test_split(X, y, test_size=0.2, random_state=42)\n",
    "\n",
    "print(f'X_train:\\n{X_train}')\n",
    "print(f'X_test:\\n{X_test}')"
   ]
  },
  {
   "cell_type": "markdown",
   "id": "1ed99076",
   "metadata": {},
   "source": [
    "## 2. StandardScaler"
   ]
  },
  {
   "cell_type": "markdown",
   "id": "6f758ec3",
   "metadata": {},
   "source": [
    "The `StandardScaler` function is used to standardize features by removing the mean and scaling to unit variance."
   ]
  },
  {
   "cell_type": "code",
   "execution_count": null,
   "id": "b9f457d8",
   "metadata": {},
   "outputs": [],
   "source": [
    "# Example: StandardScaler\n",
    "from sklearn.preprocessing import StandardScaler\n",
    "\n",
    "# Sample data\n",
    "data = {\n",
    "    'feature1': [1, 2, 3, 4, 5],\n",
    "    'feature2': [10, 20, 30, 40, 50]\n",
    "}\n",
    "df = pd.DataFrame(data)\n",
    "\n",
    "# Standardize features\n",
    "scaler = StandardScaler()\n",
    "scaled_data = scaler.fit_transform(df)\n",
    "\n",
    "print(f'Scaled data:\\n{scaled_data}')"
   ]
  },
  {
   "cell_type": "markdown",
   "id": "c5f151cd",
   "metadata": {},
   "source": [
    "## 3. OneHotEncoder"
   ]
  },
  {
   "cell_type": "markdown",
   "id": "5326f283",
   "metadata": {},
   "source": [
    "The `OneHotEncoder` function is used to encode categorical features as a one-hot numeric array."
   ]
  },
  {
   "cell_type": "code",
   "execution_count": null,
   "id": "27ef0c55",
   "metadata": {},
   "outputs": [],
   "source": [
    "# Example: OneHotEncoder\n",
    "from sklearn.preprocessing import OneHotEncoder\n",
    "\n",
    "# Sample data\n",
    "data = {'category': ['A', 'B', 'A', 'C']}\n",
    "df = pd.DataFrame(data)\n",
    "\n",
    "# One-hot encode categorical features\n",
    "encoder = OneHotEncoder(sparse=False)\n",
    "encoded_data = encoder.fit_transform(df)\n",
    "\n",
    "print(f'Encoded data:\\n{encoded_data}')"
   ]
  },
  {
   "cell_type": "markdown",
   "id": "0d42cdbc",
   "metadata": {},
   "source": [
    "## 4. PCA (Principal Component Analysis)"
   ]
  },
  {
   "cell_type": "markdown",
   "id": "6aa2c476",
   "metadata": {},
   "source": [
    "The `PCA` function is used for dimensionality reduction."
   ]
  },
  {
   "cell_type": "code",
   "execution_count": null,
   "id": "af71818b",
   "metadata": {},
   "outputs": [],
   "source": [
    "# Example: PCA\n",
    "from sklearn.decomposition import PCA\n",
    "\n",
    "# Sample data\n",
    "data = {\n",
    "    'feature1': [1, 2, 3, 4, 5],\n",
    "    'feature2': [2, 4, 6, 8, 10],\n",
    "    'feature3': [5, 4, 3, 2, 1]\n",
    "}\n",
    "df = pd.DataFrame(data)\n",
    "\n",
    "# Apply PCA\n",
    "pca = PCA(n_components=2)\n",
    "reduced_data = pca.fit_transform(df)\n",
    "\n",
    "print(f'Reduced data:\\n{reduced_data}')"
   ]
  },
  {
   "cell_type": "markdown",
   "id": "7a58ed27",
   "metadata": {},
   "source": [
    "## 5. GridSearchCV"
   ]
  },
  {
   "cell_type": "markdown",
   "id": "f7751186",
   "metadata": {},
   "source": [
    "The `GridSearchCV` function is used to perform hyperparameter tuning by cross-validation."
   ]
  },
  {
   "cell_type": "code",
   "execution_count": null,
   "id": "b57b78a0",
   "metadata": {},
   "outputs": [],
   "source": [
    "# Example: GridSearchCV\n",
    "from sklearn.model_selection import GridSearchCV\n",
    "from sklearn.ensemble import RandomForestClassifier\n",
    "\n",
    "# Sample data\n",
    "data = {\n",
    "    'feature1': [1, 2, 3, 4, 5],\n",
    "    'feature2': [2, 4, 6, 8, 10],\n",
    "    'target': [0, 0, 1, 1, 1]\n",
    "}\n",
    "df = pd.DataFrame(data)\n",
    "\n",
    "# Define the model and parameters\n",
    "X = df[['feature1', 'feature2']]\n",
    "y = df['target']\n",
    "model = RandomForestClassifier()\n",
    "param_grid = {'n_estimators': [10, 50, 100]}\n",
    "\n",
    "# Perform GridSearchCV\n",
    "grid_search = GridSearchCV(model, param_grid, cv=3)\n",
    "grid_search.fit(X, y)\n",
    "\n",
    "print(f'Best parameters: {grid_search.best_params_}')\n",
    "print(f'Best score: {grid_search.best_score_}')"
   ]
  },
  {
   "cell_type": "markdown",
   "id": "0d09854c",
   "metadata": {},
   "source": [
    "## 6. Confusion Matrix"
   ]
  },
  {
   "cell_type": "markdown",
   "id": "5542b324",
   "metadata": {},
   "source": [
    "The `confusion_matrix` function is used to evaluate the accuracy of a classification."
   ]
  },
  {
   "cell_type": "code",
   "execution_count": null,
   "id": "0f3e1506",
   "metadata": {},
   "outputs": [],
   "source": [
    "# Example: Confusion Matrix\n",
    "from sklearn.metrics import confusion_matrix\n",
    "\n",
    "# Sample data\n",
    "y_true = [0, 0, 1, 1, 1]\n",
    "y_pred = [0, 1, 1, 1, 0]\n",
    "\n",
    "# Compute confusion matrix\n",
    "cm = confusion_matrix(y_true, y_pred)\n",
    "\n",
    "print(f'Confusion matrix:\\n{cm}')"
   ]
  },
  {
   "cell_type": "markdown",
   "id": "5e449b79",
   "metadata": {},
   "source": [
    "## 7. Classification Report"
   ]
  },
  {
   "cell_type": "markdown",
   "id": "530161ee",
   "metadata": {},
   "source": [
    "The `classification_report` function is used to generate a report of classification metrics."
   ]
  },
  {
   "cell_type": "code",
   "execution_count": null,
   "id": "9aefc281",
   "metadata": {},
   "outputs": [],
   "source": [
    "# Example: Classification Report\n",
    "from sklearn.metrics import classification_report\n",
    "\n",
    "# Sample data\n",
    "y_true = [0, 0, 1, 1, 1]\n",
    "y_pred = [0, 1, 1, 1, 0]\n",
    "\n",
    "# Generate classification report\n",
    "report = classification_report(y_true, y_pred)\n",
    "\n",
    "print(f'Classification report:\\n{report}')"
   ]
  }
 ],
 "metadata": {},
 "nbformat": 4,
 "nbformat_minor": 5
}
