{
 "cells": [
  {
   "cell_type": "markdown",
   "id": "688c5e26",
   "metadata": {},
   "source": [
    "# Linear Discriminant Analysis (LDA) Step-by-Step Example\n",
    "\n",
    "This notebook provides a detailed, step-by-step guide to applying Linear Discriminant Analysis (LDA) on a dataset. We'll cover each step with explanations, code, and visualizations.\n",
    "\n",
    "## Step 1: What is LDA?\n",
    "\n",
    "Linear Discriminant Analysis (LDA) is a dimensionality reduction technique that is commonly used for supervised classification problems. Unlike PCA, which is unsupervised and focuses on maximizing variance, LDA aims to maximize the separation between multiple classes.\n",
    "\n",
    "LDA works by projecting the data onto a lower-dimensional space with a focus on maximizing class separability.\n",
    "\n",
    "## Step 2: Importing Required Libraries\n",
    "\n",
    "We'll start by importing the necessary libraries for this analysis, including NumPy, Pandas, Matplotlib, and Scikit-learn.\n"
   ]
  },
  {
   "cell_type": "code",
   "execution_count": null,
   "id": "3dc05829",
   "metadata": {},
   "outputs": [],
   "source": [
    "import numpy as np\n",
    "import pandas as pd\n",
    "from sklearn.discriminant_analysis import LinearDiscriminantAnalysis as LDA\n",
    "from sklearn.preprocessing import StandardScaler\n",
    "from sklearn.model_selection import train_test_split\n",
    "from sklearn.datasets import load_iris\n",
    "import matplotlib.pyplot as plt\n"
   ]
  },
  {
   "cell_type": "markdown",
   "id": "6895f88f",
   "metadata": {},
   "source": [
    "## Step 3: Loading and Understanding the Dataset\n",
    "\n",
    "For this demonstration, we'll use the Iris dataset, which contains 150 samples of iris flowers with 4 features each. The goal is to classify the flowers into one of three species.\n"
   ]
  },
  {
   "cell_type": "code",
   "execution_count": null,
   "id": "3a231e68",
   "metadata": {},
   "outputs": [],
   "source": [
    "# Load the Iris dataset\n",
    "iris = load_iris()\n",
    "X = iris.data\n",
    "y = iris.target\n",
    "df = pd.DataFrame(X, columns=iris.feature_names)\n",
    "df['species'] = y\n",
    "\n",
    "df.head()\n"
   ]
  },
  {
   "cell_type": "markdown",
   "id": "be8ba784",
   "metadata": {},
   "source": [
    "## Step 4: Splitting the Dataset\n",
    "\n",
    "We'll split the dataset into a training set and a testing set to evaluate the performance of the LDA model.\n"
   ]
  },
  {
   "cell_type": "code",
   "execution_count": null,
   "id": "e88571f1",
   "metadata": {},
   "outputs": [],
   "source": [
    "X_train, X_test, y_train, y_test = train_test_split(X, y, test_size=0.3, random_state=0)\n"
   ]
  },
  {
   "cell_type": "markdown",
   "id": "8d8d3adf",
   "metadata": {},
   "source": [
    "## Step 5: Data Standardization\n",
    "\n",
    "Just like with PCA, LDA is affected by the scale of the data. We'll standardize the features before applying LDA.\n"
   ]
  },
  {
   "cell_type": "code",
   "execution_count": null,
   "id": "b38c92fb",
   "metadata": {},
   "outputs": [],
   "source": [
    "scaler = StandardScaler()\n",
    "X_train = scaler.fit_transform(X_train)\n",
    "X_test = scaler.transform(X_test)\n"
   ]
  },
  {
   "cell_type": "markdown",
   "id": "550eb8c9",
   "metadata": {},
   "source": [
    "## Step 6: Applying LDA\n",
    "\n",
    "Now, we'll apply LDA to reduce the dimensionality of the data. In this case, we'll reduce the data from 4 features down to 2 linear discriminants.\n"
   ]
  },
  {
   "cell_type": "code",
   "execution_count": null,
   "id": "4505c3f2",
   "metadata": {},
   "outputs": [],
   "source": [
    "lda = LDA(n_components=2)\n",
    "X_train_lda = lda.fit_transform(X_train, y_train)\n",
    "X_test_lda = lda.transform(X_test)\n"
   ]
  },
  {
   "cell_type": "markdown",
   "id": "b6dd7d08",
   "metadata": {},
   "source": [
    "## Step 7: Visualizing the LDA Results\n",
    "\n",
    "We can visualize the data in the new 2D space defined by the two linear discriminants. This will show how well LDA has separated the different classes.\n"
   ]
  },
  {
   "cell_type": "code",
   "execution_count": null,
   "id": "8bef8d52",
   "metadata": {},
   "outputs": [],
   "source": [
    "plt.figure(figsize=(8, 6))\n",
    "for species in np.unique(y_train):\n",
    "    plt.scatter(X_train_lda[y_train == species, 0], X_train_lda[y_train == species, 1], label=iris.target_names[species])\n",
    "plt.xlabel('Linear Discriminant 1')\n",
    "plt.ylabel('Linear Discriminant 2')\n",
    "plt.title('LDA: Iris Training Set')\n",
    "plt.legend(loc='best')\n",
    "plt.grid(True)\n",
    "plt.show()\n"
   ]
  },
  {
   "cell_type": "markdown",
   "id": "d656be96",
   "metadata": {},
   "source": [
    "## Step 8: Model Evaluation\n",
    "\n",
    "Finally, we'll evaluate the performance of the LDA model by predicting the species on the test set and comparing it with the actual species.\n"
   ]
  },
  {
   "cell_type": "code",
   "execution_count": null,
   "id": "e9124ea1",
   "metadata": {},
   "outputs": [],
   "source": [
    "from sklearn.metrics import accuracy_score, confusion_matrix, classification_report\n",
    "\n",
    "# Predicting the test set results\n",
    "y_pred = lda.predict(X_test)\n",
    "\n",
    "# Evaluating the model\n",
    "accuracy = accuracy_score(y_test, y_pred)\n",
    "conf_matrix = confusion_matrix(y_test, y_pred)\n",
    "class_report = classification_report(y_test, y_pred, target_names=iris.target_names)\n",
    "\n",
    "print(f'Accuracy: {accuracy:.2f}')\n",
    "print('Confusion Matrix:')\n",
    "print(conf_matrix)\n",
    "print('Classification Report:')\n",
    "print(class_report)\n"
   ]
  }
 ],
 "metadata": {},
 "nbformat": 4,
 "nbformat_minor": 5
}
