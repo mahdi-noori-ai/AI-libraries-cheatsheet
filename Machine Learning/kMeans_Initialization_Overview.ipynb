{
 "cells": [
  {
   "cell_type": "markdown",
   "id": "b52c7ada",
   "metadata": {},
   "source": [
    "\n",
    "# k-Means Clustering with Initialization Overview\n",
    "\n",
    "This notebook provides an overview of k-Means Clustering, focusing on the initialization strategies, how the algorithm works, and a basic implementation using a synthetic dataset.\n"
   ]
  },
  {
   "cell_type": "markdown",
   "id": "14e0d013",
   "metadata": {},
   "source": [
    "\n",
    "## Background\n",
    "\n",
    "### k-Means Clustering\n",
    "\n",
    "k-Means is a popular unsupervised learning algorithm used for partitioning a dataset into k distinct clusters based on feature similarity. It aims to minimize the variance within each cluster.\n",
    "\n",
    "### Initialization Strategies\n",
    "\n",
    "The performance of k-Means heavily depends on the initialization of the cluster centroids. Common initialization strategies include:\n",
    "- **Random Initialization**: Centroids are initialized randomly.\n",
    "- **k-Means++**: Centroids are initialized in a way that spreads them out as much as possible, improving convergence speed and accuracy.\n",
    "- **Forgy Method**: Centroids are initialized by randomly choosing k data points from the dataset.\n",
    "\n",
    "### Applications of k-Means\n",
    "\n",
    "k-Means is widely used in market segmentation, image compression, anomaly detection, and document clustering.\n"
   ]
  },
  {
   "cell_type": "markdown",
   "id": "b6808bdb",
   "metadata": {},
   "source": [
    "\n",
    "## Mathematical Foundation\n",
    "\n",
    "### The k-Means Algorithm\n",
    "\n",
    "Given a dataset \\( X = \\{x_1, x_2, \\dots, x_n\\} \\) and a desired number of clusters \\( k \\), the k-Means algorithm works as follows:\n",
    "\n",
    "1. **Initialization**: Choose \\( k \\) initial centroids \\( \\mu_1, \\mu_2, \\dots, \\mu_k \\).\n",
    "\n",
    "2. **Assignment Step**: Assign each data point \\( x_i \\) to the nearest centroid \\( \\mu_j \\):\n",
    "\n",
    "\\[\n",
    "C_j = \\{x_i : \\|x_i - \\mu_j\\|^2 \\leq \\|x_i - \\mu_l\\|^2 \\text{ for all } l = 1, \\dots, k\\}\n",
    "\\]\n",
    "\n",
    "3. **Update Step**: Recalculate the centroids based on the current assignment:\n",
    "\n",
    "\\[\n",
    "\\mu_j = \\frac{1}{|C_j|} \\sum_{x_i \\in C_j} x_i\n",
    "\\]\n",
    "\n",
    "4. **Repeat**: Continue the assignment and update steps until convergence, i.e., when the centroids no longer change significantly.\n",
    "\n",
    "### k-Means++\n",
    "\n",
    "k-Means++ improves the initialization by selecting the first centroid randomly, and each subsequent centroid is chosen with a probability proportional to its squared distance from the nearest existing centroid. This method tends to result in better clustering.\n"
   ]
  },
  {
   "cell_type": "markdown",
   "id": "9e7981e3",
   "metadata": {},
   "source": [
    "\n",
    "## Implementation in Python\n",
    "\n",
    "We'll implement k-Means Clustering using Scikit-Learn on a synthetic dataset and compare different initialization methods.\n"
   ]
  },
  {
   "cell_type": "code",
   "execution_count": null,
   "id": "f5483222",
   "metadata": {},
   "outputs": [],
   "source": [
    "\n",
    "import numpy as np\n",
    "import matplotlib.pyplot as plt\n",
    "from sklearn.cluster import KMeans\n",
    "from sklearn.datasets import make_blobs\n",
    "from sklearn.metrics import silhouette_score\n",
    "\n",
    "# Create a synthetic dataset\n",
    "X, _ = make_blobs(n_samples=1000, centers=4, cluster_std=0.6, random_state=42)\n",
    "\n",
    "# Define k-means models with different initializations\n",
    "kmeans_random = KMeans(n_clusters=4, init='random', n_init=10, random_state=42)\n",
    "kmeans_plus = KMeans(n_clusters=4, init='k-means++', n_init=10, random_state=42)\n",
    "\n",
    "# Fit the models\n",
    "kmeans_random.fit(X)\n",
    "kmeans_plus.fit(X)\n",
    "\n",
    "# Predict cluster labels\n",
    "labels_random = kmeans_random.predict(X)\n",
    "labels_plus = kmeans_plus.predict(X)\n",
    "\n",
    "# Evaluate the models\n",
    "silhouette_random = silhouette_score(X, labels_random)\n",
    "silhouette_plus = silhouette_score(X, labels_plus)\n",
    "\n",
    "print(f\"Silhouette Score with Random Initialization: {silhouette_random}\")\n",
    "print(f\"Silhouette Score with k-Means++ Initialization: {silhouette_plus}\")\n",
    "\n",
    "# Plot the clusters\n",
    "fig, ax = plt.subplots(1, 2, figsize=(14, 7))\n",
    "ax[0].scatter(X[:, 0], X[:, 1], c=labels_random, cmap='viridis')\n",
    "ax[0].scatter(kmeans_random.cluster_centers_[:, 0], kmeans_random.cluster_centers_[:, 1], s=300, c='red', label='Centroids')\n",
    "ax[0].set_title(\"k-Means with Random Initialization\")\n",
    "ax[1].scatter(X[:, 0], X[:, 1], c=labels_plus, cmap='viridis')\n",
    "ax[1].scatter(kmeans_plus.cluster_centers_[:, 0], kmeans_plus.cluster_centers_[:, 1], s=300, c='red', label='Centroids')\n",
    "ax[1].set_title(\"k-Means with k-Means++ Initialization\")\n",
    "plt.show()\n"
   ]
  },
  {
   "cell_type": "markdown",
   "id": "e98d2576",
   "metadata": {},
   "source": [
    "\n",
    "## Conclusion\n",
    "\n",
    "This notebook provided an overview of k-Means Clustering, focusing on different initialization strategies. We implemented the algorithm using Scikit-Learn and compared the performance of random initialization and k-Means++ on a synthetic dataset. The results demonstrate the importance of proper initialization in achieving better clustering performance.\n"
   ]
  }
 ],
 "metadata": {},
 "nbformat": 4,
 "nbformat_minor": 5
}
