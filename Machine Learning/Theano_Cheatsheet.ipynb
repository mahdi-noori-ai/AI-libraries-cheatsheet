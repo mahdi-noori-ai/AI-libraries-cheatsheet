{
 "cells": [
  {
   "cell_type": "markdown",
   "id": "83843084",
   "metadata": {},
   "source": [
    "# Theano Cheatsheet"
   ]
  },
  {
   "cell_type": "markdown",
   "id": "5bfc32f1",
   "metadata": {},
   "source": [
    "## Import Libraries"
   ]
  },
  {
   "cell_type": "code",
   "execution_count": null,
   "id": "dcc9360f",
   "metadata": {},
   "outputs": [],
   "source": [
    "\n",
    "import theano\n",
    "import theano.tensor as T\n",
    "import numpy as np\n",
    "        "
   ]
  },
  {
   "cell_type": "markdown",
   "id": "02cd70e9",
   "metadata": {},
   "source": [
    "## Basic Operations"
   ]
  },
  {
   "cell_type": "code",
   "execution_count": null,
   "id": "325a3b14",
   "metadata": {},
   "outputs": [],
   "source": [
    "\n",
    "# Define symbolic variables\n",
    "x = T.dscalar('x')\n",
    "y = T.dscalar('y')\n",
    "\n",
    "# Define a simple mathematical expression\n",
    "z = x + y\n",
    "\n",
    "# Compile the expression into a callable object\n",
    "f = theano.function([x, y], z)\n",
    "\n",
    "# Use the function\n",
    "result = f(2, 3)\n",
    "print(\"Result of addition:\", result)\n",
    "        "
   ]
  },
  {
   "cell_type": "markdown",
   "id": "182af456",
   "metadata": {},
   "source": [
    "## Logistic Regression"
   ]
  },
  {
   "cell_type": "code",
   "execution_count": null,
   "id": "25cc56f9",
   "metadata": {},
   "outputs": [],
   "source": [
    "\n",
    "# Define symbolic variables\n",
    "X = T.dmatrix('X')\n",
    "y = T.dvector('y')\n",
    "w = theano.shared(np.random.randn(3), name='w')\n",
    "b = theano.shared(0., name='b')\n",
    "\n",
    "# Define the logistic function\n",
    "p_1 = 1 / (1 + T.exp(-T.dot(X, w) - b))   # Probability that target = 1\n",
    "prediction = p_1 > 0.5                    # Prediction thresholded\n",
    "\n",
    "# Define the cost function\n",
    "xent = -y * T.log(p_1) - (1 - y) * T.log(1 - p_1)\n",
    "cost = xent.mean() + 0.01 * (w ** 2).sum()\n",
    "\n",
    "# Compute the gradient of the cost\n",
    "gw, gb = T.grad(cost, [w, b])\n",
    "\n",
    "# Compile\n",
    "train = theano.function(\n",
    "          inputs=[X, y],\n",
    "          outputs=[prediction, xent],\n",
    "          updates=((w, w - 0.1 * gw), (b, b - 0.1 * gb)))\n",
    "\n",
    "# Generate some data\n",
    "data_X = np.random.randn(100, 3)\n",
    "data_y = (np.random.rand(100) > 0.5).astype(int)\n",
    "\n",
    "# Train the model\n",
    "for i in range(100):\n",
    "    pred, err = train(data_X, data_y)\n",
    "print(\"Training completed.\")\n",
    "        "
   ]
  },
  {
   "cell_type": "markdown",
   "id": "3a0af342",
   "metadata": {},
   "source": [
    "## Matrix Multiplication"
   ]
  },
  {
   "cell_type": "code",
   "execution_count": null,
   "id": "d87e0fb2",
   "metadata": {},
   "outputs": [],
   "source": [
    "\n",
    "# Define symbolic variables\n",
    "A = T.dmatrix('A')\n",
    "B = T.dmatrix('B')\n",
    "\n",
    "# Define the matrix multiplication\n",
    "C = T.dot(A, B)\n",
    "\n",
    "# Compile the expression into a callable object\n",
    "matrix_mult = theano.function([A, B], C)\n",
    "\n",
    "# Use the function\n",
    "result = matrix_mult(np.array([[1, 2], [3, 4]]), np.array([[5, 6], [7, 8]]))\n",
    "print(\"Result of matrix multiplication:\\n\", result)\n",
    "        "
   ]
  },
  {
   "cell_type": "markdown",
   "id": "330451d5",
   "metadata": {},
   "source": [
    "## Differentiation"
   ]
  },
  {
   "cell_type": "code",
   "execution_count": null,
   "id": "0abe8d05",
   "metadata": {},
   "outputs": [],
   "source": [
    "\n",
    "# Define symbolic variables\n",
    "x = T.dscalar('x')\n",
    "\n",
    "# Define a simple mathematical expression\n",
    "y = x ** 2\n",
    "\n",
    "# Compute the gradient of the expression\n",
    "gy = T.grad(y, x)\n",
    "\n",
    "# Compile the expression into a callable object\n",
    "gradient = theano.function([x], gy)\n",
    "\n",
    "# Use the function\n",
    "result = gradient(4)\n",
    "print(\"Gradient of x^2 at x=4:\", result)\n",
    "        "
   ]
  },
  {
   "cell_type": "markdown",
   "id": "0d7552af",
   "metadata": {},
   "source": [
    "## Shared Variables"
   ]
  },
  {
   "cell_type": "code",
   "execution_count": null,
   "id": "2fec9023",
   "metadata": {},
   "outputs": [],
   "source": [
    "\n",
    "# Define a shared variable\n",
    "state = theano.shared(0, name='state')\n",
    "\n",
    "# Define an update expression\n",
    "inc = T.iscalar('inc')\n",
    "updates = [(state, state + inc)]\n",
    "\n",
    "# Compile the function\n",
    "accumulator = theano.function([inc], state, updates=updates)\n",
    "\n",
    "# Use the function\n",
    "print(\"Initial state:\", state.get_value())\n",
    "accumulator(1)\n",
    "print(\"State after incrementing by 1:\", state.get_value())\n",
    "accumulator(10)\n",
    "print(\"State after incrementing by 10:\", state.get_value())\n",
    "\n",
    "# Reset the state\n",
    "state.set_value(0)\n",
    "accumulator(3)\n",
    "print(\"State after resetting and incrementing by 3:\", state.get_value())\n",
    "        "
   ]
  }
 ],
 "metadata": {},
 "nbformat": 4,
 "nbformat_minor": 5
}
