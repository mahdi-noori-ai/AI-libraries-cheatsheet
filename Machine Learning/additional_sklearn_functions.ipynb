{
 "cells": [
  {
   "cell_type": "markdown",
   "id": "51feaf35",
   "metadata": {},
   "source": [
    "# Additional Commonly Used Functions in scikit-learn"
   ]
  },
  {
   "cell_type": "markdown",
   "id": "8182c7e4",
   "metadata": {},
   "source": [
    "In this notebook, we will cover additional commonly used functions in the scikit-learn library, excluding those already covered in the previous notebook."
   ]
  },
  {
   "cell_type": "markdown",
   "id": "a38749f2",
   "metadata": {},
   "source": [
    "## 1. LabelEncoder"
   ]
  },
  {
   "cell_type": "markdown",
   "id": "4adda76a",
   "metadata": {},
   "source": [
    "The `LabelEncoder` function is used to encode target labels with value between 0 and n_classes-1."
   ]
  },
  {
   "cell_type": "code",
   "execution_count": null,
   "id": "b9facbaa",
   "metadata": {},
   "outputs": [],
   "source": [
    "# Example: LabelEncoder\n",
    "from sklearn.preprocessing import LabelEncoder\n",
    "\n",
    "# Sample data\n",
    "data = {'category': ['A', 'B', 'A', 'C']}\n",
    "df = pd.DataFrame(data)\n",
    "\n",
    "# Encode target labels\n",
    "encoder = LabelEncoder()\n",
    "encoded_labels = encoder.fit_transform(df['category'])\n",
    "\n",
    "print(f'Encoded labels: {encoded_labels}')"
   ]
  },
  {
   "cell_type": "markdown",
   "id": "ad72210b",
   "metadata": {},
   "source": [
    "## 2. MinMaxScaler"
   ]
  },
  {
   "cell_type": "markdown",
   "id": "da2457cd",
   "metadata": {},
   "source": [
    "The `MinMaxScaler` function is used to scale features to a given range, usually between 0 and 1."
   ]
  },
  {
   "cell_type": "code",
   "execution_count": null,
   "id": "59334fea",
   "metadata": {},
   "outputs": [],
   "source": [
    "# Example: MinMaxScaler\n",
    "from sklearn.preprocessing import MinMaxScaler\n",
    "\n",
    "# Sample data\n",
    "data = {\n",
    "    'feature1': [1, 2, 3, 4, 5],\n",
    "    'feature2': [10, 20, 30, 40, 50]\n",
    "}\n",
    "df = pd.DataFrame(data)\n",
    "\n",
    "# Scale features\n",
    "scaler = MinMaxScaler()\n",
    "scaled_data = scaler.fit_transform(df)\n",
    "\n",
    "print(f'Scaled data: {scaled_data}')"
   ]
  },
  {
   "cell_type": "markdown",
   "id": "f26ba377",
   "metadata": {},
   "source": [
    "## 3. PolynomialFeatures"
   ]
  },
  {
   "cell_type": "markdown",
   "id": "e4979edf",
   "metadata": {},
   "source": [
    "The `PolynomialFeatures` function is used to generate polynomial and interaction features."
   ]
  },
  {
   "cell_type": "code",
   "execution_count": null,
   "id": "5df380ac",
   "metadata": {},
   "outputs": [],
   "source": [
    "# Example: PolynomialFeatures\n",
    "from sklearn.preprocessing import PolynomialFeatures\n",
    "\n",
    "# Sample data\n",
    "data = {'feature': [1, 2, 3]}\n",
    "df = pd.DataFrame(data)\n",
    "\n",
    "# Generate polynomial features\n",
    "poly = PolynomialFeatures(degree=2)\n",
    "poly_features = poly.fit_transform(df)\n",
    "\n",
    "print(f'Polynomial features: {poly_features}')"
   ]
  },
  {
   "cell_type": "markdown",
   "id": "3a3e4d28",
   "metadata": {},
   "source": [
    "## 4. TfidfVectorizer"
   ]
  },
  {
   "cell_type": "markdown",
   "id": "939d18f8",
   "metadata": {},
   "source": [
    "The `TfidfVectorizer` function is used to convert a collection of raw documents to a matrix of TF-IDF features."
   ]
  },
  {
   "cell_type": "code",
   "execution_count": null,
   "id": "f2b1f122",
   "metadata": {},
   "outputs": [],
   "source": [
    "# Example: TfidfVectorizer\n",
    "from sklearn.feature_extraction.text import TfidfVectorizer\n",
    "\n",
    "# Sample data\n",
    "documents = [\"This is the first document.\", \"This is the second document.\"]\n",
    "\n",
    "# Convert to TF-IDF features\n",
    "vectorizer = TfidfVectorizer()\n",
    "tfidf_matrix = vectorizer.fit_transform(documents)\n",
    "\n",
    "print(f'TF-IDF matrix: {tfidf_matrix.toarray()}')"
   ]
  },
  {
   "cell_type": "markdown",
   "id": "48ed10c3",
   "metadata": {},
   "source": [
    "## 5. SelectKBest"
   ]
  },
  {
   "cell_type": "markdown",
   "id": "66937752",
   "metadata": {},
   "source": [
    "The `SelectKBest` function is used for feature selection by selecting the k best features based on a scoring function."
   ]
  },
  {
   "cell_type": "code",
   "execution_count": null,
   "id": "209f3900",
   "metadata": {},
   "outputs": [],
   "source": [
    "# Example: SelectKBest\n",
    "from sklearn.feature_selection import SelectKBest, f_classif\n",
    "\n",
    "# Sample data\n",
    "data = {\n",
    "    'feature1': [1, 2, 3, 4, 5],\n",
    "    'feature2': [2, 4, 6, 8, 10],\n",
    "    'target': [0, 0, 1, 1, 1]\n",
    "}\n",
    "df = pd.DataFrame(data)\n",
    "\n",
    "# Select the best features\n",
    "X = df[['feature1', 'feature2']]\n",
    "y = df['target']\n",
    "selector = SelectKBest(score_func=f_classif, k=1)\n",
    "best_features = selector.fit_transform(X, y)\n",
    "\n",
    "print(f'Best features: {best_features}')"
   ]
  },
  {
   "cell_type": "markdown",
   "id": "3c22454d",
   "metadata": {},
   "source": [
    "## 6. StratifiedKFold"
   ]
  },
  {
   "cell_type": "markdown",
   "id": "0243c0f5",
   "metadata": {},
   "source": [
    "The `StratifiedKFold` function is used for cross-validation ensuring that each fold has the same proportion of class labels."
   ]
  },
  {
   "cell_type": "code",
   "execution_count": null,
   "id": "b36b8fc6",
   "metadata": {},
   "outputs": [],
   "source": [
    "# Example: StratifiedKFold\n",
    "from sklearn.model_selection import StratifiedKFold\n",
    "\n",
    "# Sample data\n",
    "data = {\n",
    "    'feature1': [1, 2, 3, 4, 5, 6],\n",
    "    'feature2': [2, 4, 6, 8, 10, 12],\n",
    "    'target': [0, 0, 1, 1, 0, 1]\n",
    "}\n",
    "df = pd.DataFrame(data)\n",
    "\n",
    "# Stratified K-Fold cross-validation\n",
    "X = df[['feature1', 'feature2']]\n",
    "y = df['target']\n",
    "skf = StratifiedKFold(n_splits=3)\n",
    "for train_index, test_index in skf.split(X, y):\n",
    "    X_train, X_test = X.iloc[train_index], X.iloc[test_index]\n",
    "    y_train, y_test = y.iloc[train_index], y.iloc[test_index]\n",
    "    print(f'Train indices: {train_index}, Test indices: {test_index}')"
   ]
  },
  {
   "cell_type": "markdown",
   "id": "2bf30e3a",
   "metadata": {},
   "source": [
    "## 7. Mean Absolute Error (MAE)"
   ]
  },
  {
   "cell_type": "markdown",
   "id": "6bc9232d",
   "metadata": {},
   "source": [
    "The `mean_absolute_error` function is used to evaluate the accuracy of a regression model."
   ]
  },
  {
   "cell_type": "code",
   "execution_count": null,
   "id": "273a6608",
   "metadata": {},
   "outputs": [],
   "source": [
    "# Example: Mean Absolute Error\n",
    "from sklearn.metrics import mean_absolute_error\n",
    "\n",
    "# Sample data\n",
    "y_true = [3, -0.5, 2, 7]\n",
    "y_pred = [2.5, 0.0, 2, 8]\n",
    "\n",
    "# Compute MAE\n",
    "mae = mean_absolute_error(y_true, y_pred)\n",
    "print(f'Mean Absolute Error: {mae}')"
   ]
  },
  {
   "cell_type": "markdown",
   "id": "10bcd738",
   "metadata": {},
   "source": [
    "## 8. ROC Curve"
   ]
  },
  {
   "cell_type": "markdown",
   "id": "2abc78f3",
   "metadata": {},
   "source": [
    "The `roc_curve` function is used to compute the Receiver Operating Characteristic (ROC) curve."
   ]
  },
  {
   "cell_type": "code",
   "execution_count": null,
   "id": "e0ebe3b2",
   "metadata": {},
   "outputs": [],
   "source": [
    "# Example: ROC Curve\n",
    "from sklearn.metrics import roc_curve\n",
    "\n",
    "# Sample data\n",
    "y_true = [0, 0, 1, 1]\n",
    "y_scores = [0.1, 0.4, 0.35, 0.8]\n",
    "\n",
    "# Compute ROC curve\n",
    "fpr, tpr, thresholds = roc_curve(y_true, y_scores)\n",
    "print(f'FPR: {fpr}, TPR: {tpr}, Thresholds: {thresholds}')"
   ]
  }
 ],
 "metadata": {},
 "nbformat": 4,
 "nbformat_minor": 5
}
