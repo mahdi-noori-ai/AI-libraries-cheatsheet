{
 "cells": [
  {
   "cell_type": "markdown",
   "id": "6cf7faea",
   "metadata": {},
   "source": [
    "\n",
    "# Random Forests with Gradient Boosting (2000s) Overview\n",
    "\n",
    "This notebook provides an overview of Random Forests and Gradient Boosting, focusing on their development in the 2000s, how they work, and basic implementation.\n"
   ]
  },
  {
   "cell_type": "markdown",
   "id": "869af1c9",
   "metadata": {},
   "source": [
    "\n",
    "## Background\n",
    "\n",
    "### Random Forests\n",
    "\n",
    "Random Forests, introduced by Leo Breiman in 2001, is an ensemble learning method that constructs multiple decision trees and outputs the mode of the classes or mean prediction of the individual trees.\n",
    "\n",
    "### Gradient Boosting\n",
    "\n",
    "Gradient Boosting is a machine learning technique for regression and classification that builds a model in a stage-wise fashion, optimizing a loss function.\n",
    "\n",
    "### Combining Random Forests and Gradient Boosting\n",
    "\n",
    "These methods are often compared or combined in hybrid models to leverage their strengths.\n"
   ]
  },
  {
   "cell_type": "markdown",
   "id": "063d8036",
   "metadata": {},
   "source": [
    "\n",
    "## Implementation in Python\n",
    "\n",
    "We'll implement Random Forests and Gradient Boosting using Scikit-Learn on the Iris dataset.\n"
   ]
  },
  {
   "cell_type": "code",
   "execution_count": null,
   "id": "6176964e",
   "metadata": {},
   "outputs": [],
   "source": [
    "\n",
    "import numpy as np\n",
    "from sklearn import datasets\n",
    "from sklearn.model_selection import train_test_split\n",
    "from sklearn.ensemble import RandomForestClassifier, GradientBoostingClassifier\n",
    "from sklearn.metrics import classification_report\n",
    "\n",
    "# Load dataset\n",
    "iris = datasets.load_iris()\n",
    "X_train, X_test, y_train, y_test = train_test_split(iris.data, iris.target, test_size=0.3, random_state=42)\n",
    "\n",
    "# Random Forest model\n",
    "rf_model = RandomForestClassifier()\n",
    "rf_model.fit(X_train, y_train)\n",
    "y_pred_rf = rf_model.predict(X_test)\n",
    "print(\"Random Forest Classification Report:\")\n",
    "print(classification_report(y_test, y_pred_rf))\n",
    "\n",
    "# Gradient Boosting model\n",
    "gb_model = GradientBoostingClassifier()\n",
    "gb_model.fit(X_train, y_train)\n",
    "y_pred_gb = gb_model.predict(X_test)\n",
    "print(\"Gradient Boosting Classification Report:\")\n",
    "print(classification_report(y_test, y_pred_gb))\n"
   ]
  },
  {
   "cell_type": "markdown",
   "id": "928b0b82",
   "metadata": {},
   "source": [
    "\n",
    "## Conclusion\n",
    "\n",
    "This notebook provided a basic implementation of Random Forests and Gradient Boosting, demonstrating their application on the Iris dataset.\n"
   ]
  }
 ],
 "metadata": {},
 "nbformat": 4,
 "nbformat_minor": 5
}
