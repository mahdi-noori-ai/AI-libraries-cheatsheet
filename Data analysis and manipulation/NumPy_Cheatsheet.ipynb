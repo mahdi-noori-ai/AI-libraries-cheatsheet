{
  "cells": [
    {
      "cell_type": "markdown",
      "id": "76a73ab1",
      "metadata": {
        "id": "76a73ab1"
      },
      "source": [
        "# NumPy Cheatsheet"
      ]
    },
    {
      "cell_type": "markdown",
      "id": "0b13901c",
      "metadata": {
        "id": "0b13901c"
      },
      "source": [
        "## Import Library"
      ]
    },
    {
      "cell_type": "code",
      "execution_count": 1,
      "id": "5d90a9ac",
      "metadata": {
        "id": "5d90a9ac"
      },
      "outputs": [],
      "source": [
        "import numpy as np"
      ]
    },
    {
      "cell_type": "markdown",
      "id": "0bcebc58",
      "metadata": {
        "id": "0bcebc58"
      },
      "source": [
        "## Creating Arrays"
      ]
    },
    {
      "cell_type": "code",
      "execution_count": 2,
      "id": "c2236fd8",
      "metadata": {
        "id": "c2236fd8"
      },
      "outputs": [],
      "source": [
        "\n",
        "# From a list\n",
        "arr_from_list = np.array([1, 2, 3, 4, 5])\n",
        "\n",
        "# From a tuple\n",
        "arr_from_tuple = np.array((1, 2, 3, 4, 5))\n",
        "\n",
        "# From a range\n",
        "arr_range = np.arange(0, 10, 2)\n",
        "\n",
        "# From a random sample\n",
        "arr_random = np.random.random((2, 2))\n",
        ""
      ]
    },
    {
      "cell_type": "markdown",
      "id": "fb66e23d",
      "metadata": {
        "id": "fb66e23d"
      },
      "source": [
        "## Array Properties"
      ]
    },
    {
      "cell_type": "code",
      "execution_count": 3,
      "id": "0988a726",
      "metadata": {
        "colab": {
          "base_uri": "https://localhost:8080/"
        },
        "id": "0988a726",
        "outputId": "78d4507b-d1e0-424b-a9b5-3d0dcba9b6bf"
      },
      "outputs": [
        {
          "output_type": "stream",
          "name": "stdout",
          "text": [
            "Array shape: (2, 3)\n",
            "Array dimensions: 2\n",
            "Array size: 6\n",
            "Array data type: int64\n"
          ]
        }
      ],
      "source": [
        "\n",
        "# Array properties\n",
        "arr = np.array([[1, 2, 3], [4, 5, 6]])\n",
        "print(\"Array shape:\", arr.shape)\n",
        "print(\"Array dimensions:\", arr.ndim)\n",
        "print(\"Array size:\", arr.size)\n",
        "print(\"Array data type:\", arr.dtype)\n",
        ""
      ]
    },
    {
      "cell_type": "markdown",
      "id": "57f47027",
      "metadata": {
        "id": "57f47027"
      },
      "source": [
        "## Array Indexing and Slicing"
      ]
    },
    {
      "cell_type": "code",
      "execution_count": 4,
      "id": "667a3f0e",
      "metadata": {
        "id": "667a3f0e"
      },
      "outputs": [],
      "source": [
        "\n",
        "# Indexing\n",
        "element = arr[0, 1]  # Access element in the first row and second column\n",
        "\n",
        "# Slicing\n",
        "sub_array = arr[:, 1]  # Access all rows and the second column\n",
        "\n",
        "# Boolean Indexing\n",
        "bool_idx = arr > 3\n",
        "filtered_arr = arr[bool_idx]\n",
        ""
      ]
    },
    {
      "cell_type": "markdown",
      "id": "e5a77964",
      "metadata": {
        "id": "e5a77964"
      },
      "source": [
        "## Array Operations"
      ]
    },
    {
      "cell_type": "code",
      "execution_count": 5,
      "id": "a4382e3e",
      "metadata": {
        "id": "a4382e3e"
      },
      "outputs": [],
      "source": [
        "\n",
        "# Element-wise operations\n",
        "add = arr + 1\n",
        "sub = arr - 1\n",
        "mul = arr * 2\n",
        "div = arr / 2\n",
        "power = arr ** 2\n",
        "\n",
        "# Broadcasting\n",
        "broadcast_add = arr + np.array([1, 2, 3])\n",
        "\n",
        "# Mathematical operations\n",
        "log = np.log(arr)\n",
        "exp = np.exp(arr)\n",
        "sqrt = np.sqrt(arr)\n",
        ""
      ]
    },
    {
      "cell_type": "markdown",
      "id": "5994a481",
      "metadata": {
        "id": "5994a481"
      },
      "source": [
        "## Linear Algebra"
      ]
    },
    {
      "cell_type": "code",
      "execution_count": 6,
      "id": "322b85ea",
      "metadata": {
        "id": "322b85ea"
      },
      "outputs": [],
      "source": [
        "\n",
        "# Matrix multiplication\n",
        "dot_product = np.dot(arr, arr.T)\n",
        "\n",
        "# Transpose\n",
        "transpose = arr.T\n",
        "\n",
        "# Determinant\n",
        "det = np.linalg.det(np.eye(3))\n",
        "\n",
        "# Inverse\n",
        "inv_matrix = np.linalg.inv(np.eye(3))\n",
        ""
      ]
    },
    {
      "cell_type": "markdown",
      "id": "cd29e4dc",
      "metadata": {
        "id": "cd29e4dc"
      },
      "source": [
        "## Statistical Functions"
      ]
    },
    {
      "cell_type": "code",
      "execution_count": 7,
      "id": "2a0325d7",
      "metadata": {
        "id": "2a0325d7"
      },
      "outputs": [],
      "source": [
        "\n",
        "# Sum\n",
        "sum_all = np.sum(arr)\n",
        "sum_axis0 = np.sum(arr, axis=0)\n",
        "sum_axis1 = np.sum(arr, axis=1)\n",
        "\n",
        "# Mean\n",
        "mean_all = np.mean(arr)\n",
        "\n",
        "# Standard deviation\n",
        "std_dev = np.std(arr)\n",
        "\n",
        "# Minimum and maximum\n",
        "min_val = np.min(arr)\n",
        "max_val = np.max(arr)\n",
        "\n",
        "# Median\n",
        "median_val = np.median(arr)\n",
        "\n",
        "# Percentile\n",
        "percentile_val = np.percentile(arr, 50)\n",
        ""
      ]
    },
    {
      "cell_type": "markdown",
      "id": "f951d6ba",
      "metadata": {
        "id": "f951d6ba"
      },
      "source": [
        "## Array Manipulation"
      ]
    },
    {
      "cell_type": "code",
      "execution_count": 12,
      "id": "df5f415f",
      "metadata": {
        "id": "df5f415f"
      },
      "outputs": [],
      "source": [
        "\n",
        "# Reshape\n",
        "reshaped = arr.reshape(3, 2)\n",
        "\n",
        "# Flatten\n",
        "flattened = arr.flatten()\n",
        "\n",
        "# Concatenate\n",
        "concatenated = np.concatenate((arr, arr), axis=0)\n",
        "\n",
        "# Stack\n",
        "stacked = np.stack((arr, arr), axis=0)\n",
        "\n",
        "# Tile\n",
        "tiled_arr = np.tile(arr, (2, 1))\n",
        "\n",
        "# Repeat\n",
        "repeated_arr = np.repeat(arr, 2, axis=0)\n",
        ""
      ]
    },
    {
      "cell_type": "markdown",
      "id": "2b43097f",
      "metadata": {
        "id": "2b43097f"
      },
      "source": [
        "## Random Numbers"
      ]
    },
    {
      "cell_type": "code",
      "execution_count": 9,
      "id": "8979b17f",
      "metadata": {
        "id": "8979b17f"
      },
      "outputs": [],
      "source": [
        "\n",
        "# Random array\n",
        "rand_arr = np.random.rand(3, 3)\n",
        "\n",
        "# Random integers\n",
        "randint_arr = np.random.randint(0, 10, (3, 3))\n",
        "\n",
        "# Shuffle\n",
        "shuffled_arr = np.random.permutation(arr)\n",
        "\n",
        "# Unique elements\n",
        "unique_elements = np.unique(arr)\n",
        ""
      ]
    },
    {
      "cell_type": "markdown",
      "id": "4c13cccc",
      "metadata": {
        "id": "4c13cccc"
      },
      "source": [
        "## Sorting"
      ]
    },
    {
      "cell_type": "code",
      "execution_count": 10,
      "id": "fbe9957b",
      "metadata": {
        "id": "fbe9957b"
      },
      "outputs": [],
      "source": [
        "\n",
        "# Sort array\n",
        "sorted_arr = np.sort(arr, axis=0)\n",
        "\n",
        "# Argsort\n",
        "argsorted_indices = np.argsort(arr, axis=0)\n",
        ""
      ]
    },
    {
      "cell_type": "markdown",
      "id": "eb31bc3a",
      "metadata": {
        "id": "eb31bc3a"
      },
      "source": [
        "## Logical Operations"
      ]
    },
    {
      "cell_type": "code",
      "execution_count": 11,
      "id": "2a825329",
      "metadata": {
        "id": "2a825329"
      },
      "outputs": [],
      "source": [
        "\n",
        "# Logical AND\n",
        "logical_and = np.logical_and(arr > 1, arr < 5)\n",
        "\n",
        "# Logical OR\n",
        "logical_or = np.logical_or(arr < 2, arr > 4)\n",
        "\n",
        "# Logical NOT\n",
        "logical_not = np.logical_not(arr > 2)\n",
        ""
      ]
    },
    {
      "cell_type": "code",
      "source": [],
      "metadata": {
        "id": "9GZ8jlEBbvNa"
      },
      "id": "9GZ8jlEBbvNa",
      "execution_count": null,
      "outputs": []
    }
  ],
  "metadata": {
    "colab": {
      "provenance": []
    },
    "language_info": {
      "name": "python"
    },
    "kernelspec": {
      "name": "python3",
      "display_name": "Python 3"
    }
  },
  "nbformat": 4,
  "nbformat_minor": 5
}