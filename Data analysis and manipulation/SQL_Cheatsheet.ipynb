{
 "cells": [
  {
   "cell_type": "markdown",
   "id": "91f40626",
   "metadata": {},
   "source": [
    "# SQL Cheatsheet with Expanded Functions"
   ]
  },
  {
   "cell_type": "markdown",
   "id": "a5fd30be",
   "metadata": {},
   "source": [
    "## Import Libraries and Connect to Database"
   ]
  },
  {
   "cell_type": "code",
   "execution_count": null,
   "id": "be411a60",
   "metadata": {},
   "outputs": [],
   "source": [
    "\n",
    "import sqlite3\n",
    "import pandas as pd\n",
    "\n",
    "# Connect to SQLite database\n",
    "conn = sqlite3.connect('example.db')\n",
    "cursor = conn.cursor()\n",
    "        "
   ]
  },
  {
   "cell_type": "markdown",
   "id": "1135655c",
   "metadata": {},
   "source": [
    "## Create Tables"
   ]
  },
  {
   "cell_type": "code",
   "execution_count": null,
   "id": "c9c3c31e",
   "metadata": {},
   "outputs": [],
   "source": [
    "\n",
    "# Create a new table\n",
    "cursor.execute('''\n",
    "CREATE TABLE IF NOT EXISTS employees (\n",
    "    id INTEGER PRIMARY KEY,\n",
    "    name TEXT NOT NULL,\n",
    "    age INTEGER,\n",
    "    department TEXT,\n",
    "    salary REAL\n",
    ")\n",
    "''')\n",
    "conn.commit()\n",
    "        "
   ]
  },
  {
   "cell_type": "markdown",
   "id": "2fcdc332",
   "metadata": {},
   "source": [
    "## Insert Data"
   ]
  },
  {
   "cell_type": "code",
   "execution_count": null,
   "id": "42ece6a6",
   "metadata": {},
   "outputs": [],
   "source": [
    "\n",
    "# Insert data into the table\n",
    "cursor.execute(\"INSERT INTO employees (name, age, department, salary) VALUES ('Alice', 30, 'HR', 50000)\")\n",
    "cursor.execute(\"INSERT INTO employees (name, age, department, salary) VALUES ('Bob', 25, 'Engineering', 60000)\")\n",
    "cursor.execute(\"INSERT INTO employees (name, age, department, salary) VALUES ('Charlie', 35, 'Finance', 70000)\")\n",
    "conn.commit()\n",
    "        "
   ]
  },
  {
   "cell_type": "markdown",
   "id": "b3156cae",
   "metadata": {},
   "source": [
    "## Query Data"
   ]
  },
  {
   "cell_type": "code",
   "execution_count": null,
   "id": "9c251d1c",
   "metadata": {},
   "outputs": [],
   "source": [
    "\n",
    "# Query data from the table\n",
    "cursor.execute(\"SELECT * FROM employees\")\n",
    "rows = cursor.fetchall()\n",
    "for row in rows:\n",
    "    print(row)\n",
    "        "
   ]
  },
  {
   "cell_type": "markdown",
   "id": "7b564d9b",
   "metadata": {},
   "source": [
    "## Update Data"
   ]
  },
  {
   "cell_type": "code",
   "execution_count": null,
   "id": "9c6a311a",
   "metadata": {},
   "outputs": [],
   "source": [
    "\n",
    "# Update data in the table\n",
    "cursor.execute(\"UPDATE employees SET salary = 65000 WHERE name = 'Bob'\")\n",
    "conn.commit()\n",
    "        "
   ]
  },
  {
   "cell_type": "markdown",
   "id": "bb849207",
   "metadata": {},
   "source": [
    "## Delete Data"
   ]
  },
  {
   "cell_type": "code",
   "execution_count": null,
   "id": "bf2e1537",
   "metadata": {},
   "outputs": [],
   "source": [
    "\n",
    "# Delete data from the table\n",
    "cursor.execute(\"DELETE FROM employees WHERE name = 'Charlie'\")\n",
    "conn.commit()\n",
    "        "
   ]
  },
  {
   "cell_type": "markdown",
   "id": "8f8e65f6",
   "metadata": {},
   "source": [
    "## Aggregate Functions"
   ]
  },
  {
   "cell_type": "code",
   "execution_count": null,
   "id": "5fb93f18",
   "metadata": {},
   "outputs": [],
   "source": [
    "\n",
    "# Count the number of employees\n",
    "cursor.execute(\"SELECT COUNT(*) FROM employees\")\n",
    "count = cursor.fetchone()[0]\n",
    "print(\"Number of employees:\", count)\n",
    "\n",
    "# Calculate the average salary\n",
    "cursor.execute(\"SELECT AVG(salary) FROM employees\")\n",
    "avg_salary = cursor.fetchone()[0]\n",
    "print(\"Average salary:\", avg_salary)\n",
    "\n",
    "# Find the maximum salary\n",
    "cursor.execute(\"SELECT MAX(salary) FROM employees\")\n",
    "max_salary = cursor.fetchone()[0]\n",
    "print(\"Maximum salary:\", max_salary)\n",
    "        "
   ]
  },
  {
   "cell_type": "markdown",
   "id": "9d32ded2",
   "metadata": {},
   "source": [
    "## Group By"
   ]
  },
  {
   "cell_type": "code",
   "execution_count": null,
   "id": "bd150190",
   "metadata": {},
   "outputs": [],
   "source": [
    "\n",
    "# Group by department and calculate average salary\n",
    "cursor.execute(\"SELECT department, AVG(salary) FROM employees GROUP BY department\")\n",
    "rows = cursor.fetchall()\n",
    "for row in rows:\n",
    "    print(row)\n",
    "        "
   ]
  },
  {
   "cell_type": "markdown",
   "id": "ffdf237c",
   "metadata": {},
   "source": [
    "## Join Tables"
   ]
  },
  {
   "cell_type": "code",
   "execution_count": null,
   "id": "938c33d8",
   "metadata": {},
   "outputs": [],
   "source": [
    "\n",
    "# Create another table\n",
    "cursor.execute('''\n",
    "CREATE TABLE IF NOT EXISTS departments (\n",
    "    id INTEGER PRIMARY KEY,\n",
    "    name TEXT NOT NULL,\n",
    "    manager TEXT\n",
    ")\n",
    "''')\n",
    "cursor.execute(\"INSERT INTO departments (name, manager) VALUES ('HR', 'John')\")\n",
    "cursor.execute(\"INSERT INTO departments (name, manager) VALUES ('Engineering', 'Jane')\")\n",
    "cursor.execute(\"INSERT INTO departments (name, manager) VALUES ('Finance', 'Emily')\")\n",
    "conn.commit()\n",
    "\n",
    "# Join the two tables\n",
    "cursor.execute('''\n",
    "SELECT employees.name, employees.department, departments.manager\n",
    "FROM employees\n",
    "JOIN departments ON employees.department = departments.name\n",
    "''')\n",
    "rows = cursor.fetchall()\n",
    "for row in rows:\n",
    "    print(row)\n",
    "        "
   ]
  },
  {
   "cell_type": "markdown",
   "id": "d8d1262c",
   "metadata": {},
   "source": [
    "## Subqueries"
   ]
  },
  {
   "cell_type": "code",
   "execution_count": null,
   "id": "309bf5f9",
   "metadata": {},
   "outputs": [],
   "source": [
    "\n",
    "# Subquery to find employees with salary above the average\n",
    "cursor.execute('''\n",
    "SELECT name, salary FROM employees\n",
    "WHERE salary > (SELECT AVG(salary) FROM employees)\n",
    "''')\n",
    "rows = cursor.fetchall()\n",
    "for row in rows:\n",
    "    print(row)\n",
    "        "
   ]
  },
  {
   "cell_type": "markdown",
   "id": "2ee40479",
   "metadata": {},
   "source": [
    "## Indexing"
   ]
  },
  {
   "cell_type": "code",
   "execution_count": null,
   "id": "c150865c",
   "metadata": {},
   "outputs": [],
   "source": [
    "\n",
    "# Create an index on the salary column\n",
    "cursor.execute(\"CREATE INDEX IF NOT EXISTS idx_salary ON employees (salary)\")\n",
    "conn.commit()\n",
    "        "
   ]
  },
  {
   "cell_type": "markdown",
   "id": "ef5dd29b",
   "metadata": {},
   "source": [
    "## Transactions"
   ]
  },
  {
   "cell_type": "code",
   "execution_count": null,
   "id": "2a99f956",
   "metadata": {},
   "outputs": [],
   "source": [
    "\n",
    "# Begin a transaction\n",
    "conn.execute('BEGIN TRANSACTION')\n",
    "try:\n",
    "    cursor.execute(\"INSERT INTO employees (name, age, department, salary) VALUES ('David', 40, 'HR', 55000)\")\n",
    "    cursor.execute(\"UPDATE employees SET salary = 58000 WHERE name = 'Alice'\")\n",
    "    conn.commit()\n",
    "except Exception as e:\n",
    "    conn.rollback()\n",
    "    print(\"Transaction failed:\", e)\n",
    "        "
   ]
  },
  {
   "cell_type": "markdown",
   "id": "87dfbfab",
   "metadata": {},
   "source": [
    "## Views"
   ]
  },
  {
   "cell_type": "code",
   "execution_count": null,
   "id": "5a3e986c",
   "metadata": {},
   "outputs": [],
   "source": [
    "\n",
    "# Create a view\n",
    "cursor.execute('''\n",
    "CREATE VIEW IF NOT EXISTS high_salary_employees AS\n",
    "SELECT name, salary FROM employees WHERE salary > 55000\n",
    "''')\n",
    "\n",
    "# Query the view\n",
    "cursor.execute(\"SELECT * FROM high_salary_employees\")\n",
    "rows = cursor.fetchall()\n",
    "for row in rows:\n",
    "    print(row)\n",
    "        "
   ]
  },
  {
   "cell_type": "markdown",
   "id": "6620448a",
   "metadata": {},
   "source": [
    "## Closing the Connection"
   ]
  },
  {
   "cell_type": "code",
   "execution_count": null,
   "id": "557ecc83",
   "metadata": {},
   "outputs": [],
   "source": [
    "\n",
    "# Close the database connection\n",
    "conn.close()\n",
    "        "
   ]
  }
 ],
 "metadata": {},
 "nbformat": 4,
 "nbformat_minor": 5
}
