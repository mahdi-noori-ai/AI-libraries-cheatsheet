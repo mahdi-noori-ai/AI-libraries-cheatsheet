{
  "cells": [
    {
      "cell_type": "markdown",
      "id": "c1e13550",
      "metadata": {
        "id": "c1e13550"
      },
      "source": [
        "# Pandas Cheatsheet"
      ]
    },
    {
      "cell_type": "markdown",
      "id": "3e8bf92c",
      "metadata": {
        "id": "3e8bf92c"
      },
      "source": [
        "## Import Library"
      ]
    },
    {
      "cell_type": "code",
      "execution_count": 1,
      "id": "6aa3358d",
      "metadata": {
        "id": "6aa3358d"
      },
      "outputs": [],
      "source": [
        "\n",
        "import pandas as pd\n",
        ""
      ]
    },
    {
      "cell_type": "markdown",
      "id": "2de624a0",
      "metadata": {
        "id": "2de624a0"
      },
      "source": [
        "## Creating DataFrames"
      ]
    },
    {
      "cell_type": "code",
      "execution_count": 2,
      "id": "dbd8a2d7",
      "metadata": {
        "colab": {
          "base_uri": "https://localhost:8080/"
        },
        "id": "dbd8a2d7",
        "outputId": "3ca747ac-4629-40da-b01d-5ef2e9819e2c"
      },
      "outputs": [
        {
          "output_type": "stream",
          "name": "stdout",
          "text": [
            "    Name  Age      City\n",
            "0   John   28  New York\n",
            "1   Anna   24     Paris\n",
            "2  Peter   35    Berlin\n",
            "3  Linda   32    London\n"
          ]
        }
      ],
      "source": [
        "\n",
        "# From a dictionary\n",
        "data = {'Name': ['John', 'Anna', 'Peter', 'Linda'],\n",
        "        'Age': [28, 24, 35, 32],\n",
        "        'City': ['New York', 'Paris', 'Berlin', 'London']}\n",
        "df = pd.DataFrame(data)\n",
        "\n",
        "# From a list of lists\n",
        "data = [['John', 28, 'New York'], ['Anna', 24, 'Paris'], ['Peter', 35, 'Berlin'], ['Linda', 32, 'London']]\n",
        "df_list = pd.DataFrame(data, columns=['Name', 'Age', 'City'])\n",
        "\n",
        "# From a CSV file\n",
        "# df_csv = pd.read_csv('data.csv')\n",
        "\n",
        "# From an Excel file\n",
        "# df_excel = pd.read_excel('data.xlsx', sheet_name='Sheet1')\n",
        "\n",
        "print(df)\n",
        ""
      ]
    },
    {
      "cell_type": "markdown",
      "id": "f124a700",
      "metadata": {
        "id": "f124a700"
      },
      "source": [
        "## Inspecting DataFrames"
      ]
    },
    {
      "cell_type": "code",
      "execution_count": 3,
      "id": "a1aac860",
      "metadata": {
        "colab": {
          "base_uri": "https://localhost:8080/"
        },
        "id": "a1aac860",
        "outputId": "86463c5d-5897-4e78-cd29-736c55143b78"
      },
      "outputs": [
        {
          "output_type": "stream",
          "name": "stdout",
          "text": [
            "    Name  Age      City\n",
            "0   John   28  New York\n",
            "1   Anna   24     Paris\n",
            "2  Peter   35    Berlin\n",
            "3  Linda   32    London\n",
            "    Name  Age      City\n",
            "0   John   28  New York\n",
            "1   Anna   24     Paris\n",
            "2  Peter   35    Berlin\n",
            "3  Linda   32    London\n",
            "(4, 3)\n",
            "Index(['Name', 'Age', 'City'], dtype='object')\n",
            "             Age\n",
            "count   4.000000\n",
            "mean   29.750000\n",
            "std     4.787136\n",
            "min    24.000000\n",
            "25%    27.000000\n",
            "50%    30.000000\n",
            "75%    32.750000\n",
            "max    35.000000\n"
          ]
        }
      ],
      "source": [
        "\n",
        "# Display the first few rows\n",
        "print(df.head())\n",
        "\n",
        "# Display the last few rows\n",
        "print(df.tail())\n",
        "\n",
        "# Display the DataFrame's shape\n",
        "print(df.shape)\n",
        "\n",
        "# Display the DataFrame's columns\n",
        "print(df.columns)\n",
        "\n",
        "# Display summary statistics\n",
        "print(df.describe())\n",
        ""
      ]
    },
    {
      "cell_type": "markdown",
      "id": "02de19f2",
      "metadata": {
        "id": "02de19f2"
      },
      "source": [
        "## Selecting Data"
      ]
    },
    {
      "cell_type": "code",
      "execution_count": 4,
      "id": "91bb063a",
      "metadata": {
        "colab": {
          "base_uri": "https://localhost:8080/"
        },
        "id": "91bb063a",
        "outputId": "697436aa-4bef-47c4-aaa8-20b5824e9a7e"
      },
      "outputs": [
        {
          "output_type": "stream",
          "name": "stdout",
          "text": [
            "0    28\n",
            "1    24\n",
            "2    35\n",
            "3    32\n",
            "Name: Age, dtype: int64\n",
            "    Name  Age\n",
            "0   John   28\n",
            "1   Anna   24\n",
            "2  Peter   35\n",
            "3  Linda   32\n",
            "Name        John\n",
            "Age           28\n",
            "City    New York\n",
            "Name: 0, dtype: object\n",
            "Name        John\n",
            "Age           28\n",
            "City    New York\n",
            "Name: 0, dtype: object\n",
            "    Name  Age    City\n",
            "2  Peter   35  Berlin\n",
            "3  Linda   32  London\n"
          ]
        }
      ],
      "source": [
        "\n",
        "# Select a column\n",
        "age = df['Age']\n",
        "\n",
        "# Select multiple columns\n",
        "name_age = df[['Name', 'Age']]\n",
        "\n",
        "# Select rows by index\n",
        "first_row = df.iloc[0]\n",
        "\n",
        "# Select rows by label\n",
        "first_row_label = df.loc[0]\n",
        "\n",
        "# Boolean indexing\n",
        "adults = df[df['Age'] > 30]\n",
        "\n",
        "print(age)\n",
        "print(name_age)\n",
        "print(first_row)\n",
        "print(first_row_label)\n",
        "print(adults)\n",
        ""
      ]
    },
    {
      "cell_type": "markdown",
      "id": "06d64317",
      "metadata": {
        "id": "06d64317"
      },
      "source": [
        "## Data Cleaning"
      ]
    },
    {
      "cell_type": "code",
      "execution_count": 5,
      "id": "2baff553",
      "metadata": {
        "colab": {
          "base_uri": "https://localhost:8080/"
        },
        "id": "2baff553",
        "outputId": "4f454599-d213-4ff6-f8df-88979265e993"
      },
      "outputs": [
        {
          "output_type": "stream",
          "name": "stdout",
          "text": [
            "    Name  Age      City\n",
            "0   John   28  New York\n",
            "1   Anna   24     Paris\n",
            "2  Peter   35    Berlin\n",
            "3  Linda   32    London\n",
            "    Name  Age      City\n",
            "0   John   28  New York\n",
            "1   Anna   24     Paris\n",
            "2  Peter   35    Berlin\n",
            "3  Linda   32    London\n",
            "    Name  Age      City\n",
            "0   John   28  New York\n",
            "1   Anna   24     Paris\n",
            "2  Peter   35    Berlin\n",
            "3  Linda   32    London\n",
            "    Name  Age    City\n",
            "0   John   28      NY\n",
            "1   Anna   24     PAR\n",
            "2  Peter   35  Berlin\n",
            "3  Linda   32  London\n"
          ]
        }
      ],
      "source": [
        "\n",
        "# Drop missing values\n",
        "df_dropna = df.dropna()\n",
        "\n",
        "# Fill missing values\n",
        "df_fillna = df.fillna(0)\n",
        "\n",
        "# Drop duplicate rows\n",
        "df_noduplicates = df.drop_duplicates()\n",
        "\n",
        "# Replace values\n",
        "df_replace = df.replace({'New York': 'NY', 'Paris': 'PAR'})\n",
        "\n",
        "print(df_dropna)\n",
        "print(df_fillna)\n",
        "print(df_noduplicates)\n",
        "print(df_replace)\n",
        ""
      ]
    },
    {
      "cell_type": "markdown",
      "id": "9d464fa5",
      "metadata": {
        "id": "9d464fa5"
      },
      "source": [
        "## Data Transformation"
      ]
    },
    {
      "cell_type": "code",
      "execution_count": 6,
      "id": "d796fe76",
      "metadata": {
        "colab": {
          "base_uri": "https://localhost:8080/"
        },
        "id": "d796fe76",
        "outputId": "c2f1666c-0bd9-49ed-ae79-ab23644f034d"
      },
      "outputs": [
        {
          "output_type": "stream",
          "name": "stdout",
          "text": [
            "    Name  Age      City    AgePlusCity CityCode\n",
            "0   John   29  New York  29 - New York       NY\n",
            "1   Anna   25     Paris     25 - Paris      PAR\n",
            "2  Peter   36    Berlin    36 - Berlin      BER\n",
            "3  Linda   33    London    33 - London      LDN\n"
          ]
        }
      ],
      "source": [
        "\n",
        "# Apply a function to each element\n",
        "df['Age'] = df['Age'].apply(lambda x: x + 1)\n",
        "\n",
        "# Apply a function to each row/column\n",
        "df['AgePlusCity'] = df.apply(lambda row: f\"{row['Age']} - {row['City']}\", axis=1)\n",
        "\n",
        "# Map values\n",
        "df['CityCode'] = df['City'].map({'New York': 'NY', 'Paris': 'PAR', 'Berlin': 'BER', 'London': 'LDN'})\n",
        "\n",
        "print(df)\n",
        ""
      ]
    },
    {
      "cell_type": "markdown",
      "id": "db48e98e",
      "metadata": {
        "id": "db48e98e"
      },
      "source": [
        "## Grouping and Aggregation"
      ]
    },
    {
      "cell_type": "code",
      "execution_count": 7,
      "id": "02e1ff5e",
      "metadata": {
        "colab": {
          "base_uri": "https://localhost:8080/"
        },
        "id": "02e1ff5e",
        "outputId": "e2d3756c-866f-4afd-a95e-b87c907b4bfd"
      },
      "outputs": [
        {
          "output_type": "stream",
          "name": "stdout",
          "text": [
            "           Age\n",
            "City          \n",
            "Berlin    36.0\n",
            "London    33.0\n",
            "New York  29.0\n",
            "Paris     25.0\n",
            "                 Age    \n",
            "                mean max\n",
            "City     Name           \n",
            "Berlin   Peter  36.0  36\n",
            "London   Linda  33.0  33\n",
            "New York John   29.0  29\n",
            "Paris    Anna   25.0  25\n"
          ]
        }
      ],
      "source": [
        "\n",
        "# Group by column\n",
        "grouped = df.groupby('City')\n",
        "\n",
        "# Aggregate functions\n",
        "grouped_agg = grouped.agg({'Age': 'mean'})\n",
        "\n",
        "# Group by multiple columns\n",
        "grouped_multi = df.groupby(['City', 'Name']).agg({'Age': ['mean', 'max']})\n",
        "\n",
        "print(grouped_agg)\n",
        "print(grouped_multi)\n",
        ""
      ]
    },
    {
      "cell_type": "markdown",
      "id": "9bc469f6",
      "metadata": {
        "id": "9bc469f6"
      },
      "source": [
        "## Merging and Joining"
      ]
    },
    {
      "cell_type": "code",
      "execution_count": 8,
      "id": "eea15e81",
      "metadata": {
        "colab": {
          "base_uri": "https://localhost:8080/"
        },
        "id": "eea15e81",
        "outputId": "66daf551-f9ef-49da-d175-886d77262dfa"
      },
      "outputs": [
        {
          "output_type": "stream",
          "name": "stdout",
          "text": [
            "  key  value_x  value_y\n",
            "0   B        2        4\n",
            "1   C        3        5\n",
            "  key  value1  value2\n",
            "0   A       1     4.0\n",
            "1   B       2     5.0\n",
            "2   C       3     NaN\n"
          ]
        }
      ],
      "source": [
        "\n",
        "# Merge two DataFrames\n",
        "df1 = pd.DataFrame({'key': ['A', 'B', 'C'], 'value': [1, 2, 3]})\n",
        "df2 = pd.DataFrame({'key': ['B', 'C', 'D'], 'value': [4, 5, 6]})\n",
        "merged = pd.merge(df1, df2, on='key', how='inner')\n",
        "\n",
        "# Join two DataFrames\n",
        "df3 = pd.DataFrame({'key': ['A', 'B', 'C'], 'value1': [1, 2, 3]})\n",
        "df4 = pd.DataFrame({'key': ['A', 'B', 'D'], 'value2': [4, 5, 6]})\n",
        "joined = df3.join(df4.set_index('key'), on='key')\n",
        "\n",
        "print(merged)\n",
        "print(joined)\n",
        ""
      ]
    },
    {
      "cell_type": "markdown",
      "id": "5d2497ae",
      "metadata": {
        "id": "5d2497ae"
      },
      "source": [
        "## Pivot Tables"
      ]
    },
    {
      "cell_type": "code",
      "execution_count": 9,
      "id": "ee689483",
      "metadata": {
        "colab": {
          "base_uri": "https://localhost:8080/"
        },
        "id": "ee689483",
        "outputId": "faa33c44-e80f-47ab-a1f9-b110946f97fd"
      },
      "outputs": [
        {
          "output_type": "stream",
          "name": "stdout",
          "text": [
            "Name      Anna  John  Linda  Peter\n",
            "City                              \n",
            "Berlin     NaN   NaN    NaN   36.0\n",
            "London     NaN   NaN   33.0    NaN\n",
            "New York   NaN  29.0    NaN    NaN\n",
            "Paris     25.0   NaN    NaN    NaN\n"
          ]
        }
      ],
      "source": [
        "\n",
        "# Create a pivot table\n",
        "pivot = df.pivot_table(values='Age', index='City', columns='Name', aggfunc='mean')\n",
        "\n",
        "print(pivot)\n",
        ""
      ]
    },
    {
      "cell_type": "markdown",
      "id": "22c5f6e4",
      "metadata": {
        "id": "22c5f6e4"
      },
      "source": [
        "## Working with Dates"
      ]
    },
    {
      "cell_type": "code",
      "execution_count": 10,
      "id": "6dff6f82",
      "metadata": {
        "colab": {
          "base_uri": "https://localhost:8080/"
        },
        "id": "6dff6f82",
        "outputId": "79d1d5ff-c82f-404f-aaec-3b74568e86ea"
      },
      "outputs": [
        {
          "output_type": "stream",
          "name": "stdout",
          "text": [
            "        Date  Value  Year  Month  Day\n",
            "0 2023-01-01    100  2023      1    1\n",
            "1 2023-01-02    200  2023      1    2\n",
            "2 2023-01-03    150  2023      1    3\n"
          ]
        }
      ],
      "source": [
        "\n",
        "# Create a DataFrame with date column\n",
        "data = {'Date': ['2023-01-01', '2023-01-02', '2023-01-03'], 'Value': [100, 200, 150]}\n",
        "df_dates = pd.DataFrame(data)\n",
        "\n",
        "# Convert a column to datetime\n",
        "df_dates['Date'] = pd.to_datetime(df_dates['Date'])\n",
        "\n",
        "# Extract year, month, day\n",
        "df_dates['Year'] = df_dates['Date'].dt.year\n",
        "df_dates['Month'] = df_dates['Date'].dt.month\n",
        "df_dates['Day'] = df_dates['Date'].dt.day\n",
        "\n",
        "print(df_dates)\n",
        ""
      ]
    },
    {
      "cell_type": "markdown",
      "id": "9bb33e28",
      "metadata": {
        "id": "9bb33e28"
      },
      "source": [
        "## Sorting Data"
      ]
    },
    {
      "cell_type": "code",
      "execution_count": 11,
      "id": "d3cb3bd9",
      "metadata": {
        "colab": {
          "base_uri": "https://localhost:8080/"
        },
        "id": "d3cb3bd9",
        "outputId": "5c869435-4a14-4ca0-b2aa-318ba89e7393"
      },
      "outputs": [
        {
          "output_type": "stream",
          "name": "stdout",
          "text": [
            "    Name  Age      City    AgePlusCity CityCode\n",
            "1   Anna   25     Paris     25 - Paris      PAR\n",
            "0   John   29  New York  29 - New York       NY\n",
            "3  Linda   33    London    33 - London      LDN\n",
            "2  Peter   36    Berlin    36 - Berlin      BER\n",
            "    Name  Age      City    AgePlusCity CityCode\n",
            "2  Peter   36    Berlin    36 - Berlin      BER\n",
            "3  Linda   33    London    33 - London      LDN\n",
            "0   John   29  New York  29 - New York       NY\n",
            "1   Anna   25     Paris     25 - Paris      PAR\n"
          ]
        }
      ],
      "source": [
        "\n",
        "# Sort by column\n",
        "sorted_df = df.sort_values(by='Age')\n",
        "\n",
        "# Sort by multiple columns\n",
        "sorted_multi = df.sort_values(by=['Age', 'Name'], ascending=[False, True])\n",
        "\n",
        "print(sorted_df)\n",
        "print(sorted_multi)\n",
        ""
      ]
    },
    {
      "cell_type": "markdown",
      "id": "342be446",
      "metadata": {
        "id": "342be446"
      },
      "source": [
        "## Plotting"
      ]
    },
    {
      "cell_type": "code",
      "execution_count": 12,
      "id": "9141faf4",
      "metadata": {
        "colab": {
          "base_uri": "https://localhost:8080/",
          "height": 1000
        },
        "id": "9141faf4",
        "outputId": "ffc1e762-8125-45cf-f658-8946d0125233"
      },
      "outputs": [
        {
          "output_type": "display_data",
          "data": {
            "text/plain": [
              "<Figure size 640x480 with 1 Axes>"
            ],
            "image/png": "[encoded data removed]"
          },
          "metadata": {}
        },
        {
          "output_type": "display_data",
          "data": {
            "text/plain": [
              "<Figure size 640x480 with 1 Axes>"
            ],
            "image/png": "[encoded data removed]"
          },
          "metadata": {}
        },
        {
          "output_type": "display_data",
          "data": {
            "text/plain": [
              "<Figure size 640x480 with 1 Axes>"
            ],
            "image/png": "[encoded data removed]"
          },
          "metadata": {}
        }
      ],
      "source": [
        "\n",
        "import matplotlib.pyplot as plt\n",
        "\n",
        "# Line plot\n",
        "df['Age'].plot(kind='line')\n",
        "plt.title('Line Plot')\n",
        "plt.xlabel('Index')\n",
        "plt.ylabel('Age')\n",
        "plt.show()\n",
        "\n",
        "# Bar plot\n",
        "df['Age'].plot(kind='bar')\n",
        "plt.title('Bar Plot')\n",
        "plt.xlabel('Index')\n",
        "plt.ylabel('Age')\n",
        "plt.show()\n",
        "\n",
        "# Histogram\n",
        "df['Age'].plot(kind='hist')\n",
        "plt.title('Histogram')\n",
        "plt.xlabel('Age')\n",
        "plt.ylabel('Frequency')\n",
        "plt.show()\n",
        ""
      ]
    },
    {
      "cell_type": "markdown",
      "id": "ae255f8e",
      "metadata": {
        "id": "ae255f8e"
      },
      "source": [
        "## Missing Data Handling"
      ]
    },
    {
      "cell_type": "code",
      "execution_count": 13,
      "id": "2d278207",
      "metadata": {
        "colab": {
          "base_uri": "https://localhost:8080/"
        },
        "id": "2d278207",
        "outputId": "a00caa6f-332a-418d-f745-036d30a38836"
      },
      "outputs": [
        {
          "output_type": "stream",
          "name": "stdout",
          "text": [
            "    Name    Age   City\n",
            "0  False  False  False\n",
            "1  False   True  False\n",
            "2   True  False  False\n",
            "3  False  False   True\n",
            "      Name   Age      City\n",
            "0     John  28.0  New York\n",
            "1     Anna   0.0     Paris\n",
            "2  Unknown  35.0    Berlin\n",
            "3    Linda  32.0   Unknown\n",
            "   Name   Age      City\n",
            "0  John  28.0  New York\n"
          ]
        }
      ],
      "source": [
        "\n",
        "# Create DataFrame with missing values\n",
        "data_with_na = {'Name': ['John', 'Anna', None, 'Linda'],\n",
        "                'Age': [28, None, 35, 32],\n",
        "                'City': ['New York', 'Paris', 'Berlin', None]}\n",
        "df_with_na = pd.DataFrame(data_with_na)\n",
        "\n",
        "# Detect missing values\n",
        "missing_values = df_with_na.isna()\n",
        "\n",
        "# Fill missing values\n",
        "filled_df = df_with_na.fillna({'Name': 'Unknown', 'Age': 0, 'City': 'Unknown'})\n",
        "\n",
        "# Drop rows with missing values\n",
        "dropped_na = df_with_na.dropna()\n",
        "\n",
        "print(missing_values)\n",
        "print(filled_df)\n",
        "print(dropped_na)\n",
        ""
      ]
    },
    {
      "cell_type": "markdown",
      "id": "bb25bff7",
      "metadata": {
        "id": "bb25bff7"
      },
      "source": [
        "## Handling Categorical Data"
      ]
    },
    {
      "cell_type": "code",
      "execution_count": 14,
      "id": "080ad7c6",
      "metadata": {
        "colab": {
          "base_uri": "https://localhost:8080/"
        },
        "id": "080ad7c6",
        "outputId": "4a3f50f8-52fc-4a61-d2ba-361dff63a3fd"
      },
      "outputs": [
        {
          "output_type": "stream",
          "name": "stdout",
          "text": [
            "    Name      City  City_Code\n",
            "0   John  New York          2\n",
            "1   Anna     Paris          3\n",
            "2  Peter    Berlin          0\n",
            "3  Linda    London          1\n"
          ]
        }
      ],
      "source": [
        "\n",
        "# Create DataFrame with categorical data\n",
        "data_cat = {'Name': ['John', 'Anna', 'Peter', 'Linda'],\n",
        "            'City': ['New York', 'Paris', 'Berlin', 'London']}\n",
        "df_cat = pd.DataFrame(data_cat)\n",
        "\n",
        "# Convert to category type\n",
        "df_cat['City'] = df_cat['City'].astype('category')\n",
        "\n",
        "# Encode categorical data\n",
        "df_cat['City_Code'] = df_cat['City'].cat.codes\n",
        "\n",
        "print(df_cat)\n",
        ""
      ]
    },
    {
      "cell_type": "markdown",
      "id": "2b3d2ab3",
      "metadata": {
        "id": "2b3d2ab3"
      },
      "source": [
        "## Handling Large DataFrames"
      ]
    },
    {
      "cell_type": "code",
      "execution_count": 15,
      "id": "9d1da8dd",
      "metadata": {
        "colab": {
          "base_uri": "https://localhost:8080/"
        },
        "id": "9d1da8dd",
        "outputId": "0ad18a93-7b3e-4e68-b561-f3e4b65fd221"
      },
      "outputs": [
        {
          "output_type": "stream",
          "name": "stdout",
          "text": [
            "Index      128\n",
            "A        80000\n",
            "B        80000\n",
            "dtype: int64\n",
            "Index      128\n",
            "A        20000\n",
            "B        20000\n",
            "dtype: int64\n"
          ]
        }
      ],
      "source": [
        "\n",
        "# Create a large DataFrame\n",
        "large_data = {'A': range(1, 10001), 'B': range(10001, 20001)}\n",
        "large_df = pd.DataFrame(large_data)\n",
        "\n",
        "# Display memory usage\n",
        "memory_usage = large_df.memory_usage(deep=True)\n",
        "\n",
        "# Optimize DataFrame memory usage\n",
        "optimized_df = large_df.copy()\n",
        "optimized_df['A'] = pd.to_numeric(optimized_df['A'], downcast='unsigned')\n",
        "optimized_df['B'] = pd.to_numeric(optimized_df['B'], downcast='unsigned')\n",
        "\n",
        "print(memory_usage)\n",
        "print(optimized_df.memory_usage(deep=True))\n",
        ""
      ]
    },
    {
      "cell_type": "code",
      "source": [],
      "metadata": {
        "id": "INLdminbc0n-"
      },
      "id": "INLdminbc0n-",
      "execution_count": 15,
      "outputs": []
    }
  ],
  "metadata": {
    "colab": {
      "provenance": []
    },
    "language_info": {
      "name": "python"
    },
    "kernelspec": {
      "name": "python3",
      "display_name": "Python 3"
    }
  },
  "nbformat": 4,
  "nbformat_minor": 5
}