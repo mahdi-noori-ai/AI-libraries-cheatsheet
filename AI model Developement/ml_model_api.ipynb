{
 "cells": [
  {
   "cell_type": "markdown",
   "id": "3a9eb1fa",
   "metadata": {},
   "source": [
    "# Creating a Machine Learning Model API"
   ]
  },
  {
   "cell_type": "markdown",
   "id": "7d7cb850",
   "metadata": {},
   "source": [
    "In this notebook, we will create a simple Machine Learning (ML) model API using Flask. We will train a model on the iris dataset, set up a Flask web server, and create endpoints to interact with the model."
   ]
  },
  {
   "cell_type": "markdown",
   "id": "eea11561",
   "metadata": {},
   "source": [
    "## 1. Train Your Model"
   ]
  },
  {
   "cell_type": "markdown",
   "id": "6b8b0c91",
   "metadata": {},
   "source": [
    "### Train the Model"
   ]
  },
  {
   "cell_type": "code",
   "execution_count": null,
   "id": "8e9a6b22",
   "metadata": {},
   "outputs": [],
   "source": [
    "import joblib\n",
    "from sklearn.datasets import load_iris\n",
    "from sklearn.model_selection import train_test_split\n",
    "from sklearn.ensemble import RandomForestClassifier\n",
    "\n",
    "# Load dataset\n",
    "iris = load_iris()\n",
    "X, y = iris.data, iris.target\n",
    "\n",
    "# Split the dataset into training and testing sets\n",
    "X_train, X_test, y_train, y_test = train_test_split(X, y, test_size=0.2, random_state=42)\n",
    "\n",
    "# Train a RandomForestClassifier\n",
    "clf = RandomForestClassifier(n_estimators=100, random_state=42)\n",
    "clf.fit(X_train, y_train)\n",
    "\n",
    "# Save the model to a file\n",
    "joblib.dump(clf, 'iris_model.pkl')"
   ]
  },
  {
   "cell_type": "markdown",
   "id": "e6c31ea9",
   "metadata": {},
   "source": [
    "## 2. Set Up the Flask App"
   ]
  },
  {
   "cell_type": "markdown",
   "id": "7ce47f29",
   "metadata": {},
   "source": [
    "### Install Flask"
   ]
  },
  {
   "cell_type": "code",
   "execution_count": null,
   "id": "f453ab64",
   "metadata": {},
   "outputs": [],
   "source": [
    "!pip install flask"
   ]
  },
  {
   "cell_type": "markdown",
   "id": "c026d141",
   "metadata": {},
   "source": [
    "### Create the Flask App"
   ]
  },
  {
   "cell_type": "code",
   "execution_count": null,
   "id": "9b766e5a",
   "metadata": {},
   "outputs": [],
   "source": [
    "from flask import Flask, request, jsonify\n",
    "import joblib\n",
    "import numpy as np\n",
    "\n",
    "# Load the trained model\n",
    "model = joblib.load('iris_model.pkl')\n",
    "\n",
    "app = Flask(__name__)\n",
    "\n",
    "@app.route('/predict', methods=['POST'])\n",
    "def predict():\n",
    "    data = request.get_json(force=True)\n",
    "    predict_request = [data['sepal_length'], data['sepal_width'], data['petal_length'], data['petal_width']]\n",
    "    predict_request = np.array(predict_request).reshape(1, -1)\n",
    "    prediction = model.predict(predict_request)\n",
    "    output = {'species': int(prediction[0])}\n",
    "    return jsonify(output)\n",
    "\n",
    "if __name__ == '__main__':\n",
    "    app.run(port=5000, debug=True)"
   ]
  },
  {
   "cell_type": "markdown",
   "id": "4e76b824",
   "metadata": {},
   "source": [
    "## 3. Run the Flask App"
   ]
  },
  {
   "cell_type": "markdown",
   "id": "b8e50306",
   "metadata": {},
   "source": [
    "To start the server, run the `app.py` file:"
   ]
  },
  {
   "cell_type": "code",
   "execution_count": null,
   "id": "eca1b6ae",
   "metadata": {},
   "outputs": [],
   "source": [
    "!python app.py"
   ]
  },
  {
   "cell_type": "markdown",
   "id": "1a7a41ff",
   "metadata": {},
   "source": [
    "## 4. Test the API"
   ]
  },
  {
   "cell_type": "markdown",
   "id": "bcbda53a",
   "metadata": {},
   "source": [
    "You can test the API using `curl` or a tool like Postman. Here’s an example using `curl`:\n",
    "\n",
    "```bash\n",
    "curl -X POST -H \"Content-Type: application/json\" -d '{\"sepal_length\": 5.1, \"sepal_width\": 3.5, \"petal_length\": 1.4, \"petal_width\": 0.2}' http://localhost:5000/predict\n",
    "```\n",
    "\n",
    "This should return a JSON response with the predicted species."
   ]
  }
 ],
 "metadata": {},
 "nbformat": 4,
 "nbformat_minor": 5
}
