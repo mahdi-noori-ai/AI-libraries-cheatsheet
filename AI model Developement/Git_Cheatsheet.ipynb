{
 "cells": [
  {
   "cell_type": "markdown",
   "id": "8ec4805e",
   "metadata": {},
   "source": [
    "# Git Cheatsheet with Expanded Functions"
   ]
  },
  {
   "cell_type": "markdown",
   "id": "62bcfa47",
   "metadata": {},
   "source": [
    "## Setting Up Git"
   ]
  },
  {
   "cell_type": "code",
   "execution_count": null,
   "id": "4dc569c5",
   "metadata": {},
   "outputs": [],
   "source": [
    "\n",
    "# Configure Git with user information\n",
    "!git config --global user.name \"Your Name\"\n",
    "!git config --global user.email \"your.email@example.com\"\n",
    "\n",
    "# Verify configuration\n",
    "!git config --global --list\n",
    "        "
   ]
  },
  {
   "cell_type": "markdown",
   "id": "487be48d",
   "metadata": {},
   "source": [
    "## Initializing a Repository"
   ]
  },
  {
   "cell_type": "code",
   "execution_count": null,
   "id": "fb1aca4c",
   "metadata": {},
   "outputs": [],
   "source": [
    "\n",
    "# Initialize a new Git repository\n",
    "!git init my-repo\n",
    "\n",
    "# Change directory to the new repository\n",
    "%cd my-repo\n",
    "        "
   ]
  },
  {
   "cell_type": "markdown",
   "id": "693275fc",
   "metadata": {},
   "source": [
    "## Cloning a Repository"
   ]
  },
  {
   "cell_type": "code",
   "execution_count": null,
   "id": "cc72bbdd",
   "metadata": {},
   "outputs": [],
   "source": [
    "\n",
    "# Clone a remote repository\n",
    "!git clone https://github.com/username/repository.git\n",
    "\n",
    "# Change directory to the cloned repository\n",
    "%cd repository\n",
    "        "
   ]
  },
  {
   "cell_type": "markdown",
   "id": "2b6291c3",
   "metadata": {},
   "source": [
    "## Basic Git Commands"
   ]
  },
  {
   "cell_type": "code",
   "execution_count": null,
   "id": "ae73f66d",
   "metadata": {},
   "outputs": [],
   "source": [
    "\n",
    "# Check the status of the repository\n",
    "!git status\n",
    "\n",
    "# Add files to the staging area\n",
    "!echo \"print('Hello, world!')\" > hello.py\n",
    "!git add hello.py\n",
    "\n",
    "# Commit changes\n",
    "!git commit -m \"Add hello.py\"\n",
    "\n",
    "# Push changes to the remote repository\n",
    "!git push origin main\n",
    "        "
   ]
  },
  {
   "cell_type": "markdown",
   "id": "0805c2da",
   "metadata": {},
   "source": [
    "## Branching and Merging"
   ]
  },
  {
   "cell_type": "code",
   "execution_count": null,
   "id": "752acb83",
   "metadata": {},
   "outputs": [],
   "source": [
    "\n",
    "# Create a new branch\n",
    "!git checkout -b new-branch\n",
    "\n",
    "# List all branches\n",
    "!git branch\n",
    "\n",
    "# Switch to another branch\n",
    "!git checkout main\n",
    "\n",
    "# Merge a branch into the current branch\n",
    "!git merge new-branch\n",
    "        "
   ]
  },
  {
   "cell_type": "markdown",
   "id": "0dedf682",
   "metadata": {},
   "source": [
    "## Resolving Conflicts"
   ]
  },
  {
   "cell_type": "code",
   "execution_count": null,
   "id": "f8b6dd6a",
   "metadata": {},
   "outputs": [],
   "source": [
    "\n",
    "# Create a conflict by editing the same file in different branches\n",
    "!echo \"print('Conflict')\" > conflict.py\n",
    "!git add conflict.py\n",
    "!git commit -m \"Create conflict\"\n",
    "\n",
    "# Merge and resolve conflicts\n",
    "!git merge new-branch\n",
    "!git status  # Check for conflicts\n",
    "\n",
    "# After resolving conflicts manually, add and commit changes\n",
    "!git add conflict.py\n",
    "!git commit -m \"Resolve conflict\"\n",
    "        "
   ]
  },
  {
   "cell_type": "markdown",
   "id": "61182a85",
   "metadata": {},
   "source": [
    "## Stashing Changes"
   ]
  },
  {
   "cell_type": "code",
   "execution_count": null,
   "id": "403d0a60",
   "metadata": {},
   "outputs": [],
   "source": [
    "\n",
    "# Make changes and stash them\n",
    "!echo \"print('Stashed changes')\" > stash.py\n",
    "!git add stash.py\n",
    "!git stash\n",
    "\n",
    "# List stashes\n",
    "!git stash list\n",
    "\n",
    "# Apply stashed changes\n",
    "!git stash apply\n",
    "        "
   ]
  },
  {
   "cell_type": "markdown",
   "id": "560df193",
   "metadata": {},
   "source": [
    "## Viewing Commit History"
   ]
  },
  {
   "cell_type": "code",
   "execution_count": null,
   "id": "b53baca7",
   "metadata": {},
   "outputs": [],
   "source": [
    "\n",
    "# View commit history\n",
    "!git log\n",
    "\n",
    "# View a more concise commit history\n",
    "!git log --oneline --graph --decorate\n",
    "        "
   ]
  },
  {
   "cell_type": "markdown",
   "id": "dd710d25",
   "metadata": {},
   "source": [
    "## Reverting and Resetting"
   ]
  },
  {
   "cell_type": "code",
   "execution_count": null,
   "id": "06ef2fac",
   "metadata": {},
   "outputs": [],
   "source": [
    "\n",
    "# Revert a commit\n",
    "!git revert HEAD\n",
    "\n",
    "# Reset to a previous commit\n",
    "!git reset --hard HEAD~1\n",
    "        "
   ]
  },
  {
   "cell_type": "markdown",
   "id": "9308794c",
   "metadata": {},
   "source": [
    "## Working with Remotes"
   ]
  },
  {
   "cell_type": "code",
   "execution_count": null,
   "id": "5d1c83fb",
   "metadata": {},
   "outputs": [],
   "source": [
    "\n",
    "# Add a remote repository\n",
    "!git remote add origin https://github.com/username/repository.git\n",
    "\n",
    "# List remote repositories\n",
    "!git remote -v\n",
    "\n",
    "# Fetch changes from the remote repository\n",
    "!git fetch origin\n",
    "\n",
    "# Pull changes from the remote repository\n",
    "!git pull origin main\n",
    "\n",
    "# Push changes to the remote repository\n",
    "!git push origin main\n",
    "        "
   ]
  },
  {
   "cell_type": "markdown",
   "id": "08d2a47a",
   "metadata": {},
   "source": [
    "## Tags and Releases"
   ]
  },
  {
   "cell_type": "code",
   "execution_count": null,
   "id": "c12fe38d",
   "metadata": {},
   "outputs": [],
   "source": [
    "\n",
    "# Create a new tag\n",
    "!git tag v1.0\n",
    "\n",
    "# List all tags\n",
    "!git tag\n",
    "\n",
    "# Push tags to the remote repository\n",
    "!git push origin --tags\n",
    "        "
   ]
  },
  {
   "cell_type": "markdown",
   "id": "55ab05bc",
   "metadata": {},
   "source": [
    "## Aliases"
   ]
  },
  {
   "cell_type": "code",
   "execution_count": null,
   "id": "7afdff1b",
   "metadata": {},
   "outputs": [],
   "source": [
    "\n",
    "# Create Git aliases\n",
    "!git config --global alias.st status\n",
    "!git config --global alias.co checkout\n",
    "!git config --global alias.ci commit\n",
    "!git config --global alias.br branch\n",
    "\n",
    "# Verify aliases\n",
    "!git config --global --list\n",
    "        "
   ]
  },
  {
   "cell_type": "markdown",
   "id": "04890f71",
   "metadata": {},
   "source": [
    "## Cleaning Up"
   ]
  },
  {
   "cell_type": "code",
   "execution_count": null,
   "id": "23e1353e",
   "metadata": {},
   "outputs": [],
   "source": [
    "\n",
    "# Remove untracked files\n",
    "!git clean -f\n",
    "\n",
    "# Remove untracked directories\n",
    "!git clean -fd\n",
    "        "
   ]
  },
  {
   "cell_type": "markdown",
   "id": "e436c815",
   "metadata": {},
   "source": [
    "## Ignoring Files"
   ]
  },
  {
   "cell_type": "code",
   "execution_count": null,
   "id": "b34d4d38",
   "metadata": {},
   "outputs": [],
   "source": [
    "\n",
    "# Create a .gitignore file\n",
    "!echo \"*.log\" > .gitignore\n",
    "!echo \"__pycache__/\" >> .gitignore\n",
    "\n",
    "# Add .gitignore to the repository\n",
    "!git add .gitignore\n",
    "!git commit -m \"Add .gitignore\"\n",
    "        "
   ]
  },
  {
   "cell_type": "markdown",
   "id": "eae54d0d",
   "metadata": {},
   "source": [
    "## Submodules"
   ]
  },
  {
   "cell_type": "code",
   "execution_count": null,
   "id": "575ae89c",
   "metadata": {},
   "outputs": [],
   "source": [
    "\n",
    "# Add a submodule\n",
    "!git submodule add https://github.com/username/submodule-repo.git\n",
    "\n",
    "# Initialize and update submodules\n",
    "!git submodule update --init --recursive\n",
    "\n",
    "# List submodules\n",
    "!git submodule\n",
    "\n",
    "# Remove a submodule\n",
    "!git submodule deinit -f -- submodule-repo\n",
    "!rm -rf .git/modules/submodule-repo\n",
    "!git rm -f submodule-repo\n",
    "        "
   ]
  }
 ],
 "metadata": {},
 "nbformat": 4,
 "nbformat_minor": 5
}
