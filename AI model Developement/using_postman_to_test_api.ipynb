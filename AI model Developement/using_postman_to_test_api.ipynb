{
 "cells": [
  {
   "cell_type": "markdown",
   "id": "0f6433ee",
   "metadata": {},
   "source": [
    "# Using Postman to Test Your ML Model API"
   ]
  },
  {
   "cell_type": "markdown",
   "id": "9519c2fb",
   "metadata": {},
   "source": [
    "In this notebook, we will guide you through the process of using Postman to test your Machine Learning (ML) model API. Postman is a powerful tool for testing APIs and will help you ensure your API is working correctly."
   ]
  },
  {
   "cell_type": "markdown",
   "id": "db264891",
   "metadata": {},
   "source": [
    "## 1. Install Postman"
   ]
  },
  {
   "cell_type": "markdown",
   "id": "324e8ba2",
   "metadata": {},
   "source": [
    "Download and install Postman from the [official website](https://www.postman.com/downloads/)."
   ]
  },
  {
   "cell_type": "markdown",
   "id": "1e120f2f",
   "metadata": {},
   "source": [
    "## 2. Set Up Your API"
   ]
  },
  {
   "cell_type": "markdown",
   "id": "63d8a77f",
   "metadata": {},
   "source": [
    "Before using Postman, ensure your Flask API is running. Follow the steps in the previous notebook to train your model and start the Flask server.\n",
    "\n",
    "```bash\n",
    "python app.py\n",
    "```"
   ]
  },
  {
   "cell_type": "markdown",
   "id": "54aea021",
   "metadata": {},
   "source": [
    "## 3. Create a New Request in Postman"
   ]
  },
  {
   "cell_type": "markdown",
   "id": "fac17b51",
   "metadata": {},
   "source": [
    "1. **Open Postman** and click on **New**.\n",
    "2. Select **Request**."
   ]
  },
  {
   "cell_type": "markdown",
   "id": "ed2eb40a",
   "metadata": {},
   "source": [
    "## 4. Configure the Request"
   ]
  },
  {
   "cell_type": "markdown",
   "id": "199c6b78",
   "metadata": {},
   "source": [
    "### Set Up the URL and Method"
   ]
  },
  {
   "cell_type": "markdown",
   "id": "dbbc570e",
   "metadata": {},
   "source": [
    "1. **Enter the request URL**: `http://localhost:5000/predict`\n",
    "2. **Select the request method**: `POST`"
   ]
  },
  {
   "cell_type": "markdown",
   "id": "e64efbea",
   "metadata": {},
   "source": [
    "### Set Up the Headers"
   ]
  },
  {
   "cell_type": "markdown",
   "id": "d8c10b9f",
   "metadata": {},
   "source": [
    "1. Click on the **Headers** tab.\n",
    "2. Add a new header:\n",
    "    - **Key**: `Content-Type`\n",
    "    - **Value**: `application/json`"
   ]
  },
  {
   "cell_type": "markdown",
   "id": "69d64b5c",
   "metadata": {},
   "source": [
    "### Set Up the Body"
   ]
  },
  {
   "cell_type": "markdown",
   "id": "3c41147a",
   "metadata": {},
   "source": [
    "1. Click on the **Body** tab.\n",
    "2. Select **raw** and choose **JSON** from the dropdown.\n",
    "3. Enter the JSON data for the request. For example:\n",
    "\n",
    "```json\n",
    "{\n",
    "    \"sepal_length\": 5.1,\n",
    "    \"sepal_width\": 3.5,\n",
    "    \"petal_length\": 1.4,\n",
    "    \"petal_width\": 0.2\n",
    "}\n",
    "```"
   ]
  },
  {
   "cell_type": "markdown",
   "id": "18bf78c9",
   "metadata": {},
   "source": [
    "## 5. Send the Request"
   ]
  },
  {
   "cell_type": "markdown",
   "id": "3e0240ba",
   "metadata": {},
   "source": [
    "1. Click the **Send** button.\n",
    "2. View the response from the server in the lower section of the Postman interface. You should see a JSON response with the predicted species."
   ]
  }
 ],
 "metadata": {},
 "nbformat": 4,
 "nbformat_minor": 5
}
